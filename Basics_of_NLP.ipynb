{
  "nbformat": 4,
  "nbformat_minor": 0,
  "metadata": {
    "colab": {
      "provenance": []
    },
    "kernelspec": {
      "name": "python3",
      "display_name": "Python 3"
    },
    "language_info": {
      "name": "python"
    }
  },
  "cells": [
    {
      "cell_type": "markdown",
      "source": [
        "**Before you dive into the implementations, I highly recommend first learning the heart of each concept —its core idea and where we use. You can explore this through YouTube tutorials, books, or online courses. This repository is meant to complement that knowledge by showing how to translate concepts into working code.**\n",
        "\n",
        "\n",
        "#NLP Basics: A Comprehensive Guide in Python\n",
        "\n",
        "This repository contains implementations of fundamental NLP concepts using Python. Each section provides an explanation of the concept along with a runnable code snippet—perfect for learning, experimenting, and building a basic  foundation in Natural Language Processing.\n",
        "\n",
        "\n"
      ],
      "metadata": {
        "id": "R5Xhng9yllAL"
      }
    },
    {
      "cell_type": "markdown",
      "source": [
        "#1. Tokenization\n",
        "\n",
        "**Explanation:**\n",
        "\n",
        "Tokenization is the process of splitting text into smaller units called tokens (which could be words, sentences, or characters). This is often the first step in text processing.\n",
        "\n",
        "**Example (using NLTK):**"
      ],
      "metadata": {
        "id": "UuPvpnxmJlQy"
      }
    },
    {
      "cell_type": "code",
      "source": [
        "import nltk\n",
        "nltk.download('punkt_tab')  # download required tokenizer models\n",
        "\n",
        "text = \"Hello, world! Welcome to NLP.\"\n",
        "tokens = nltk.word_tokenize(text)\n",
        "print(\"Tokens:\", tokens )"
      ],
      "metadata": {
        "colab": {
          "base_uri": "https://localhost:8080/"
        },
        "id": "geZlHd60Mym7",
        "outputId": "f469c09a-69bf-43de-edff-57fe823ebf1f"
      },
      "execution_count": 3,
      "outputs": [
        {
          "output_type": "stream",
          "name": "stdout",
          "text": [
            "Tokens: ['Hello', ',', 'world', '!', 'Welcome', 'to', 'NLP', '.']\n"
          ]
        },
        {
          "output_type": "stream",
          "name": "stderr",
          "text": [
            "[nltk_data] Downloading package punkt_tab to /root/nltk_data...\n",
            "[nltk_data]   Package punkt_tab is already up-to-date!\n"
          ]
        }
      ]
    },
    {
      "cell_type": "markdown",
      "source": [
        "#2. Case Folding\n",
        "\n",
        "**Explanation:**\n",
        "Case folding converts text into a uniform case (usually lowercase) to reduce variations and standardize the input for further processing.\n",
        "\n",
        "**Example:**"
      ],
      "metadata": {
        "id": "db1vWV6oJt46"
      }
    },
    {
      "cell_type": "code",
      "source": [
        "text = \"Hello, World! This is NLP.\"\n",
        "text_lower=text.lower()\n",
        "print(\"Lowercase Text:\", text_lower)\n"
      ],
      "metadata": {
        "colab": {
          "base_uri": "https://localhost:8080/"
        },
        "id": "ELswRgrQO0JN",
        "outputId": "e60b77e3-2815-42ab-e33f-182fcc18ea53"
      },
      "execution_count": 4,
      "outputs": [
        {
          "output_type": "stream",
          "name": "stdout",
          "text": [
            "Lowercase Text: hello, world! this is nlp.\n"
          ]
        }
      ]
    },
    {
      "cell_type": "markdown",
      "source": [
        "#3. Stop Words Removal\n",
        "\n",
        "**Explanation:**\n",
        "Stop words are common words (like \"the\", \"is\", \"and\") that often carry little useful meaning. Removing them can help focus on the important words."
      ],
      "metadata": {
        "id": "d5FxjDHzJ3RZ"
      }
    },
    {
      "cell_type": "code",
      "source": [
        "import nltk\n",
        "nltk.download('stopwords')\n",
        "from nltk.corpus import stopwords\n",
        "\n",
        "text = \"This is an example showing removal of stop words from the text.\"\n",
        "tokens = nltk.word_tokenize(text)\n",
        "\n",
        "filtered_tokens=[word for word in tokens if word.lower() not in stopwords.words('english')]\n",
        "print(\"Words after removing stop words:\", filtered_tokens)"
      ],
      "metadata": {
        "colab": {
          "base_uri": "https://localhost:8080/"
        },
        "id": "AengvEo3QdWb",
        "outputId": "ff2cf49b-4e22-4470-d902-f239c6e6abaf"
      },
      "execution_count": 6,
      "outputs": [
        {
          "output_type": "stream",
          "name": "stdout",
          "text": [
            "Words after removing stop words: ['example', 'showing', 'removal', 'stop', 'words', 'text', '.']\n"
          ]
        },
        {
          "output_type": "stream",
          "name": "stderr",
          "text": [
            "[nltk_data] Downloading package stopwords to /root/nltk_data...\n",
            "[nltk_data]   Package stopwords is already up-to-date!\n"
          ]
        }
      ]
    },
    {
      "cell_type": "markdown",
      "source": [
        "#4. Stemming\n",
        "\n",
        "**Explanation:**\n",
        "Stemming reduces words to their base or root form by chopping off word endings using simple heuristic rules (which may sometimes lead to non-dictionary stems)."
      ],
      "metadata": {
        "id": "HG5GwHAPKBdw"
      }
    },
    {
      "cell_type": "code",
      "source": [
        "from nltk.stem import PorterStemmer\n",
        "\n",
        "stemmer = nltk.PorterStemmer()\n",
        "words = [\"running\", \"runner\", \"ran\", \"runs\"]\n",
        "\n",
        "stemmed_words=[stemmer.stem(word) for word in words]\n",
        "print('Stemmed Words:', stemmed_words)\n"
      ],
      "metadata": {
        "colab": {
          "base_uri": "https://localhost:8080/"
        },
        "id": "5POJ0kmWyR_v",
        "outputId": "400c377b-49da-49aa-ce23-03678aa46b69"
      },
      "execution_count": 10,
      "outputs": [
        {
          "output_type": "stream",
          "name": "stdout",
          "text": [
            "Stemmed Words: ['run', 'runner', 'ran', 'run']\n"
          ]
        }
      ]
    },
    {
      "cell_type": "markdown",
      "source": [
        "#5. Lemmatization\n",
        "\n",
        "Explanation:\n",
        "Lemmatization also reduces words to their base form (lemma) but uses a dictionary and considers the context, ensuring the result is an actual word.\n",
        "\n",
        "**Example (using NLTK’s WordNetLemmatizer):**"
      ],
      "metadata": {
        "id": "KIOwJxiDKJan"
      }
    },
    {
      "cell_type": "code",
      "source": [
        "from nltk.stem import WordNetLemmatizer\n",
        "nltk.download('wordnet')\n",
        "nltk.download('omw-1.4')\n",
        "\n",
        "lemmatizer = WordNetLemmatizer()\n",
        "word = \"running\"\n",
        "lemma = lemmatizer.lemmatize(word, pos='v')  # 'v' specifies the word is used as a verb\n",
        "print(\"Lemma of 'running':\", lemma)\n",
        "print('running:', lemma)"
      ],
      "metadata": {
        "colab": {
          "base_uri": "https://localhost:8080/"
        },
        "id": "ls5o_EXLzGNv",
        "outputId": "e1c12398-c52e-4a1d-b0de-ce67389ee0ce"
      },
      "execution_count": 11,
      "outputs": [
        {
          "output_type": "stream",
          "name": "stderr",
          "text": [
            "[nltk_data] Downloading package wordnet to /root/nltk_data...\n",
            "[nltk_data] Downloading package omw-1.4 to /root/nltk_data...\n"
          ]
        },
        {
          "output_type": "stream",
          "name": "stdout",
          "text": [
            "Lemma of 'running': run\n",
            "running: run\n"
          ]
        }
      ]
    },
    {
      "cell_type": "markdown",
      "source": [
        "#6. Part-of-Speech (POS) Tagging\n",
        "\n",
        "**Explanation:**\n",
        "POS tagging assigns each token a part-of-speech tag (e.g., noun, verb, adjective) that indicates its grammatical role."
      ],
      "metadata": {
        "id": "ZJhljRJyKRTB"
      }
    },
    {
      "cell_type": "code",
      "source": [
        "text = \"The quick brown fox jumps over the lazy dog.\"\n",
        "nltk.download('averaged_perceptron_tagger')\n",
        "tokens = nltk.word_tokenize(text)\n",
        "pos_tags = nltk.pos_tag(tokens)\n",
        "print(\"POS Tags:\", pos_tags)\n"
      ],
      "metadata": {
        "colab": {
          "base_uri": "https://localhost:8080/"
        },
        "id": "uu--PPQP0kyn",
        "outputId": "8a2479e0-9b7e-4c58-d8f9-92659d86457f"
      },
      "execution_count": 16,
      "outputs": [
        {
          "output_type": "stream",
          "name": "stdout",
          "text": [
            "POS Tags: [('The', 'DT'), ('quick', 'JJ'), ('brown', 'NN'), ('fox', 'NN'), ('jumps', 'VBZ'), ('over', 'IN'), ('the', 'DT'), ('lazy', 'JJ'), ('dog', 'NN'), ('.', '.')]\n"
          ]
        },
        {
          "output_type": "stream",
          "name": "stderr",
          "text": [
            "[nltk_data] Downloading package averaged_perceptron_tagger to\n",
            "[nltk_data]     /root/nltk_data...\n",
            "[nltk_data]   Unzipping taggers/averaged_perceptron_tagger.zip.\n"
          ]
        }
      ]
    },
    {
      "cell_type": "markdown",
      "source": [
        "Here's a brief explanation of the\n",
        "\n",
        "POS tags:\n",
        "\n",
        "*  DT: Determiner\n",
        "* JJ: Adjective\n",
        "* NN: Noun, singular or mass\n",
        "*VBZ: Verb, 3rd person singular present\n",
        "*IN: Preposition or subordinating conjunction\n",
        "*.: Punctuation mark\n",
        "\n",
        "For more detailed information on POS tags and their meanings, you can refer to the NLTK documentation."
      ],
      "metadata": {
        "id": "KCVtNZkj2bCA"
      }
    },
    {
      "cell_type": "markdown",
      "source": [
        "#7. Named Entity Recognition (NER)\n",
        "\n",
        "**Explanation:**\n",
        "NER identifies and classifies named entities in text such as names of people, organizations, locations, etc.\n",
        "\n",
        "**Example (using spaCy):**"
      ],
      "metadata": {
        "id": "RmHl04XNKcRZ"
      }
    },
    {
      "cell_type": "code",
      "source": [
        "!python -m spacy download en_core_web_sm  # download spaCy model"
      ],
      "metadata": {
        "id": "hCdlzXxp03Mt"
      },
      "execution_count": null,
      "outputs": []
    },
    {
      "cell_type": "code",
      "source": [
        "import spacy\n",
        "nlp = spacy.load('en_core_web_sm')\n",
        "\n",
        "text = \"Apple is looking to buy a startup in the U.K. for $1 billion.\"\n",
        "\n",
        "doc = nlp(text)\n",
        "\n",
        "print(\"Named Entities:\")\n",
        "for ent in doc.ents:\n",
        "  print(ent.text, ent.label_)\n"
      ],
      "metadata": {
        "colab": {
          "base_uri": "https://localhost:8080/"
        },
        "id": "AiYm38CA3SJm",
        "outputId": "65628c3b-cccb-448a-af33-326b9f6430ab"
      },
      "execution_count": 19,
      "outputs": [
        {
          "output_type": "stream",
          "name": "stdout",
          "text": [
            "Named Entities:\n",
            "Apple ORG\n",
            "U.K. GPE\n",
            "$1 billion MONEY\n"
          ]
        }
      ]
    },
    {
      "cell_type": "markdown",
      "source": [
        "#8. Parsing\n",
        "\n",
        "**Explanation:**\n",
        "Parsing involves analyzing the syntactic structure of a sentence. Dependency parsing, for example, shows how words in a sentence are related to each other."
      ],
      "metadata": {
        "id": "MGFHquACKndj"
      }
    },
    {
      "cell_type": "code",
      "source": [
        "doc = nlp(\"The quick brown fox jumps over the lazy dog.\")\n",
        "print(\"Dependency Parse:\")\n",
        "for token in doc:\n",
        "    print(f\"{token.text:10s} --> {token.dep_:10s} --> {token.head.text}\")\n"
      ],
      "metadata": {
        "colab": {
          "base_uri": "https://localhost:8080/"
        },
        "id": "5gj0Rlz94GKM",
        "outputId": "bca183a6-40f0-440e-a923-672517adc291"
      },
      "execution_count": 20,
      "outputs": [
        {
          "output_type": "stream",
          "name": "stdout",
          "text": [
            "Dependency Parse:\n",
            "The        --> det        --> fox\n",
            "quick      --> amod       --> fox\n",
            "brown      --> amod       --> fox\n",
            "fox        --> nsubj      --> jumps\n",
            "jumps      --> ROOT       --> jumps\n",
            "over       --> prep       --> jumps\n",
            "the        --> det        --> dog\n",
            "lazy       --> amod       --> dog\n",
            "dog        --> pobj       --> over\n",
            ".          --> punct      --> jumps\n"
          ]
        }
      ]
    },
    {
      "cell_type": "markdown",
      "source": [
        "jumps ──► fox (nsubj)\n",
        "\n",
        "  │\n",
        "\n",
        "  ├──► The (det)\n",
        "\n",
        "  ├──► quick (amod)\n",
        "\n",
        "  ├──► brown (amod)\n",
        "\n",
        "  ├──► over (prep)\n",
        "\n",
        "  │     └──► dog (pobj)\n",
        "\n",
        "  │           |──► the (det)\n",
        "\n",
        "  │         └──► lazy (amod)\n",
        "\n",
        "  └──► . (punct)\n",
        "\n",
        "Here's a breakdown of the dependencies:\n",
        "\n",
        "![Screenshot from 2025-02-15 14-59-36.png](data:image/png;base64,iVBORw0KGgoAAAANSUhEUgAAAq4AAAI6CAYAAADmCMpTAAAABHNCSVQICAgIfAhkiAAAABl0RVh0U29mdHdhcmUAZ25vbWUtc2NyZWVuc2hvdO8Dvz4AAAAzdEVYdENyZWF0aW9uIFRpbWUAU2F0dXJkYXkgMTUgRmVicnVhcnkgMjAyNSAwMjo1OTozNiBQTVsDny4AACAASURBVHic7N13dBRVH8bx7+xmU0h20ysJJUBC6B0R6R2lFxWkioqKKBYEwYJIE0UE9RUsIE1BelM6AiJdqvQeIIWWQhKy5b5/pBBCQjOQLP4+5+w5yu7M3Lkzm33mzr13NKWUQgghhBBCiAJOl98FEEIIIYQQ4m5IcBVCCCGEEHZBgqsQQgghhLALElyFEEIIIYRdkOAqhBBCCCHsggRXIYQQQghhFyS4CiGEEEIIuyDBVQghhBBC2AUJrkIIIYQQwi5IcBVCCCGEEHZBgqsQQgghhLALElyFEEIIIYRdkOAq7IrNZsvvIojbUTZUfpdBCCHEI0uCaz6xnV/FsHaVKBJUnMeem8DWq/Jzfycqbj2DG9Slz+SdXJH8+oBZOf7rQLo+WYfH3lrB9bv4fOzmCTz3eDM+2X7tIZRPCCHEf5EE13xhZtO4/oxfc4KriZf4Z8kw3p58CGt+F6sgU3Gs/fA1Ju/ez4qlO7gowfUBs3F+21KWb9zL6St3jq1g4cKfC1nzzza+fHUUfyU98AIKIYT4D5Lgmi+sJMYnkpm9lI3EhCz/L26Rsv1zBk8/g821Nu990YdSDvldotwoYtd+Sp8OTajTezrn/jMH1YkKr4/n9YpOmA9PZtBX+zHnd5GEEEI8ciS45gtn6vV5jVo+DmhoOAU347XnKmHI72IVVLZIZo/5kcMWPeEvfEyvEvr8LtFt2Li65zcWrNrKwQvX/lv9PR0r0G9YV4J1Kez59jMWX/xP7b0QQoiHQIJrPnGtMZDle/ex5c/t7N/5M73DJbbmxrJ/GpPWJ4BbA/q9VBnn/C6QyJVb3X70reaMurSM/806Id1fhBBC5CkJrvlI51aYiPJh+Lto+V2UAiyVrTNncdCs4dmsO20C5ZQt0PShdOpWh0JcZ9fMnzlgye8CCSGEeJRICsgn15c+T5C7CZPJhMmjNG9tSE1/x8aZ/zXHx5T+nnd9xh250W5lPTGBRt7p75l8aDzxZGbfWNuFLcwY9z6vdWtDg5oVCCsaiJ+3J17+RSjzeDve+Hodkdei2DZzOC+2qkVEsB9e3oEUL1+XTm9PYtOF7L0SFZd3z+XLD9+gd4em1K4cQfEgf7w9vfAtXIoqjZ7lzfFLOBifS0dO6yV2zRpG75Y1iSgSgLeXN/7BYVSu04puAz7lt1N30R5n3smS5eewakYatG6I+00ZP5lT66Yy+u1etG1QjdJFA/Hz8sIvOJwqDfrw09Gb1590bDnjXmvPE2WLEejrR3CpqjTr+QHTdsRyu3xli9vP3JEv0qpmaYoE+BJQpDQ1W73IqHn7ibtNH9bUPwdSxiPjWJkwmbypMza3QXhWDn9eD2+TCc8yA9mUmsNHbJFMaumDu8mLGh/vvqnM5pjtTHu/B02rlCTI15fAYmWp0/51Jq49Q8otK7q3erPGbuOn93vSrGpJgnx9CCgaQa02L/Pp4iNcu6U3gIZ/89bUctawHF3G0oOSXIUQQuQhJdKYE1X0mdPqfNz1h7K5lCW9VaDJqIxGozK6h6s3/8jYrlWd/qaZ8jamv+dVT31+2JK5nOX4l6qhV/p7Rm/VaMIJZc1pnTm9TO7KP8Bfuef4GZPyKtNLzY20Zillqtr8blnlkdv60pfzLt1ejd8ep2xZd9B6Vs3rU15551Yez1pq5D7zHevJcnCsquNlVCafturHKFu2N/erUbW9biqLyWRSJpNRmXzbqqkxGZ83qzMLXlU1/E05lsXkUVK1Gb9Dxdlu2bxKOjhFPVfWW5lyrE9vVa7bVHUw6aZCqSPj6isvo1GZfIJVyfBwFZ75KqPa/e+osty6mbTa3jZUVfIwKqPn42pUDnVjuzJHdQ00KaNHafXm+pTMf7+2+2vVLswzrYwmd+Xl56u83E3p+xaqWn+9VyXfc72lqg1vR9z+2Jv8VfXXFquz2XfIckyNb+iljEZv1eLbs8qqhBBCiLwhLa7qCtu/7UOdUkUpVbYcpYsWp3KnEayIfATHRCsbSdeSsOU4ZkZhPruAIWPWcW8zGSlSz63iw2deZnbkjebHlA3jGDr3FKnp29J0zrj7+ePr7oJeA51XVWrcxdQASfv+5ogF9CHlKe+dW5cKA5XeWMTfRyOJvXqVi+eOsPX3UTyZ/vnU/RPo9fJ0DibrKdxoENM3HeZCbAyndy/ji27lcbVFs/ajrgxYFHPzYKrEP/mk+zssPmPGqURbPpm3jePRsUQf38bcT9oQ6mTm9KK36PrRBhJzKlW1Iaz75xCHDmW8DjC/b0lyG1pmqNCYhgF6sB5m3YZzt8wykbxlDZuTFDrPujSu7gSAilvDkO5DWROl8Kv/Lj9vO0V0dAxRxzcyqUc5CtliWf/xACYdyamd9/b1lkHnUZFnh01j7d7TRF+M5tTu35j4QhU8tCQO/dSXl384eXMrsj6ECuW90WFm/6595NR4LIQQQtyP/3hwTWH32A60eXcOey6logBlTeD4ik/p2now6+z5oQA6Pzr/uI8TZ06yd+kHNPC+cag158q8PGMDB04cY+evb1DdLSOoWIlevYJduWV2pyZ8vvsYp8+e5MCGabxT3x99+qK2mOUMH7+R5LT/48K+vcRkpBlDeQasPsmZY0c5fjaKC8e2s2xaP2o63mknrJw9eQazAn1IMUJynUxAh2exMoT6G3HUNAxuAZSuUhofHaAusWTsBHZcA5dKA/nl5/doUyEQVydnPEPr8PzEeUxs54/OeoEFoyaxJ3PfbZyeNYofD19Hc2/AiHk/0r9JaXxdnHDxLU3T/j8y75N6mEjl2NRRTD+VB/NeOdWgWUNvdMrM7pVriL7p9Eth64r1XLZpGOs2p3ahtPo5NnUkM09Z0Ie+wI+zhvBkuAcOgMG7As+O+54BFR0haRez5uzPoTvEbeotk4ZL43eYMKAt1Yp54uLogldobXp8Np9JXYLRqwQ2fTWJrTdN9aqnSPEQ9CiSzpwm9j8zJZgQQogH7T8dXNXFhYz5cieJt+RTRerxaYyacdKO51Z1wN0vEB8Pb4rV7c/AToUzW/qUzYVilSoQ4uNHqWaDePNJz8wTwRp7nJPxuQR2zQ3fwn54unsTUqktQ6dN4JnAjLVaObd0EdtSATQKuRnRMvPwBXau2MSJRAVoOPuGU/vxcNzuOCbNxuWLl7Ch4eDti8d9jGFTV1czd+UVbJqRxv1epEL2KQl0AbTu35WSDgrL0SUszhhNZDvD0rlbSFI6Atr357nQ7K3DBko81592/jpUynYW/RaZB+eKC7Wfaoy3TpGy9XfWXcpyHFJ38tuqaGyakQatGmAEsJ5k2aLdpCgDZZ7pyeNu2YsYRrOmJdBj5cTOXVzOy+swzYsmLz1LKQewRq5h9U19WfV4+3qjA2yXYrhkv18iIYQQBcx/Oria929l162jS9Ko6+zZvINH4+GVDhQtWezGLWpbAnGZA6qcCC0VcuM9lUj8rUk+R5pHQzo19c48iWwX/+GfKBug4dukDXVMGc2xF/ljTGeqla5K29e/YPGBK3c5TZIiJSkFhYaTszP3M/eC5ehe/klR4BBOjSruOa7DUKYGlV01sJ5i/8H0m/7mQ+w9ZEZhoHzNKjlPweVSmRrlDaAsHNx76LYDvO6Wa922NPXRoZL+ZNm6q5ldF8y7l7PynBXNvRFtGqXvh+Uo/xy1AFZOTu3B4zVrUvOmV216/nQaKwprTDQxeRwgHcIqUNZZA+sZDh+7+elaGcdLJSeRbMc3LoQQQhQs/+ngqjk743SbNOTg7EL+P6BJ5cEk9hrOzk5ZQpsZszXLey5Z3lMWrNa73aIevyD/GyeRSiQuIW1ZXXB3vpnyBrV8DenrVljjj7F2yod0e6Iyjd9ZyKm76PzoYHAAFBaL+b7qQSUmpLWo60x4mHI53fUmPI06UDauZTzBzJxAQooCzYC7u0vOoVlzw93dAQ0byYkJeTNnqWs9Oj0ZgE4lsn7hKq4ogFR2LVzKaasOr6YdaZLR9GxOJPG6AmwknDvMwYMHb3kdj05Kq7eU5Mz+xnlGb8RYSEvrO52YdNPxsVrS+lxoBkcMMtubEEKIPPKfDq6Gik1pHJhLx0mdJ02erJ0Pk91rGAxZHkagUkhOyfsmK5Unq1RcS0i8EVg0Z1wLZaQUHQGNh/Hb35v5ZXRfmpfxygwwynqZnZNfpNsXe+/wWFAdRpMRHZCakHBfg3w0V2NalwRbQmaovoU1gauJaS3Fhdzc0kKqwQ03Jw2Umfi45JxDs0okLs6CQsPFzS3zy/TvcpoLtZ9pR1G9InHdfFZeUpC6k4VLz2DVBdD62UaYMj5qKEQhgwaaMy0mnyU+Pj7X1+Wdw6iS11dh5itcvaZA0+NmLJRlvxUJ6Y801txMd9ElRAghhLg7/+ngikt9Bo3rSXj2BwBoDgS2+JgPWnv9yxByPzRM3jdCHtZIDh8toB0WrKfY/NeN0e+aayglAm4+pXSmcFq88ilz/jrIrvnv0zgg/UJBpfDPkt84ettmSj1BIYXRo7Cej+TCfTRpOpQsS2lnDSyH2LYrLscAajm0nd2JChyKUrZ0RnANp1y4ATCzd9vfOcyFCqTsZvt+M2AgvGx4+iN7NRyd0lqwVUoK93PN4VS9C89EOKCu/cGvy6NJ3jqfxWet6It3pGudQll3jtIlHEClsmfLrvSBcQ9P8o6/2JmiQF+ciDCnLO9YuRB5Ia1vcuEiBBXkJ/QKIYSwK//t4IqGX/PPWbniGwZ0qEOFUiUpU7MlL41ZyNqfuhOaT09hdS5djpIZrWMqkVVfDGf+vgvEJVwlNuoy12+79ANkPcGfK3ZxMiae+Oj9LP7oVb7YlZoeBjWMtRtTM72J2nJgDp9+M4+Nh6JISLWB5kLRJzrQsKRD5sWALT6OhNv2u9TwKV0aXz1YTvzDkftoctW8mtChkQc6lcDqb75jX/YEqmJYMmEmRyzgEPoUrcqnV7yuGK3aV8dFsxE1fwKzTmXvwWrh5MyvWBBtQ3OuQuuWIelfJh1e/j4YNLCeOczx+2kmdijLM12q4UQSm36ewYxZizhnM1DumS5UzToTg74ETZuFYdBsRM2bwMyTD3Gy/9TDTBn7C+esGobwp3gqIktzrkrg0D9nsaKnaEQYhXJfixBCCHFP/uPBFUCHZ6WuDJuyjE07d7Fl1S+M7VuXwnecqunB0Ye1oUMl58y+oUl7J9OzdjghhYsQ1nwce/NrilnzHiY9V5+KJYMJLvU4z325havpwVMzlKLHa61ImwLUxpk1kxkzqBdP1ggj2NeXgOAQAgtXYcim65lB1yWiHLcM1s/GUL4mVV00VOIutu6/jx3XfGkzsB+VXSFp5xie6TqaJfujSEpN4erJTUzp34F+8y9g0wXQZvDLVMm8WNFRrNtgepZyRF1dy3vt+/DVmiNcSjGTfPEwq7/qQ4f31hKnDIR2H0z34jeaFV0qVifCoGG7uIgxI1dwIt6MzZJE1IE1zF138i76wuoo1qkHDdwgZfMYhsyNRrnUotuzpbPNAetA+T4DaROgwxa3lsGtuzBi7haOX0zCbLNhvhbL8R3LmTovp5kz7p718hmORcWTYlVYr1/l1NbZfNixDUM3xqP0hek89CXKZz2O1/9m6+7rKJ07VWuGF4B+4kIIIR4VElwLIn0YL417j9qe9nF4NL0fDT/+kSG1XNL/JZm9fx/MHGWvlJmk+DiupdoyQ6vOuw6Dh7TH9059MUx1af5EITTraVavur+R+04V3mDqV10Jd7EQuWokXR8PI8DHjyIVW/L6T3tI1Pyo//4Mxrf3v6lriGasy0fTxvBUiIGUY/N5r101ivt54x9anfbvzefYdQMhrcYyc3gDTFkW1Jd4ltfbBqInkR1fdqJSsDceXgGE1WpH39HLibyL0f2afxv6tA1AU9dJua7h2aI3nUJuPR80/7Z8MW0IdX11pJ7+nTG9m1I5NABvDw+8A0tQueEzvDlyMYfve+SYImXte9QKC8bP0x1P3yJUaPICX6w/j9WxKK0+nc1nT/rcVG/Xd65gbawNnXsDmj/ukuuahRBCiHtlH8noEWROTr7R8qYZcHS8OcG5VHyD+RvmMqJ3UyoX88HVoEPn4EghozfBJStSq2lH+rwznLeaBTy8g+gQTtNnGlEhxBtXJydcvYtSpWVfxi7ZyJxXK2S5JayjbMeB9O1Yn4rF/TA5O6DT9Di5+VC0Qn06DfiS5Zvn89otk6rmQPOhWadGuOssHJ47h7/v6zFMBop2+Jr1G2fxUY9GVAj2pJCjM0a/kjzWrj8TVmxm/ls1cM8hRLuUeZ7pf67l+3efpm5EIO4ujri4BxJR9xkG/bCOP6f1pkz2bKb50WbiUn56uy1Vi3lRyEGPoZAXIRUb0blpBHfXA8WN+s+nzZOKPoTOvVvgmfPUBrjXfIeFW1bxzdudqFs2GE8XB3R6R1y9gomo2YKuz9TG755PEj1hbd/kjZ5tqV+5FEFerjjpdeidTfgVr0yznh8yfeNmpr9QHteblkti0+xFnLXq8G3RiYbGe92uEEIIkTtNqbwZXy7uTCVcIPK6CW+O8dNLbRm86lLawCbHmozcvoJ+xQvadYSZvwZVpuU3Z9JCtnM7pp39ibZOd1oujyWt481q7fn+vBcdp27nh7b5MWhO3A3buZ/oVKM/q5JL8cbKzXxcLR/73AghhHjkFLSk9AhTXF3Sn6olAgkIrcO7GaEVDUOpBtTN4TawSFeoHq/1fxxXdZHFn37N3zkO8Rf5L5GN48exLlHDo/EA+laR0CqEECJvSVp6aCwcO3gMc7b2bc2pJN2HZRvcIrLRUbzHR7xUxoD5wDcM/GZ//s2sIHKVtO0zBk89hdWlMv0/7ESQ/HURQgiRx+Sn5aGxct3Zj6I+hXDQG3D1KU7VJ19h/PIVfN7UW25934lLdd7+vC8Rjskc+W0lh+6rr6t4cJLY8/tqTpldqPzGF7xaVlpbhRBC5D3p4yrsSApHNm7HqXodij78R5qJO0rm2Ppd6GvXpng+zYEshBDi0SbBVQghhBBC2AXpKiCEEEIIIeyCBFchhBBCCGEXJLgKIYQQQgi7IMFVCCGEEELYBQmuQgghhBDCLkhwFUIIIYQQdkGCqxBCCCGEsAsSXIUQQgghhF2Q4CqEEEIIIeyCBFchhBBCCGEXJLgKIYQQQgi7IMFVCCGEEELYBQmuQgghhBDCLkhwFUIIIYQQdkGCqxBCCCGEsAsSXIUQQgghhF2Q4CqEEEIIIeyCBFchhBBCCGEXJLgKIYQQQgi7IMFVCCGEEELYBQmuQgghhBDCLkhwFUIIIYQQdkGCqxBCCCGEsAsSXIUQQgghhF2Q4CqEEEIIIeyCBFchhBBCCGEXJLgKIYQQQgi7IMFVCCGEEELYBQmuQgghhBDCLkhwFUIIIYQQdkGCqxBCCCGEsAsSXIUQQgghhF2Q4CqEEEIIIeyCBFchhBBCCGEXJLgKIYQQQgi7IMFViDynsKn8LsOjyMb1xCRS87sYjzibzZbfRRBCiFxJcBWPJBV/gs2/z+H78cMZ+Mob/LDPcpdLJrF3yovULVWY4DLNeWf+Scz3tGULx3/oTK1WH7LsVMq9F1zkKHHlQB4PDyakwVgO3O2hfJBsF/h9eA/a1K/F8z/H8khcp6g49kzpS716b7HqckHeIzMXNv/A4G7NqBYeQoCPN36FS1GlYSf6f7+La/ldPCHEAyXBVTySUjeMoOPTfXjzg7F8O+t3/rlyd61ItnOzGDpoNrujE4iP3MzkN4bzW+Ldb9dy7Dv6v7+SQ38tZs2JlEcj0Fzfx7edyhFc9DFeXRDJw2+PU1gunuLohUQKQmYFQF1m94qlrNt1jIvJ91Aj+V6Xt2G7wq4lv7Nvz1ReH/IbBTO7JrPv26ep99SbfL3oL45ciCMp1UxKQjTHdqxm9ZEkDPldRCHEAyXBVYgsVFICCZYsv9jXE0hMvctfcNt5Zg8dzZ+JOop0+5yPGnigPZhiPlTWUyv5ee0Z4q8c5Nc5m0nK7wLZsfysS9vpRXzQsy0Nar/BsuQcPqAvRvcvhlLfZOPc7PcY/WfBO9KWA1/R74M1RFly+E5qrtR8vBKOD79YQoiHSIKrEFnoS3SiX8eSFNJA05mo0OdlmnveXfxM3jqRz1ZeAY/mvDeoAaZHIbUC+uIt6d6iFL6BlejWtQ6F8rtAdiw/69IatZVFi9ay8+hFUnK5FtMX7c6wvmVxsJ5k+ugZnC5QTcJmds6awd6Mwuu8qTvoV7YdO8f50//w15LpDKjnmr9FFEI8cA75XQAhChRdMB0m/UX9gUeJMoQQXsT97r4k6jLLv53FSYsDxZ97nXYBj0hqBXCM4PkZO3k+v8vxKCjwdelIhRdeo8mkvizfPJkfdvXk42oFpA3TFsveveewpv+vQ4nuDBvYjNIOAEbK1g3Ox8IJIR4WaXEV4hZOeJcoR9m7Da2ALWoRM1ZcRRnK8uxz1XF+oOUT4sHR/FvRvaUPOssx5sz4k5x6FeQLlUh8/I2mYl1gYQLkF0yI/xz52ov7YrvwF9M+G8Kr3drS+PFKhBcNwt/HE0/vAIqWqUWrF0bw696rOQ8+sV5i16xh9G5Zk4giAXh7eeMfHEblOq3oNuBTfjuV0aZyjV+7+GEymTCZTHiWH8yWzCH+iquzOuOb/p7Jqwof7Mxt6E4C27/ty1OPlaFYoC9+waWo2qwnH8zYxSVrto9aD/NZXe/Mbfq0+o7zd7xdqohZuZi/khUOEU/yZLj+5lWeXsWED16nZ7tG1CxXkpAAHzw9PPEtHEa15r35ZN4BEm7TjTbp2HLGvdaeJ8oWI9DXj+BSVWnW8wOm7YjNYbCSjag/v2f4m73p2LQWFUoVIdDHEw9PX4JL16bDwCnsuGQh7uASJrzTlSZVShDo44VPUEmqNu/D6KXHbw0q1gOMfsIbk8mXNj9G3xhwpq7y98+jGfjSM7SsU5nSxQLx9fLAwyuAYuXq0PGtb9lwLqfJq6wcmTOQ51o+QcVSwfh7e+LlW5jwGk/ywqgFHErMi1FBqUSu/4YBHetQvnggPt6+BBYvQ80mnXj1681cydiEusT0Dr6YTF7U/GTPrfVp3s77lT0xmfx4dk5Oo/RsXN3/KyNebMVjpYPx8/EnJKwazXsP4+c9V249/3Ory5vWN5eRLzxFzfBg/HwCKBLxGK1eGsPiI4m5DvZTcfuZ92k/2j9RluKBvvgVDqVM9cY8O+AbNsVmWyplMb0CTJnnuMlkwrfdFGIyP+ZGvdYN8dDZiF6xhK0PYHKMlCMzeGfgLI5dv5elFCrLrqRueJsIjyz74VWLkdlmD0k+tYb/DexK48qlCPb3JaBIONWb92TID5s4l3XbKoENA6vi7Z62LnfP8vRfdTVLfduInN6JYh4Z75flleUXH43Bl0LYGyUeDeZEFX3mtDofd/2hbC5lSW8VaDIqozH3l8m3inpt6QVlzbqg9aya16e88s5tWc9aauQ+c/qHE9WcZ30z3/MoN0j9lZqxIpu6MrOT8slcrrJ6f4f5nspnNHmpMt2mq6NZq8xySI2t45X5Ge+nJqtzN+1ATq6pJc+HKJPRQ5UZ+KdKzfZuysIeyu92ZTEFqCc+3KTibNnXa1ZnFryqavibcq5fj5Kqzfgd2ZZLVRvejlAeue63SfmVilChXrmts4R6evopZcm6Sst+Naq2lzIafVTrH6KU7ZZ/z31bnuFd1IyTZnUzs9rxfmXlaTQqk7un8vbzVV7uGeVxV4WbfK72JGf9/I1j7VntI7Ur++puYVGnZnZRYR6m9H3yVYWLFFFBvh7KZDSp4OeXqGuZq76oprX3UUajp6oxfLe6ZdWp29TQSh7KaPRVz8xOyKFObnP+e5dV3aYdUSl3U5dKKaWuq6Mze6kKvunlNnkqXz9v5Z5+7rgXrq8+/jNOZT9Nkg9OUc+V81GmnMpQuIeaH5++K1sGqwoeRmU0+akiYeEqPPzGq1yv2epilhXbLs1QHf1MyuhZU32y544Vfm9S96lRT3grk8lLRXSbro6m3HkRpdQt381b/3Y8pkbszSjrdXX815dVjYCcz3Oj0V0VrvOOWh6Z5UyP36jereqdXo8m5VnhTbU2/ctljfxZdQl1T/++eqoKr69Sl2/5vgohHgZpcbV36grbv+1DnVJFKVW2HKWLFqdypxGsiLy32UcfSNFSjjLtreGsSrjxbykbxjF07ikyBuprOmfc/fzxdXdBr4HOqyo1Sj2krtfKzNlFb9Fnwv57nKs1G8tR/t6biNIcKVsxItfuBTr/Tny/5wTnomOIiTrDwb/m8knr4jhyjb1fDeSb/Te3FqXun0Cvl6dzMFlP4UaDmL7pMBdiYzi9exlfdCuPqy2atR91ZcCimBxafjRcmo3nQGQsV+LiuRJ9lE3fP0/5QpAcdY7LPnV5/Zul7DwRzeXL0RzfMoPXqpvQrDGsGDmeDfd0f9iR6u+t5fCZKKJjojl3fA+rv3uZGh4alvPLGPrR4mxTKzkQ0es7ft9+mMjYS1yMjuHihYOsGteRUEdF/NbPGTE/p326S6mbmfjJci7YnCjXZypbTl4g8vRpzkWd5+jWRUztVwuX+133LTRcw1ox6Lvf2HUimouxkRxY9wMD6gagM59h0Vu9Gbfn7poVU3Z+Ss8B8ziZ6k61vt+z4XgUMdHRnNk+k/41PSB+F+P7f8aOrKtL3MSwbm+z+HQqjkVb8N5P69l/JoaL0Wc4vGstv3z3OvXcsm3IqQnj/j7EoUM3Xvt+7Ix3lm7Zmqk8lYrrwXqCv/fG5W3LoqEcr331EQ18bJxb9DqtX5hxjy2v6WXUdOj1+pteOg1AkbDhA57uO5OD13IruY343ZPo3fUz9mS0KBufYOiXLxLmqAEKy6mpvD1iE4m2KBYMeZ9lsTZAw1CyDxM+bsRdjtkUQuQxCa52LYXdYzvQ5t057LmUigKUNYHjKz6la+vBrLv6kG5k6fzoLoHrJgAAIABJREFU/MNejp85y4ndSxneNCDzxLJdWMrczBRk48K+vcRk3J43lGfA6pOcOXaU42ejuHBsO8um9aNmXo8F0Uw88e5cNu0/wdnT/7D2fz0o55r+q6OS2f3dpHsMatmYT3My0go6b4oVcct1CizN4E1QsA9GF2ecC3lQuGxT+k/+ku7BelTqIZYuP5I58AR1iSVjJ7DjGrhUGsgvP79HmwqBuDo54xlah+cnzmNiO3901gssGDWJPTkkb53RBz+TE3oN9C7+VOg8itHdQtCj0Ic0pXeXupTyccHBwQXfMq356PMXCXMAa9QmNhy6lxlTNdz8QgjwKISLswtG3+LUeHoUU4bWxkWzcXn1EjZkm1mpUPGq1AgPxGhIqy3NJYiafb5kRDtvdCqRLX/s5D6yTFrVXT3GsVgr6EvwVK/WRHikd93QueAXUZ9GlbzzcJoyR2q8Mo7BT9empI8Ljk4mQqp2Ytjs6fQrbYCUfUyeuJL4OxY6inljvmVfskZA+wnMHtOZij6OgB5TWCs+nvIRDdzAfOwXZm7OqBkbp2aMZMqRVDSPhoxePJNB7apQxMMZRxcPAktWo0WLynjdz87qQygWogdl4czJSLL3qPm3XCv2Y+b84f8qvBrqjuXApStcuZL+it3EoHIOYD3C9x/+wJH0q2PNIZhmH/zK5gOH2LdhGm/W9k7/+6S49vcEhv96IbNLh1vtIUx4OQInDVBmjv0wgLfff5shi6KxAZpTafpO/IB6j8qUIULYIQmudkxdXMiYL3dya5dARerxaYyacfIhTXDugLt/EL4e7viE1uXVoc8RltHsqBI59M+p9B8+jUJuRrSMv/nWC+xcsYkTiQrQcPYNp/bj4bjl9W+C5kZEnfpUKOKDu2cw1bp+xhe9QzNbRm0xf7Bm7/23uaq4i1wyK9B54+t9j1+pQjVp8oQJHRaOHzqa+ThTdXU1c1dewaYZadzvRSpkH+2lC6B1/66UdFBYji5h8V09TsqZKrWq4KyB5eQRTmRbxBDxGNXcdWCN5PTZf9tiryOoYRPKOoBKPsqhU3cTfVwpUyEUBxRJMdHE3+d1l2YMprBJB9ajLPhhFefy4+aDa3Ve6FkdAzaurF91cytpDtSl1SzYkIDSB9GmV0t8s30HdEFNaVbRALZL7NpxMu37ZItk+cJtJCs9gR3606V4Ht6p0Fzx8SmEho3LsZfu8HfEzI4vu9KmdWta38Pr2fdXkmgshKbMRC56nTYvzyUyD/5gWQ8tYN7e6+mtxDoCOn/O9281o1xIEEUrteWDHz+msTHjwjWRjfNXcKMbsCu1Bk+kXzlnNEClHmHWxMWctwKaM+Vf+4ohj2dvwhZCPEwyHZYdM+/fyq7cboWp6+zZvINr/UIxPtxi4VA8jOIOkNZoZ+PqpbRBWno0fJu0oY5pLavjFNgu8seYzlT7XwnqdehG7xd78mRZT/R3WP+/50TFJ2rg9tVxrirAGsXxE0lQ0/2+1qauJ5OsAM0ZZ+d7Td0GgoL90XEFy9UrJChw0cBydC//pChwCKdGFfccWwgNZWpQ2VXjSPwp9h9MhEoed9yao68fHjpISowjLnuW1Hvj66WDSxYSEq+jcPlXLZP6wGAC9YD5Klfi0s6ADJaYHcz+dhK/rtnN0chzxMQp3PyLEeJ4HgvgYDFjSbueuXcu9XltYD2Wv7uOw1OepfofDXi6ezeee6YlVQMf1nwPOgLLV8BPv5nIq0c5EmujYXDuFzWW4/9w9LoC2xUWvV6HDbc8/slG/Nm0K43Y6BhslEZv/oe9/5hROFK+euU8n8nC2cUZjaskJyXfoauAjUuHNrF+/ZX771KgzJz/awsnrR25TTXdlaR/9nI046JMc6V2i3q4ZzmPdAGNaVHVkZXrrwOK6wf3ccgM/hl3egpVZ+BXA1jTfDS7kzP2SKNQpTf56p3qMo+xEPlMgqsd05yd025p5cLB2SV/DrCz800/olbrjaY9XXB3vplykh4vfcWWWDMKhTX+GGunfMi6aV9Spc94poxoS7FcugvkVecHnasbhTTSgiuK5KQkFDkHxDvSG9IeM6ksWHJ6os9taTg6O6W17mQJayoxIa0lXWfCw5TLL7nehKdRB3E2riUkYsPjzrdQHB0xAErZbhqhncaAY3pgslry4OGqDk446TVIvblezMd+ovtTA1h+3oLSDLj5BhBczAVbYiQHT8bnwV0CA6Vf+oU1Rb5k+MjJLN67hh8+XMOPI/2p2uktRgx7gVq+OVwe5XHPGs1oTLt7oK6RmGtfy/RNX0tMO97qGlHHDhKV6yd1pCSntyaaE4hPUaAZMLn/u4uMnFjMFkDDwWC4w7odqTFgNsu6mO+tCm3RrBw+gInb4lBulXjlm0HU/tfPa1UkxidiyyiIzoSXZ7aVah54eejSvnOASogn++FxKfsULUp9xp69Gfukp0jdhoTnXedoIcR9kuBqxwwVm9I48Fu+j8zhNqzOkyZP1i6A84nqCGg8jN/+7sKKGT8wZdoc1hy8jFmBsl5m5+QX6eYTytp3K2BAh8Exyw9MSnKuT/y5V8lRF4jLbEzR4WbKvW/qHffIaMJNp4Elgfj7mMopp+1qrmmhJ9aWQFyC4pZ7xwDWBK4m2gAHCrndffnztXeeimHu0CEsP2/FKfw5vpwyks7lPNLbYq2cmNCMGkO35cGGXAhtMYgpLV4ncvM8vv/mK35YdpAdM96lzc4zzFs9gjpGDTQDBkPaGZacnJKn2dV25QpxNsDBDaPr7Wtdc3GlkAY41mTkjhX0K3YXzY6GQhQyaJBiJj4uGYXTHY7tvRx5KwkJSSg0jHf8bmh4hj3GE2H3sHpbFCsGDuS77Wmhtd/M+Qxv4JMHfdc0jO7GtEFaCrDFcfFSKpAlvNouE3vZmnmsNaMpW/ekJHaMfZUv92UN4hYO/+9l3m+4mrENPB+JRzkLYa+kj6s9c6nPoHE9CXfJ9mdUcyCwxcd80NqrwP6B1ZnCafHKp8z56yC75r9P44D0FjCVwj9LfuOoFUCPp7dH5j7YrhzhSEwedIKznWfJ3I1k3gXUl6B86X/RlFKoMCHeOrBGE3k+D1oqAYeSZSntrIHlENt25Tyq23JoO7sTFTgUpWzp+w/eD5X5AFt2JKK0QjQZOJpnM0MrpLXu5fW1tAvBjz/HRzM2sXPBa1QqBCmHpjBx8aX0OnXC08MZDRuxZ86Sd1OWWjiyZSuxNtD5lKa03+3/1DqEhlPSoIH5IFt33OUofoeSlC7hAFjYt+3vO5Zdc3IibcB8Csl3ugK0RXPuvBmFnsJFC+dt9x1bFCsGtqPHdwdIds3L0JrGpUwFMicmUUlsWrbmxry9gO38Cn7bmdHxWcMxohxhmblWkbBpOC9/sYckBeg8CS7sig5QqUf54dWBLInJ46Z5IcQ9keBq1zT8mn/OyhXfMKBDHSqUKkmZmi15acxC1v7UndB/fdst71kOzOHTb+ax8VAUCak20Fwo+kQHGpZ0uBFQ4+NIsAEYCC9XOu3HFsC8lf99NIOdkVdJiLvIhUvX7rKFzEJ8bBQXL18m6thfzHy3K4NXxqXfktZwLNOaVmX+RWByKEWZMAc0lcThg6fyZAS25tWEDo080KkEVn/zHfuypxIVw5IJMzliAYfQp2hV3n5unmjpUxbZbHcbADR0Oi2t5f369cyp1O6NA351X6JLZQOoVM5HxqQffwNhZcMxoEjevJw1V/ImlFgj5zHmxwNY0BPUshU17jBThubbkObVndFUAiu/mnzr8c6JvgRNm4dh0KxcmD+BGSduPwpN5+OPrw6wnuDIiTucpalHOHDUAjpPwksH5PEPhR6DwQFdnra0Zll7eBvalctofbYRO+8deo9Zxt5TkZzYMY/3ew9jXUbfAK0QtVs3xS9jrFbceoa9Njl9RgIdAW3HsXL5aBqnD7q0Rv7K2wPnc+HhjHoVQuRAgqvd0+FZqSvDpixj085dbFn1C2P71qVwAXm8+M1snFkzmTGDevFkjTCCfX0JCA4hsHAVhmzKGAWs4RJRjlCHtP/2a96RepkjgM2cmNOPBmWKUDikBDWHbCSn5zLdutkYZvcqR2ixYoRVacbLk3am3cIFNIeidP3wJcr+myYlzYdqNUqgx8LRrTvJk+yj+dJmYD8qu0LSzjE803U0S/ZHkZSawtWTm5jSvwP95l/ApgugzeCXqVIAL1JyZChDlQouaCqZNeOG8PPuGK5nqS9lyzkROPv6YdSB7dwa5q4/f/upsiwHWfDVdNbsjyI5I59ZEzi5bgrz91lAcyKkaEYY01HkybZUddGwXVrAu71Hs2TveRKuW7CYU4iPiebqbU8yG3HnjnPuajJmm43UhEh2L/yU5558jcVRNnTeTRj8Rr07zxurC6HLO2kXm8l/j6FDh/eY/sdhohNTsdksJF8+w57Vs5i1MSpLH2AHyvcZSJsAHbaraxnc6hlGzN3KyUvJWKxmki6eZNeK5eyITVtC51+FKiF6sJxgxogJbIq8hsWWSkLkbpYv2HxTGLMc3sqOOBuac2Ueq5jHf0x0vjQcsYhNGxfmeWgFQB9On496UiL9ildZL7Bm5LM8UaEMlRr2YuKWK5kXrS7lX2HIM4XTy5DIxhFv8eOJtC4COq9mfPhJO4KLP8dnQ+rjrgOwEbVwEIPmX3hIM7YIIbKT4CoeomT2/n0w87GaSplJio/jWqotM7TqvOsweEj7zC6dusCnGT2yJUEOeX8jXHMJpd242Yxu8m/7rDkQ0awJxRwUSVtW8kdc3rTaOVV4g6lfdSXcxULkqpF0fTyMAB8/ilRsyes/7SFR86P++zMY397fProJAGj+dBo6gGpGjZSD03ipXimCAkMoWqwYxYqGUH3o1hwvRhxrtKZFoB5lPsikjmUp229VrrfGradX8tWHr9Lu8XAC/PwJKhyEv18wldp9xpZ4hWvFV3ij1Y1uNPrQ3ox59zE8NCsX1oyi6xOlKezrhZe3H8ERXfjp7O1aJ83sGtucMkX88fbwwKdwGep2/4RlJ6+j96/Pe7Mm8VyRu/kzq2Gs/zEzxjxJiMFK9MaveLVVdUoF+eDh4YV/sXLUaf8KQ37Zd9PDMjS/tnwxbSj1/PSYz65iTO8mVCzuj5enNwGhFan/9Cv8sCu9Rg1V6PNaAzx1Ni6u+YiWZQLx8vChcJm6PPvKRDZkzj9m5djKlRy3aDg/1pz6D2KmfZ0XoaFeD+gHSMO9wXBmT+xEyezdqLJ8xrVcLybPGkS19KuKlF1fMGjK8fQBkq7UeHM4TwfrAD3Fug/n1fLprbi2aBa/P4zfL0uXASHygwRX8RDpKNtxIH071qdicT9Mzg7oND1Obj4UrVCfTgO+ZPnm+bx206SlBkp0n8b6pZ/z8lM1KOnvhqNOh97RBTevIELL1aBRu54M+HAIHUvcaDY1VO3NyPdepkur+lQrU4wAD1ecHHTonUwEhtWk1Usjmf3nn0zpGXFza1i2/n+awelGV4XbMFTqSPtSDqj4VcxeFptHg3wMFO3wNes3zuKjHo2oEOxJIUdnjH4leaxdfyas2Mz8t2rcNNWPPXCp/A4LV0/hvS4NqRDsicGcSHxiMmbNDf+SFajVuC1dniyPMet+GRszavaXvNS4PIVNzgQXDSa3RmbNtSqdX2hH7YggPAwWkq4lY3P0pmjFRjw3ZCprlw2hputNJaLSmwtYM2MIz9aNINDohE7T0Du54hlUgop1nqTLK+/QpYrTjUV0wTR79S1e6NiIauHBeLs546DT4ejmTUj5hjz77mTWblnAwFq5XxTd+u8ulO0zk83rpzCkWyMqFvXB1aBHbyiEe2ApqjZ5mt6Ni96yFveab7Pgr1V881ZHnogIwuSkR+/oindIGWq16MBjgZmduSnWaypL/9eP5hWDcXdO+5xvaFWaP9uAYhlNiOZ9zPn1AGbNjbodWxJol78SzpR69js2bv6F4c+3oGpxX9ycDDib/ClZoxV9xyxg65rxtCmSfhbZTjHtw/9xIL353yG0Bx+9EHZj9LJjOV4e2omg9D8x1vO/8uH47fyb55YIIe6PptStk+II8d9ynYuRlzB4uRG3cTidukzmoDmtj5t3t1859HUTnO64DhunJ7Wi5sBNWCq8xx/r3qWs/XQ7FQ+LZQ/Dazdg7EE9zb89yuwuHgWstVxxddlLVO/6C7H+3Zi942uaPeyJoIUQ4jbs8lpaiDxl3suXrcoSEhBMuU6T0kMroHOnbsOq3F0PPx1Fu77NsyE6UvdNYtT8KOkDJ26VdIyj56ygcycwsFABC61A6j6+Hb2QGOVCtVdep7GEViFEASPBVfznqcSjHDqXPWbq8Ko7iEGt7mFKMbd6vDOkBT5cZNlHH7I8Vm5mCMB6nRQzkHKONWO+ZGWCQmeqTd1KBW1EnZnDk99l4t7rOJTqzbA+YQ/hKXZCCHFvJLiK/zwVBx6l0voGOjibCIqoR5ehs1gz+2Ui7mlAtY6gzqMZ1tQHYjezdHNMXj+MSdghy74x1A3ywTeoDO0n7iYJN6q+9iZPPohBT/+G+Qirlh8kyVCS3mMH8bjrnRcRQoiHTfq4CpHHbLE7+ON8CepV9JQrQ8H1DUOo2+07jiU54hf2GK1eeI/BPapQ0HIrAKmR/PlXAlXqRdx5Ci8hhMgHElyFEEIIIYRdkAYhIYQQQghhFyS4CiGEEEIIuyDBVQghhBBC2AUJrkIIIYQQwi5IcBVCCCGEEHZBgqsQQgghhLALElyFEEIIIYRdkOAqhBBCCCHsggRXIYQQQghhFyS4CiGEEEIIuyDBVQghhBBC2AUJrkIIIYQQwi5IcBVCCCGEEHZBgqsQQgghhLALElyFEEIIIYRdkOAqhBBCCCHsggRXIYQQQghhFyS4CiGEEEIIuyDBVQghhBBC2AUJrkIIIYQQwi5IcBVCCCGEEHZBgqsQQgghhLALElyFEEIIIYRdkOAqhBBCCCHsggRXIYQQQghhFyS4CiGEEEIIuyDBVQghhBBC2AUJrkIIIYQQwi5IcBVCCCGEEHZBgqsQQgghhLALElyFEEIIIYRdkOAqhBBCCCHsggRXIYQQQghhFyS4CiGEEEIIuyDBVQh7ZbNhy+8yiHxgwyYHXgjxHyXBVYhbmIk9sJ7FsyYx9oM3een9+UQWtKBgi2LBS7VpNOAXDl5Td7MAkUs/onvrejz20lyu3M0iouBJOsK8gc14vNfsgndO/ksq4RTbVs9j6lejGNz/Labut+R3kYQQBZBDfhdAiALHFs28tzsy8M9UAAyVgnizQAU9Gxfmvs3bvx7gkt9vHHinMxGu2h2XubT7N5auP4i+SbK01N5CEfP7u3R4ZSYXy73FjNlvUtUlv8t0K5V4kN+W7OCfC0d5c2ZtfukW/Mi0PqT+MZy2XX8lUQG6IF7oOCq/iySEKIAelb95QhRs6hpnd61lwfRvGD3kdV793w7M97uquFV88uEyYvGl1YgxdAh6+F9j2+lFfNCzLQ1qv8Gy5Ie++Qcgle1zZ7D3YgLnNv3MssMFs7VP82vNqJHt8OcyKz/+kCWXCs4VVeq61ynlYcJkupeXF7VH76dg1rYQoiCS4CrEw2DeytjO7enx6iBGTpzKwl0x99nqaeHQ96P49bwNlxpv8GH7AO7U1vogWKO2smjRWnYevUhKwclO/4IjNZ/tTY3CvoQ27EGb8IJ6M0rDt837vPW4KypmEZ9O3nffF0BCCGGPJLgKYU+SN/HdD3tI0fxo+3p3Sujzu0CPCg2fRp+w6uBxds/tR8UC2E0gk644Xd9oT6CWyoGpk1iXmN8FEkKIh6egNisIIXKQsHo6889b0Ye0o1sj93xpbRX5z1i/Ox2KzWLiyUVM+/0TmnT0zPdzwVD9beav74klSwu8Zdd4nnlrAbE2AAfC+nzPpG7Fs7SYaLgElMABsD7sAgsh7JK0uIr/tOuRf/Dt209Tv0IoQb7e+AaXoc7T77P0zJ1+RhXXjq9gwoDO1CtfnEBfXwKLluGxp57n41k7ib1tpz1Fwuxn8M3S18+jZH/Wpt6ptIlsWLyWqzY9gc1aUcM5p8+kcn7jZAY+24AKoUH4+gRQtFwdOr7xJStOJHO7u/rmmO1Me78HTauUJMjXl8BiZanT/nUmrj1DSm4LpSymV8DN/RZ9200h5qYN2bi6fy4jX3iKmuHB+PkEUCTiMVq9NIbFRxJvLZP5PFt+HsfgFzrSpGYZigf54+3lQ1DJitTpNIFdZkBd5e+fRzPwxadpWacy4UUD8fXywNMniFLVW9Hvqz84b07i5JrJDOnVkhphhfHx8iaweEUaPvcBs/cn3LLd64t64u9uwrPMQDZlvf+efIhFn7/Hq8+1pn61MhQv7Ie3hwdefiFE1GrDK5//xonb9PO9p3q9m30HcKxCqxYh6FUCfyxZS3yed9ewELlkKAP+t5trd7mE5hZC+UqVqVz5xqtiKR8MNz6BS2AZKlXO+plKlA7MoXlbXeG3gfUpVzwQHy9fgkpWofFz7zF1W+xtAm4KkRu/Y/BzTahcMghfH39CwqvRrNtgvtt4juv3WANCiAJKCVEQmBNV9JnT6nzc9Ye0QZuK2zZWtSjmroxG421fXnXGqkOWrMumqhO/vqyqB5hyXsbkpcLbf63+TsyyyPU16rUSuW/LvcRras2ddj31TzWwrIcymoJVr8XXctilOLVtbEtVzD2XcqW/fNpPUxdtNy96bffXql2YpzIZjcpocldefr7KK309Jo9Q1frrvSo5a1G2DFYVPIzKaPJTRcLCVXj4jVe5XrOzrP+6Ojqzl6rgm74uk6fy9fNW7qb0/S5cX338Z5zKWhzb+e9VK5+s9WlSJpNJmYxG5VX3M3XYopSy7Fejanvlvp8mLxUaUUr5mnKp78JN1Rf7Um6qg5SFPZSfyag8It5RG1NvU55bXu6qSMsJam+yusW91utd7Xu6pN/7qmLuRuUe9oZal8dfG+uZ71TrQJMyuhdXrb/8WyXeeZEcXf/jTRXunrE/XuqJTw8qSy6fTVnSWwXmcrwyXibvcur5uWeV9ZYCX1ArB9dXIe65LOdeTDX5ZIO6ZMtpy0IIeyItriJ/qSts/7YPdUoVpVTZcpQuWpzKnUawIvLBDjlR8esZ1mckf1669yFS1/4aTpdXZnIoY/5UTUPv6IheS79Zq8ycXz2UnsM25NpapWl69PqsL90db/XaovayN8oKhnAqlc3e3Kq4umoIPUds4pJyIrTNMGZvPsKF2FjOH/6LBeNfoV5hxxy3oeLWMKT7UNZEKfzqv8vP204RHR1D1PGNTOpRjkK2WNZ/PIBJR3Jo63Jqwri/D3Ho0I3Xvh87452+oZSdn9JzwDxOprpTre/3bDgeRUx0NGe2z6R/TQ+I38X4/p+xI6fmMIdQekzdxuEzMVy5epmoE3+z8psu2fr1OlLzg02cjr5CXPxVYk5u55c3a+GhmYmNjKFQ1d58Nv8vjpy/xOXY0/y9YCgN/XTY4rcy7tOl9zafrUMYfef9w6nz0cREX+DUgQ1MH9SQAL3iyqaRvDftzE0D7v5Vvd7FvjuVrUSEA9gu7mb3He8Q3BtdSDfGjW1LiP4S6z5oT5cJd9/y+iCp1NPMffcjll7NeuBSOTCxBz2/3snVjAOg6TE4OpD5lbRdYsvY53l7Uext7zoIIQo+Ca4iH6Wwe2wH2rw7hz2XUlGAsiZwfMWndG09mHVXH9RPjI3zcycw65Ql7UdM0xPY5APm7zhO5OlD7Fgxgc7Fc+n+bT3Gjx9O4p8UBWjoC7dk9IrDRF28SNTh3xnRLBA9gLJwcuY3LLmY0z5ouHWeSdSVK1xJf106PJ4GjrcvtfX0CU5bQTMUoVhgtq+u7Qy/jJ9DpBXc6nzM3B8H0KJcAK5OTrgFlqVR70/4pGsJbh3LZeXY1JHMPGVBH/oCP84awpPhHjgABu8KPDvuewZUdISkXcyac4/TFqko5o35ln3JGgHtJzB7TGcq+jgCekxhrfh4ykc0cAPzsV+YuTmH5KoZCSldikB3J3SaHhefElQtG5htHzQKefnj4aJHQ4ezdzgth47jlXIGQIfXE93o3bgsAW4GHJw8KdHobb588zGcNBvxm9bfuPV+NzQXfAoH4uXmgrOLK14hlWgz+AdGtfZEp5LYsnQV0ZmH+1/W613su863GEUKaWA9y8mzed1D1IkSXSezeEI+hVedN09+9gd7j53mxN7fGNE8IHPfbbG/s/CPpMyPqqh5fPL5VhIUgA6vOoNYuP88Fy9Gc3LjV3QOTb9gs0Wz5OtfOCmTGAth12Rwlsg36uJCxny5M23C8ZvfIfX4NEbNeIV6/ULz/upKXeWP3/8iKaPB1LURQ795i8b+ac0zppqNqRakY87JWxe1Hp7PnJ3pfUU1Z+q89Tl9HwtIK2NALV4Z/QoL177PdjOoa1vZsCuVZ5o65UmxrZdjuWIDnZcP3tm+uerielbsSEHpPGjxYldKGnJex60rPcmyRbtJUQYqPNOTx92yvW8Io1nTEozefYgTO3dxWVXE7y5HAalLq1mwIQGlL0ybXi3xzbacLqgpzSoaWPPnJXbtOIm1QekcgvV9cChFrRo+6PZGce7YCZKpivHGVilcowYh+s0cSzjL6SsK/P/FsCbNiwZNquG4cCXmY4c4ZoFAAw+0XjPpvfH11sHVeGIvmoHbXPlYDzP11UHMP3+vATeVQkYN7fJF1n3Qnq7Oy5n7YumH8MPhRFDpshTzcwRq8/KQbkxfPZZDFkAlc+TQaaxtyqBHEbXsF9bEpadRQzn6fvouDUPSziSvCt0Y/c4Slr6ygiSlSN27kS1x/f7P3n2GV1G0DRz/7ykpJOekVwKEBEgIvaMYilKlg4gKohQFFcGKYBcRKSq+qAg+ikqxIEXERkeQXoOUUAIEQgkkkN5OmfdDCgESSOiB+3dd+QDn7Nkpu7P3zs7MEuJxq6eyCSGulgSu4pbR902MAAAgAElEQVSx7NrItuJeV6qyiVq3hfShIYWCjuvEdoT9h3IKHhkawu7jHu+SXcgy90RxIL97TGWy6qXquL9UzJftaRyPO4fi+qy1asnMwqZAc3LG6aIftB6K5qBFgaEa9Wq5lPxHrQfYc8AKaBz+7gnunX/pbULO2VhsKDgdz2k7+JYwurTG7OFAtgL7ORYOj2T1JcG0nZRjuYV5Jv40dq5T4Ioeb18f9JzElnKOFDuYCmVL5+WDlw4O2lNJTbOD37XsVcO1fHnMGpw5d5b8+OlGlut5jjg7aYAiMyMThUvxx5k9hZiNq1gVcw09s/ZENq6LJuemBK4XMgRXpbKB3MAVO8nnkrEDeixE79xDTv7JbNnJ2Hs8GFvM7yjrSY6dtIOHrCMnRFklgau4ZTQnJxwvE9EZnJxvzAGq0kkrFDBrrq64lKhbV5GanIqtxCMYFDarjdxBBdfOYMgds6cslguWHAJQGem5PciaKybXUuzNkkZatgIUqcf3sff4Zb6blXk+QCgBlZ6W25uu0jl1cC+niv2mjqzM7Os69tDBMS9Kttkv/V2jQ95Mdxu26/CEXXNwxFEDZbOef+R/A8v1PCsWK4CG0cF4+WPMEM7ArxfRNqN0O1JJG/j0pbEsj7fjWKUPX47pRLmrSeq1cnKi8Khum63g7pGU5JSSHzvKiq3kJ7AQ4jYkgau4ZYx12tI6YCpfxxURPeg8aNOxGUWu+HStNBdcXc5f5u3xJ4i3QcAVzwaNci7OuRM+FKA5UafPSHqFF7ehgcqRXnlDHbSCiSIAyl76gXZ6swlnDbLTUvLG8xVKmYsrLhqcsSdzLtkOPiXsUTKWo5xRg2xHOkw7wM+PuJUwNVcOjjVnF8ppgEMTxm5ZzNDg22VIvXbj1zy96nItBZXXY6wZMJmuMBxFMxHc4D6CS/PzSev5sNdkVuQFrV/9NpluQbfbJUOjnEs5NPKG7xiq0WNEP+oXF13rA7ivovS2ClGW3W6tkLibOLdk5CdPsuaJ6ezLLBSJaQYCOozm7S6eNybA0IcQUc0RbX/u5Czrwd+Zv30EdRtdOUx2CYugov4v9lsBZSFRVafv8x3wvFJCtXK4lMv/kiIn/gQJdihfilhOH1iRID2cTT3BiRQFhYY3GKrUIMxR40hmNOs2JjK8im/Jys5QhfBQA+zIIWrDNjIfaUVJXhqlOTrioAEqi8wsBeUu3ZshJIwqRo3Y7L1s3JLMc8G3fpH8m+Yqy7VUMk8Sl6hAX56K5a9vU54btD7MhI0pONy2QSuAgWoRVTGQSA6A/QyZQT0Y2jdIZh4LcYeSc1vcQhq+7T9myeIpvNgzktpVqxDR5EEGj/+VFd/3I6SkE4xKvVs3WnVthTk/irLuY8rAAUz6+z/iEs9xNv4kZzOLfpxoqNmJjiH5F3AbcT8OotNTn7Bg3R5ij8dxJDqKDSsX8t3Ed5m5s9BccX0QwRXO9/RYNk7n49+iSUhLJfH4fjYv30zcFTph9cHVqeasgXU/u/dfOA9d83yArpGuaCqdFZ9+zJrkEj4O1YfStl01jJqdU/MmM/twydYN0Hn74aMDbIfYf6jo5+2az/20b+SEplJZ8vlX/FfsWwzuQFdZrqVh3b+b/VaF5liNiJDrHFTqDBiN+tu4pzWfjqD2namXP+jbfo6/X+5En7E/8c/OQ8QdP8r+nZv454/ZfPrWNNZd5kURQoiyQQJXcYvp8Kjbh/e+/YN/t25jw9KfmDikOeWvsDTUtdHw6T6KFxrmT2ZR5Bz5nXcebkZE5UoEhz3AuOLWSTLW57m3ehKkz79QprJrzrs80b4ptapHULtxJG27Ps6w97/gl02F1ozU+dO8ZY3cXkpAZe/h636NCQksT+XqDXmg91ssulLk6tyAJrUd0Gwn2bL56IVvENL8eeiN56lbDnL2TeOxTkOZtmwv8RlWlD2HjISjHDqVUcRYQAO1Bo2gq78Oe/IKRnV5jA/mbiAmIQOL3Y4l/QwxW/7ku3kXrv6g86tP/Qp6sB5i1geT+TcuHas9h9S4Hfy5YB0n7YCuAo+9mnsDkrl9PD17vs7Mf/YRn5aD3W4l8+xRopb9wA9rTnHnrVB0deVacnZObN7EURsYIprQ4OJVC66RZm7EK3NWse7P2zlozaUPeZK3BlQ7f25lHuKPcU/T+b66RFSvScP7WtP50Wd4e8oMVhdzkyWEKDskcBV3J4davDBzOkPquaEr1fNrDd+un/LT+E5Uunhq/wWsHNwfU2h9Tj1hT73P4Brlin5cbt3Hrn1XWFRUF0DrdrUxalb+W7o8NzgsxKnuK8z+5mnqmCElaiav9mhCVX9P3Ny98Q+pyxMzYot8Xabm141JM96guY+OnNi/GT+gLfVC/PFyd8crIJR69z/CS2N/Y1/hjY31GfR8Kzx0dhKWv8uDEQF4untTPqI5jz77GatTcqekmVqOZtb4jlQw2ohf8znPdW5E1UBv3N098QuuSWSPZ3njp/+4sa+buDWuqlxLSsWzfMkOLMpIRLs2VLoBwzY112BC/W/voBUAzUTz935iSp/quFz2lDzC/oPy4lchyjoJXMVdSx/YgfFLN/H35yPo26YelX3NOBv1ODib8A6qSp172/LQgJd4b0Qngi44U1yo/fQs1v/7Ex8M7kzTsADcnAzoDM6YvIKoVr8V3QeN4LUeVS5Y3klza86YP5cw9cXuNKnii6uDDp3eCbfAcJp1e4zmgVfqd9RTuetDNHKC7I0/M++S3iMDQR0nsnTDb3w8tDv3hgXgXs6ATmeknJsfwTXvpf2jzzKyf1MuXHhAw63Jq/y6YSlTXulF8xpBeDgb0OkdcPEMonqTDvR5pBm+F5SBnuD+3/H7l0NpXycINyc9egcXfEIa0P7RVgQXZMWZGoNms27Vt7zx+APUqeSNi1GP3lgOt4CqNGjTmwGtK5Wi1sqSqynXkrHHLuCntZngWIee3atdp2XEyjDHUB6e8g+bFn7M8z3vIyLIA2eDDr2jCx4BodSJ7Ey/l97h8Xp3fUkJUeZpSilZG0SIskIlMu+JBgz8NZmKQxaxccJ913/Sj7jNZbHh9Xt48PNDlOvwJVt/euya3qEghBBlifS4ClGWaF50fvkpIox2YmeO5buDMmbvbmM7MoOx3x/CZqhK/5d7SNAqhLirSOAqRBnjUPs53n0sCF36OsaPnEWsxK53D3scc14fz+pUHQEPvcPwEizhJoQQdxIJXIUoazR32rw9gd4VdKRE/c5KiVzvGva41fyxLQktsDtjR3ekhG8qFkKIO4aMcRWiTFKk7vyHPb730aQszPwW143tzGZWn6hKyzrud88LHYQQIo8ErkIIIYQQokyQoQJCCCGEEKJMkMBVCCGEEEKUCRK4CiGEEEKIMkECVyGEEEIIUSZI4CqEEEIIIcoECVyFEEIIIUSZIIGrEEIIIYQoEyRwFUIIIYQQZYIErkIIIYQQokyQwFUIIYQQQpQJErgKIYQQQogyQQJXIYQQQghRJkjgKoQQQgghygQJXIUQQgghRJkggasQQgghhCgTJHAVQgghhBBlggSuQgghhBCiTJDAVQghhBBClAkSuAohhBBCiDJBAlchhBBCCFEmSOAqhBBCCCHKBAlchRBCCCFEmSCBqxBCCCGEKBMkcBVCCCGEEGWCBK5CCCGEEKJMkMBVCCGEEEKUCRK4CiGEEEKIMkECVyGEEEIIUSZI4CqEEEIIIcoECVyFEEWy2+23OglC3L6UQt3qNAhxF5LAVYg7kEqLZdOSeXw7+QNee24wn2+ylG775FWMatWcQV9t5dyNil9ztvPV4Ido2+xBxm2z3qCdiNvOHVDvOXFL+KB7U3pMiSbnVifmtqA4t34SjzWpTGDFenQfvZxTV91u2Dm+8nPeeP5JerRpSo1qT7Ew+3qmVZR1ErgKcQeybP6EPg/3Z/ib4/ly1iK2ny7FVUQls+Kd5/lqxy4W/76FhBsVuFoPsXrBEjbsOU6K5Xzflf3IzwxqWJGgOn34dl/pAu6bIvs/pvaqSVClpjy3IA7ply6lq6z3zEN/8dEzXbgnoiJ+nu64mc24+fdhbipgj2PeM02oFFSLh7/afYODSUX24RX8+m80K94fyhd7b8Nj9Gaz7WbaK+/z+95E0pJiWD7peT5Zf7XlYuPo4qlM+X4+yzbu4VhSjvRsiwtI4CqEuEDW5o8ZNfModpdmvD5pEFUNN3PvisR/fmLh/iRSDi/m5+Unb2JgqDizYgKDerYhcsBMjhezY9uRJfy44igp5/byy5x1ZNy09N3JLl/v1pjpPN76UUbPXsXuuGSyNQccHfToA0MJdgZS1zBn3l7OpcSy/MelHLXdyLRqmCLf5OMBldFnbObj12dy7G6/e7Gnk5KqLvh3apqEm+LGkMBVCHGePY6fx09nn1VP2FOj6R+qv8kJ0PC6vy8P1/bDt3oXHm8XeBMbKTtJUX+xYOlG9p5ML7aXR1/5Qfp1qIpPQF0e7xNJuZuWvjvZZepdJfPn2DEsS1C41HmK6WtjiE84zemERE6ufZ16BsDUnD596uLvU42O/TpQ6YYftq5EvvomHT01UlZ9wqer02/0Dm9vxvr0G9aG8g4aaAZ8mg1jYKTDrU6VuEPd1L4UIcTtzbprBtNWpYJra4YOrofTLUiDrkJPvvi35y3Ycwk5VGfgrK0MvNXpuMMUW+85W1i66ix2nR+93h3DQ7Wc87fA0TnvCNWVp8uk1XSZdNOSi+bTmRf6VeWPSfv5+cuFvNbiMXy1m7f/24uR8EE/s63zfg6cdSUkrDyu0i0mbhA5tIQQeXLYOPsH9lo0PNr1o2uANA/i1lNpJziRYge9H+UDbqdePEfq9nmUOg6QunIW8+/68QIazn5h1K4uQau4seTwEncnWyx/T3iRJ7u1onGNUIL8vfHw8CYgpBaR3YYwdk7UpbPpc2JZ+c14Rj7zKB1bNKJmlQoE+Hji4eVPcK0WPDJyOhvj0zn2z/9444l2NKwaiLenNwGh9Xig75vM3H62+PGatkR2zBnLkG7NiAgOwMcnkJBakfR8fiIL9iQXv509mV1zP2BQxyaEV/TDyyuA0AYPMnjaVko9xMyylUV/HsemmWjV5X7cLuo9UmfX8OngHtzfKILgAB88PbzwD65Fi94j+GrtKYqbH65S9zJ/3NN0ahJORX9vfMtXo1GHAbwzcwuJRWRMnfyGLj5mzF6RTNhTxGDFrDj+mfYqvVvWIjjAG5/AEOq0epTXvl5P/GUmqWfE/M3klx+hZe1Qyvv6EBAcTr0WPXl2/OJLxijmrB1BhLsZszn/z4vIidHYAGy7GXefF2azD12nx+cOKcj4g6cquWN286Xr9JNFDjPIXvkC1dzNuAX24ZekQt+4yvxcIDOahR+/zrN9OtOiYQSVA33xdHfHKyCEum0HMu7PQ2RmHWfdzPcZ3K0ZERV88PT0o2JEJL1e/YZNl5mBZ0/exdyxT9O5STgV/X3wrxhOk85P8+G8XSRfJla7bvWek4MFwBLFB009CtWJGffgZ1mSA6hEZvb0wWz2pMmYqCKORTtJu+Yy9qlONAkLwtfbn4rVm9J58Hh+2592aX1ZTrDhx08Y9dRDtGkSQeVAP7w8vQmsUofIXpPZljfvSB/aiU41DKjsLSz6+8T1H4+tEvln3HDGrTl7lROUcjix7ntGD+lBZO0qVPDzwss3gIpVa9G4ZSceG/Ia4/63ktiC2Wzp/PKYb0H5etQaxYaCOVaKpB8exie//D3r8/bW/JK2sH5kTTzyP/N9gl+LWgkg8ygrv3qTAR2bEBEcgLeXD4GhdWj58HDG/xpNZgnyc+B/PahccG66U6H9J0RdeUNxJ1FC3A4saSr+aKw6kZx9k/YXpcY09VAmk6noP7O3qv30AnXcdn4T++nvVDfvYr5vMimTyaw8/P2Vr7noz82+jdSryxOV/aKk2M+uVxM6V1EexW3nWV31nrpDpV68oSVWzXu6nvIpZrvzeQlQAxZlXbFIrHsnqkhPkzJ7d1PTT128M6XUuR/Uwz5mZTKblZunt/Lxcldmc34aa6jBC09dkjdL7Dw1uL6PMl8ufe611agNOefL48TXqrO3SZk871Pjd1svLKvE1er91hWVW155u3n5Kh8Pc+7vmz1VRL8f1WHLJZWtji4Yqhr7m4usM+9OX6k4m1JKWdX+T1oqT5NJmb2DVJWwMBVW8Behun95QFmVUsq6S33YzFOZTN6qyzd5ebYnqNm9/JXZZFbln5ivUi4pPIvaMbqR8jCZlXfHaXn7u9r8XKqgzIopY7N7RRUe5p+3n0vLwPeet9S/qZf+bsbeb1XfGl5F15/ZS9V8/Du1N+PS7a5nvRf8v9lLBYYWrpMwVb3pKPVPdm75z+jhrUwmD9X4/R3qwiLLVgdm91e1fXLr32z2UD6+Xsot79h1K99SjV6bfMGxe0l5ms3KbM6tF8/mH6l9BcnLUZverKvcTWYV0HeuSr5yVZWCXSUu6K9C3EzKLbClemf1pW3HZVnj1B+vRqrybldoH7y7qe9O5/9ymprzqE/BZ+41R6r1BVVkV+dm91Le+dt51FNvbckv6Ry17rUayj3/M59+asFFTU7WwZ/VkEb+xRwTbqrq8BUq67K/ZVfnVo1UTX3zz2Oz8qo3TP0VX6pSEXcA6XEVt5Y6x+apg4isWomqNWoSXqky9Xp9wOK4G7zEjKEyYaEO5HcqapqGVriHUWVz+OeRjFtZmjnjCmt6OpnFdI2ozH18PfJzdhTOmu0w3w18hA9WxWMtbjtLHH+N7M2wX+ML9brYiJn+HMN+OkjWdZq8m/HfdvZbQV+hFrW8ihisZ76ftxau4b9Dp0hMPMPphDPEbvqBF+/xQLMcZc67X7C1cN6s+5n61HP8eCALzbMxQ6YsISo2noT4I0Qt+463e9XEXJoWyH6SuS8M4KONSRgqdeL9hVEcPx3P6RPRLP6oO5WNVo4tHMFrP184Iz3nv0954pkZ7M3Q4998ONMW7+BwfAKn4w4StXoe09/oyMWjIowN32Dlnmiio/P/djN/SBWKnfOjedC8dQMcNEXa2pVsyrroc1ssq1bGYMVAzdb346+7+vxcliGcoYtiOJWYREpyAseiFvJeG390tnMcPwnhvd7nh9V7iDtzjoTju/l7YlcqGiBz9zTG/nD0wv2krWVMv1f57agFx9BujJm3iZj4M8THbGLumK6EOFqIXfgyfd5dTVrh7a53vRfkrTrDf9tdqE6i2bN+LM2vMHoga+sEnnxxHodz3Gg45GtWx5zidHw8RzfPZlgTd0jZxqfDPmJLUT2EhhCe+G4T+46e5lzSWU4d2s6SKY9xfs6ikfC6NXHSFJk7txF9XZstDc/OY5j8ZDiOaVv59JGevFfintcsdn7cl4HTdpByG4xgUEkreL3Xs/wQXcykR82Ve5o3wPEyv5Fz4FueGvglu/MaWJ1Paz78cQLt796BxXctCVzFLZTFjok96fraHKISc9fqU7ZUYhZPoE+XUaxMupHLqbjQ7IXv+XX1dqKPnOD02STOntzL8kk9CTbmNYT2eFYui6Loa5GBqkPms+fIUWK2zGFYA5eCIBidBy1GzWN99GH2r/uW/tUd8z5TWGOWsvRA/mNQRcricYxdkT+EQMO1zkC+XLKd6L2bWfRRL6o65W1pO8GvoyezKf/imrWBaZ/9S0peEWkuteg/dSV7jh7j0K5/+eWVe3EtVXtu49jho1gU6CsEU6GoCE3nR817alPJyzkvgDPgHtaJtz8bTl0jWGPXsCb2/CPezDVT+GJTOkofTP/p8xjftymVPZxxcPakcuMevPLZy7QsxZDFnK1TGPd7PMqxLq/+8C3DWwXjogOcAmj69Jd8MbAyensyK2YtJC7/Yq0SWDh+MtvSwbn+a8yd+z6P3hOCl7MDTmZfKtdtTeem12PlAh2BrdtRx6hhT1jB4q0XriRqP7GMxf9ZwRBOu9aV0V9tfq5Ec8Tdx5NyRh1oDrhVbsXwySOIdNZAc6J+78F0qhuE2VGPg6kC9z79KW93MKGpLLauXE/q+RQT+8OHTN+XjebWig/mTWdYm3B8nB1x9gmn7bDpzBvTAjM5HPzuQ2YeOZ/A613v10SdYt74qfyXqeHfYzI/j3+YOt4OgB5ztc6M/vZdWrmC5eBPzF5XROSqmagQXpUAN0d0mh5n71Aa1Ai44AbGqWIl/HRgjz/C0eu9UL4+kI4f/8r0/qULXu0n5vDe/20jvaB9iOCxT35ny4GjHDu8h7lPh97EmdkWoj5/ne9i8tZj1XR43fMsU/7YyJ79B9iz7R9+/eZznm9pKvYX7GeW8Nqjr7Ekbz1qzbU+L82czqCwy4W64k4lgau4ZVTCr4z/v6LGYipyYmbw4azDN3ANTx0BDdvRqm4ogZ6uOOo19OXK06j/uwxuaMz7jo34o8eLXczcydMff093fKq1Z+SLHTDnB4oqC1OVptQI9MK/Zg/efC4Sp/zPrEc4GJs/LiyNFb/8Sf67ATTHhoyY/hF9moYSWD6MFk9/wZSnqhRcYKxHFjI/r0vTuutvlsblB4kGQgdOYsJjDQhyd8O7Ym1aRYbhUqrA1c7ZhETsaBi8fHAvxbb64JpEmHRgP8OpghcdWNixeBmnbGCs+TiDW7hxbf0iFnYsXMQhq4bDvf3oV/PiC1Y5GrdvgbdOkfPfZqLyAgiVvIIFy5OxaybaDh1MrRu4TIKuUgc61Tai2U6wbPHOQuMsFfFL/2JrjsIQ9iAPhuuvOj9XlS6/JjQN0YM9lUMHT194TmkeNGoajhGFJS6WE/mHlP0ov8/dQIbS4d9jGH1DLg5zjIT2HUZ3Px0qazML/8p/EcP1rvdroxKXsWB1KkofSNf+D+JzUWJ0gW1pV8cI9kS2bTnM1Sz/qvfyxVsHyprImbOXb7HsJxcwonsXunQpxV/3IUw7YMTNoGFP3cqnjzzE+M2XexJk59Rf81iT37BqTjQaOZPPBzWnmp87bl7++LnfxElulq38PGcf+e+a0Ac+ypSfPqRvZHWC/P0IqlKP+x/qRkPPYo4U2x4+7zOAb/dnowDNuToDp//Mm/fe2mNL3DqyHJa4ZSy7NrItvbjn49lErdtC+tAQir8PvxaKtAN/8s3UWfyxbg+xJ+JJSLXh4O6Da3ahkCMri2zFFYNAp+AqBOkh2QooG6lJqdgxoUPDPaQKXrplxNly85WamgM4gjWGnbvPPzozhLejbcgFfTnUb38//lMO5G5rO8Xu3Wew3xtIRsyB8wvka640alb7so/ZSlIeWRlZKDQcnZyKviCodGIWT2fKjN9ZvyeW46cSyDR4UiHEi4x0BcqKNX+8g0rmwP54bOhwr12Xyte6rqZKYd/e49gAbfsndG361aVpzDxNkgKVdZr4JAXOGtYDO9mTpcAQRqN6pht7odNXplPX2ozZuoUjf//F7rcbUscAqDMs/3MjWcpAROcuRBiuPj9Xly5vfH30gI3kpNyJfud7LHR4+nihAyxpqaTZAT1giWZntAWFA7Wa1C96WTTnejSuZeT7Uxb27ozGSkUcrne9XyNrzB4OZCuwn2Ph8EhWGy/+hp2UY7nn+5n409gJL344SHEcnXJvTFUmGcWNE8qjMo+xdfUqNl/DkAJ72i7WRSVhb1SumJ4nK/t27iYnPynG+vTsfjN7WC9kj48iquCOSIdPu4d5wKMUx7JlH1u252/uQdsJc5nY3k963e5iEriKW0ZzcsLxMu2Xwcn5Bh2gioSlr9G53zR2XxQ4WxLiSL/ouyUZsHBxXizW8303mrPT+R5XFDarLbfnQKVe8HYZnYcnHhe1xpq7J+4axOVtm5aahkKRnpqByt9Uc8Hkcu0RgsFoABRWq+XSPKskVr3Vmcc+iyJNaeic3PD3r4SPIZtzB/aRkK0ufH6jMkjPUICGq8n12i8yKp20dJWbvqRjRCdd7stZZGXn7lulppCqAJ0ZN9ONvtTpCenWi0YfbGXtwUUs3DWKOnUNqNOLWbA2A4x16NEjIveYvsr8XB0HHPMCNrv90h5BB2Peh1br+R5HSyqpWQo0I25uzkXvWXPFzc2ARjaZaam5217ver9GKj0t94mOSufUwb2cKvabOrIys69u5r7NmjucSDNiNF6+jvQBPZj0W73LrsZQlMzd03nlzfkcsegp33ECE/tebniLIiU5tSAvmt6fAN+rr4lrHbClks8VDGkCHT7+PqW/OchnT2Ld99+zqdsb3HPxsifiriGBq7hljHXa0jpgKl/HFfGATudBm47NbswC+NnrmfjS/wqCVp1rNdr26UmzUC+ccuJZNX0Sfxwq6TpExSlBc6+ZMRcaiGpLTCDRDgGFWnX72QTOP33UMJlc0dBwMZXLnUymAJXEyfgMwO0a0qvDZDahI56c1FTy+oQLWLZN4pUpO0nTfGj5+tdMGd6KoPzKyVzMMzV6M/ts4by54OqiAXZSziVhAy7p7CoNrRwu5TRAh9fjc4n+onWJepg1ZxfKaYA9leRUxSXPii/+/rWkEdBV6Ebv+0azbtlBfvt1J6/XrUfC3wtYlwGO9zxCr2r6a8rPjVFEro2uuDpqkGUhJTkTheOl31JpJCdbUWg4u+YFqde73q9RQf07NGHslsUMDb7+obRKScnrqTZdcD4XyTmI2s2CSvX7mbum0vfjX4m16Cnf8RN+nf4kYVdoGJ2cnSBvcSllTyMtQ1Ho7vkydBgddBQ0LVmZ1zz5U3M15dZBbmo4m3CO/I79EjGG07TuaTZtPosdReqWj3isvz9Lfh5E1Vt5cIlb5lbfEIu7mXNLRn7yJGEXPwLVDAR0GM3bXTxvyKNd2/EtbCl4dGWk/oif+HHiKIYPeZrBzz/LgzfrNaeGEGrVOD+py7bvL/7aXzhgzmTTn8uJzw9c9X5E1PBBB5QLizj/WkuVyZq5v3PymgYE6wmsUB49CtuJOE5ecC9h59TmTRyxKgzVnrms8P4AACAASURBVOT9lwsFrQB6I8aLWxLNTHj13N9L3byO/4obKFxSmhtVqvqhx07y1g3sK+F9hSEkjCpGDazRbN6efIXbCQ0Hx9wATWVlXd0FW+dP177tcNdZifl1HluzjvP7/HVk4ELzPj2plF9OV5mfm8YYRs0wI2Bh56btXLxIAgBZO9i8ywIYCasRlhugXu96v0YF9W/Zy8YtV6r/q2M7FcdJO+hMQVQozeDwEsjcNZW+3Uex7LRGYAmDVjBQKaTS+V4pSxT/bky73AaF6PHwci9ok+zn9rP/9LXNNND5hVHNLf/At3Fq6SI2lGaxFn11nvlxDq81zh/qYydx+ZsM+HATd/mLdu9aEriKW0jDt/3HLFk8hRd7RlK7ahUimjzI4PG/suL7foTcoLtpTadDX3B9sXP6wH7OXs2sjGvmSque7fHJOwtVzg4+GfgC36/dT9zRPayc8gxDp5+fMKKv0Imu9XMLxVCjM52rGAoa8qTFo+gz8gfWx8Rz9mwCp86kFvtCgKJpeIeH46MH66E97L8o4NDy1wqz20o4gcVInS6dqGwA66GZjJt1qJjVGUrKSL32bQjQg3XfTD5dFF+yIRw+99OhkROaSmXJ59PYedmFynV4+nlj1MB2dB8xVxV0aXi070sXPx222AXMnjWbn9dlonm0p28X30I3YleXn5tGF0znHo1w1uycmj+ZH45cfDRZOTz7cxbE29Gc6tPlwQp5F5PrXe/XRvO5n/YF9f8V/xUZgV8LO3F7okmxg6FaBFWv9zNMvRGj3ljinta8jQht0ZyK+Te29tPMHTWc/62L5VzqOY7v/ZeVUYnFTHw1ElYzHIf8A9WykS/fncXWuCRSkxM4mVjMclaX49SEjm18CoIN25FveLrPaH5avYvDx09yPDaaLcvnMGPZkWLbFs2tMSOmT6SjX35jmcHOT5/ijWXnbq/zRtwUEriKW0yHR90+vPftH/y7dRsblv7ExCHNKX8DJ73qAhvSIDC/VbdxdNZj1KxWj3sjm9O8eUfGrrtZl1oNtw4jGdHCPe9EVKTvmsHzHRoSUbMpXUfO51B2XrOs86PTm8Npmn/hMtblmbceonx+BG5PYsvUIbSrV5Xg4BBqDppb5NuJLsdYqwkNnDVU2jY27ipcBjr86tajvB6sB2fx/icrOJxa6BKj7NiLuHo4NBzKm90C0NvPsmxEJ3q/P5fNR5PJsStsWcmcOHj00reTXYZz8+d5sbkbOttJ5j3bhYGfLmLb0XNkWhX27FRO7VvHgq9/Y88FSa/IoyOeIMQImdvG07PHSGas3s/p9Bxs1kzOHdvJyt/WFiw35VynEdWNGvaEhYwfu5hDKRbs1gxO7V7O3JUlnHVerjn9Hg7BYDvOj69/xKZsHeV79qPdRWPyrio/N42O4MdH8WRVh9w1OHsM4vPl+0nMspCZsI9lnw+i5+srSFZGQvqNol+hWVjXu96vLRsVeOzV3JvgzO3j6dnzdWb+s4/4tBzsdiuZZ48StewHflhz6upWMFEpbN24Bwt6KjRqeMl6wNfKufpAvlu2niXfljRozWVsMIDB97oWLMOXc2guL7evRaXylajepAtvLz5dTH41fNs/RAtT3rGqLByaM5RWERUpXyGUJm+sKXaVleKZaPPKK0Tm97oqC8eXf8TTne6lTvUwqtdqzP3dn+KVqf+SfJkoVF/xUSZP6k1Q3qGmrEf4/oW3WHJOQte7jQSu4u7j0IQXxz1OlfwxX8pO5pkYdkXtYEfUHo6n38QVu/WhPDV9NiOaeRfqBb6QZgig9eif+KJX4QkZGj6dJ/HTuAepcLkZbqVhbk77+8qh2WJZtjT6gh5bY6PneKdHBYzqNMvHdKNuBX8CKwYTHBxMheDezCzqlaE6f7r/30980D4IgyWOZRMH8EDNCni7u+HhW4Hw+95hTWmugvoQBn41nWfruaGl72Xu231oWbMSfp5uuPuUp1qj9jwx8jOWX7ToqanFe8ya0ImKDnZOr53C0E4NqRLgjYenH5Vq3Ee3QZ+yOu+KqQ99lOHdAtCTxpb/60XdIC/cPf2pdk93hoz7s4TrqTpQ/8knqe8I2VnZYIzg8f734Xyd8nOzaKbmvDtjPJ0qGMk6OJ/Xuzeksq8XfiGN6PH6fA5mG6nQeSKz3291fik4uP71fm25wNRyNLPGd6SC0Ub8ms95rnMjqgZ64+7uiV9wTSJ7PMsbP/13dT3Daav5e20GSl+eNu1r35DxvE5BoQSVdgC0PoRBX0yiZyWHUg+30gX0ZtzYBwk0XL9hD4YqT/HNjBdp6qUvJj0Ky4E9HLjsYyIN744fMOHhoLzxsQrbsR8YNW6tDBm4y0jgKu5CGr4PfsryZdN5o19bGlTxx83ZiE7ToXdwwc23IuENWtH18aG89kTjUi7kfxWp8Yrk9UUbWPrFy/RqXp3y7uVwcHDBM6gW9z82kv+tWs8vwxpcGBwA4ELtwT+w4d8f+WBIN5pVL4+niyMGgxMuHv4ERzSkZefHeOb1sQxoUIJLquZNu14P4Kazsm/uHLYXDi50gfSYupSFE5+hU+Mq+LpAVmoqGdk2HDwqUqNBCzr06k3kRW8u0Ez1ePan9az+9k0eb12HSt6m3DVzHV3wLF+N+q26M+ClF+hyyTqh+T9w4T91fm0Yu2Q9v338HN3uCSPA7Ihep8fRxZuKNe+ja/+e1L+kwpypMXAWa1d9yxt976dWkDvOBj3Gch6Ur9aQNr1aElwwBduXrp/9zvevdKNBsCflDHqM5TypUOcBHm5bvcSBiT7kUQa1NqOhUe6+/vSNKDp/V5efm8c5YiAz167g69d607x6AG7ODji7BVC9+SOM/GYla2cMIOKSiPw61Pv1zQU1Bs1m3apveePxB6hTyRsXox69sRxuAVVp0KY3A1pXuorfVST8+ROLz9kxBHfjoUa312L4huDe/G/lYj4f3o2mVXwxORowungT2rQLXRv7XObibyS03wxW/f4xz3RqTBU/Vxx0OvQOzrh6BhJSszEPdH+SF995g4dKPB9Ah2+rd/hz0zKmvvYoD9SphLeLAzqdASezP6H1W9O71z0Fw6aKpXnTcfT7dM1fJUFZifn2babtvd0GiYsbSVNKST+7ECJXxkpeatiDr0948tB3m/mm242ZIHc59mNT6VhvBGtVI8ZsXsKwkFu8GKgQRbFF80nrSN7bptHo/XUsHnaZVwLfVqxEjWlGqwl7c5+qOD7AZ3vm88QVVtwQ4nYhPa5CiPPKteD5YffiohL4bcIXbL/uk1muzBKznyM20Bz8CfQuG6GAuNsoziwcz5fbs9EFPMQrT4SWkaBViLJPAlchRCE6Kj/xLoMjjFh2T2HElF1c79evFykn9w1lljMb+ezjeZy0aTjVb0ET15uxcyFKR51dyuh3fuU07rQaOZK2shi+EDeNBK5CiAs5N+KVj4dQ3SGT/X8tIfqGT6Sxc/SbblTw8cG/altG/3MO5RRG/9ceIUhaKHHbUZzd+Adr4hXuLd9iYt+KciEV4iaSMa5CiCJksX/NZhwbRVLphry+rDArOz/pSI8JW0jSPAlp1J4nXn2DIZH+8vhV3KYUyTtXsc+3BY39JWwV4maSwFUIIYQQQpQJcqsohBBCCCHKBAlchRBCCCFEmSCBqxBCCCGEKBMkcBVCCCGEEGWCBK5CCCGEEKJMkMBVCCGEEEKUCRK4CiGEEEKIMkECVyGEEEIIUSZI4CqEEEIIIcoECVyFEEIIIUSZIIGrEEIIIYQoEyRwFUIIIYQQZYIErkIIIYQQokyQwFUIIYQQQpQJErgKIYQQQogyQQJXIYQQQghRJkjgKoQQQgghygQJXIUQQgghRJkggasQQgghhCgTJHAVQgghhBBlggSuQgghhBCiTJDAVQghhBBClAkSuAohhBBCiDJBAlchhBBCCFEmSOAqhBBCCCHKBAlchRBCCCFEmSCBqxBCCCGEKBMkcBVCCCGEEGWCBK5CiCLZ7fZbnQQhbl9KoW51GoS4C0ngKsQdSKXFsmnJPL6d/AGvPTeYzzdZSrd98ipGtWrOoK+2cu5Gxa852/lq8EO0bfYg47ZZb9BOxG3nDqj3nLglfNC9KT2mRJNzqxNTFGsi0f/8zo9ffcQ7Lw1h1C+xyG2ouFNI4CrEHciy+RP6PNyf4W+O58tZi9h+uhSXLZXMinee56sdu1j8+xYSbtQVz3qI1QuWsGHPcVIs5/uu7Ed+ZlDDigTV6cO3+0oXcN8U2f8xtVdNgio15bkFcRIQlNZV1nvmob/46Jku3BNRET9Pd9zMZtz8+zA3FbDHMe+ZJlQKqsXDX+2+wcGkIvvwCn79N5oV7w/li7233zGqzv3OqIceY/Aro5n09RxWx6TKcSruGBK4CiEukLX5Y0bNPIrdpRmvTxpEVcPN3Lsi8Z+fWLg/iZTDi/l5+cmbeMFVnFkxgUE92xA5YCbHi9mx7cgSflxxlJRze/llzjoyblr67mSXr3drzHQeb/0oo2evYndcMtmaA44OevSBoQQ7A6lrmDNvL+dSYln+41KO2m5kWjVMkW/y8YDK6DM28/HrMzkmUaEQN40ErkKI8+xx/Dx+OvusesKeGk3/UP1NToCG1/19ebi2H77Vu/B4u8Cb2EjZSYr6iwVLN7L3ZHqx4xf1lR+kX4eq+ATU5fE+kZS7aem7k12m3lUyf44dw7IEhUudp5i+Nob4hNOcTkjk5NrXqWcATM3p06cu/j7V6NivA5Vu+GHrSuSrb9LRUyNl1Sd8ujr9Ru9QCJHnpvalCCFub9ZdM5i2KhVcWzN0cD2cbkEadBV68sW/PW/BnkvIoToDZ21l4K1Oxx2m2HrP2cLSVWex6/zo9e4YHqrlnL8Fjs55R6iuPF0mrabLpJuWXDSfzrzQryp/TNrPz18u5LUWj+Gr3bz9C3G3kh5XIUSeHDbO/oG9Fg2Pdv3oGiDNg7j1VNoJTqTYQe9H+QCHW52cQhyp2+dR6jhA6spZzJfxAkLcFHJlEncnWyx/T3iRJ7u1onGNUIL8vfHw8CYgpBaR3YYwdk7UpbPpc2JZ+c14Rj7zKB1bNKJmlQoE+Hji4eVPcK0WPDJyOhvj0zn2z/9444l2NKwaiLenNwGh9Xig75vM3H62+PGatkR2zBnLkG7NiAgOwMcnkJBakfR8fiIL9iQXv509mV1zP2BQxyaEV/TDyyuA0AYPMnjaVtJKu1aPZSuL/jyOTTPRqsv9uF3Ue6TOruHTwT24v1EEwQE+eHp44R9cixa9R/DV2lMUNz9cpe5l/rin6dQknIr+3viWr0ajDgN4Z+YWEovImDr5DV18zJi9Ipmwp4jBillx/DPtVXq3rEVwgDc+gSHUafUor329nvjLTFLPiPmbyS8/QsvaoZT39SEgOJx6LXry7PjFl4xRzFk7ggh3M2Zz/p8XkROjsQHYdjPuPi/MZh+6To/PHVKQ8QdPVXLH7OZL1+knixxmkL3yBaq5m3EL7MMvSYW+cZX5uUBmNAs/fp1n+3SmRcMIKgf64unujldACHXbDmTcn4fIzDrOupnvM7hbMyIq+ODp6UfFiEh6vfoNmy4zA8+evIu5Y5+mc5NwKvr74F8xnCadn+bDebtIvkysdt3qPScHC4Alig+aehSqEzPuwc+yJAdQiczs6YPZ7EmTMVFFHIt2knbNZexTnWgSFoSvtz8Vqzel8+Dx/LY/7dL6spxgw4+fMOqph2jTJILKgX54eXoTWKUOkb0msy1vPpY+tBOdahhQ2VtY9PeJ6z8eWyXyz7jhjFtz9hqW3lKcXjGR/m0bElbRHx//ioQ36czgcfPZm3rpr+ac2cXSWZ8w6umHaXdPTUKD/PH29MK/UnUatuzO8B8PUviszDyynC9H9KF1vaoE+fngXzGMRu2f5I1v/uV4duFfzmTxs6G459efd2s+O1yoxDIX80xld8xmM56N3mN7oUrMWf0y1fPPRzcfOkw9hh3F2R3zmPzOcPr3aEdk/Qgql/fHx9MDT98KhDVqxxNvfsfG02Vz5QpxGUqI24ElTcUfjVUnkrNv0v6i1JimHspkMhX9Z/ZWtZ9eoI7bzm9iP/2d6uZdzPdNJmUymZWHv7/yNRf9udm3kXp1eaKyX5QU+9n1akLnKsqjuO08q6veU3eo1Is3tMSqeU/XUz7FbHc+LwFqwKKsKxaJde9EFelpUmbvbmr6qYt3ppQ694N62MesTGazcvP0Vj5e7spszk9jDTV44alL8maJnacG1/dR5sulz722GrUh53x5nPhadfY2KZPnfWr8buuFZZW4Wr3fuqJyyytvNy9f5eNhzv19s6eK6PejOmy5pLLV0QVDVWN/c5F15t3pKxVnU0opq9r/SUvlaTIps3eQqhIWpsIK/iJU9y8PKKtSSll3qQ+beSqTyVt1+SYvz/YENbuXvzKbzKr8E/NVyiWFZ1E7RjdSHiaz8u44LW9/V5ufSxWUWTFlbHavqMLD/PP2c2kZ+N7zlvo39dLfzdj7repbw6vo+jN7qZqPf6f2Zly63fWs94L/N3upwNDCdRKmqjcdpf7Jzi3/GT28lcnkoRq/v0NdWGTZ6sDs/qq2T279m80eysfXS7nlHbtu5Vuq0WuTLzh2LylPs1mZzbn14tn8I7WvIHk5atObdZW7yawC+s5VyVeuqlKwq8QF/VWIm0m5BbZU76y+tO0odssrtlV59d7oebUorvA5lqPWvVZDuRe7jZfqMPWYyj18s1XML88Uc16ZlMnkpspHvqr+LPT7yfP6qfL57ZU5UD254PxBZ9kxWjXyyDtevTuprwoaX6va/3EL5Zn/u56RamK0tQRpzc2jZ/U+amZMCU4iUWZIj6u4tdQ5Nk8dRGTVSlStUZPwSpWp1+sDFsfd4CVmDJUJC3Ugv1NR0zS0wj2MKpvDP49k3MrSzBlXWNPTySyma0Rl7uPrkZ+zo3DWbIf5buAjfLAqHmtx21ni+Gtkb4b9Gl+o18VGzPTnGPbTQbKu0yroGf9tZ78V9BVqUcuriMF65vt5a+Ea/jt0isTEM5xOOEPsph948R4PNMtR5rz7BVsL5826n6lPPcePB7LQPBszZMoSomLjSYg/QtSy73i7V03MpWmB7CeZ+8IAPtqYhKFSJ95fGMXx0/GcPhHN4o+6U9lo5djCEbz284Uz0nP++5QnnpnB3gw9/s2HM23xDg7HJ3A67iBRq+cx/Y2OXDwqwtjwDVbuiSY6Ov9vN/OHVKHYOT+aB81bN8BBU6StXcmmrIs+t8WyamUMVgzUbH0//rqrz89lGcIZuiiGU4lJpCQncCxqIe+18UdnO8fxkxDe631+WL2HuDPnSDi+m78ndqWiATJ3T2PsD0cv3E/aWsb0e5XfjlpwDO3GmHmbiIk/Q3zMJuaO6UqIo4XYhS/T593VpBXe7nrXe0HeqjP8t92F6iSaPevH0vwKoweytk7gyRfncTjHjYZDvmZ1zClOx8dzdPNshjVxh5RtfDrsI7ZkF7GxIYQnvtvEvqOnOZd0llOHtrNkymOcn7NoJLxuTZw0RebObURf12ZLw7PzGCY/GY5j2lY+faQn711Tz+vFFJnRM3hm6AyOlvQA0wdQu7YfOhSpq9+m95DZ7E0vLkV2UnZMY0Cfj4jKOx9MkW1o6pzXtqgMtm/Zk9ubjp1TGzdwOK8rV+VEsWFr3kYqle1b9hX0ohsqP8ADJZ40qrDE/c6oUXM4JW+LuGNI4CpuoSx2TOxJ19fmEJWYgwKULZWYxRPo02UUK5NuZEvjQrMXvufX1duJPnKC02eTOHtyL8sn9STYmNew2uNZuSyKoq9FBqoOmc+eI0eJ2TKHYQ1cCoJgdB60GDWP9dGH2b/uW/pXd8z7TGGNWcrSA/kP2hQpi8cxdkX+EAIN1zoD+XLJdqL3bmbRR72o6pS3pe0Ev46ezKb8i2vWBqZ99i8peUWkudSi/9SV7Dl6jEO7/uWXV+7FtVQTRWwcO3wUiwJ9hWAqFHVd0PlR857aVPJyzgvgDLiHdeLtz4ZT1wjW2DWsiT3/EDFzzRS+2JSO0gfTf/o8xvdtSmUPZxycPancuAevfPYyLUsxZDFn6xTG/R6PcqzLqz98y/BWwbjoAKcAmj79JV8MrIzensyKWQuJy78QqwQWjp/MtnRwrv8ac+e+z6P3hODl7ICT2ZfKdVvTuen1WLlAR2DrdtQxatgTVrB464UridpPLGPxf1YwhNOudWX0V5ufK9EccffxpJxRB5oDbpVbMXzyCCKdNdCcqN97MJ3qBmF21ONgqsC9T3/K2x1MaCqLrSvXk3o+xcT+8CHT92WjubXig3nTGdYmHB9nR5x9wmk7bDrzxrTATA4Hv/uQmUfOJ/B61/s1UaeYN34q/2Vq+PeYzM/jH6aOtwOgx1ytM6O/fZdWrmA5+BOz1xURuWomKoRXJcDNEZ2mx9k7lAY1Ai64gXGqWAk/Hdjjj3C0qOD3WugD6fjxr0zvfy3Bqx7/Bz/gtw17OBJ3mKg/J9K9cv5Nu53kf6bwbVQxj9MdWzJm7R5ijhxm3441LJoxmSfrGMG2n6/f+Yb9Obkp0QxBtHv7F9btjua/1TN4qZlX3jmlSN8+mfd/yb350rxa0qZ+/r5txG3Zyik7QBob/91BTn7GVCqb1+/MbXut/7F5R1ZenvUE3P8ANYqaVu7Ymo+2HyD22BF2L5/MQ5UNBXlMWTWXJWckcr1TSOAqbhmV8Cvj/6+osZiKnJgZfDjr8A1cw1NHQMN2tKobSqCnK456DX258jTq/y6DGxrzvmMj/ujxYhczd/L0x9/THZ9q7Rn5YgfM+YGiysJUpSk1Ar3wr9mDN5+LxCn/M+sRDsbmXyTSWPHLn+S/G0BzbMiI6R/Rp2kogeXDaPH0F0x5qkrB0h/WIwuZn9elad31N0vj8oNEA6EDJzHhsQYEubvhXbE2rSLDcClV4GrnbEIidjQMXj64l2JbfXBNIkw6sJ/hVMGLDizsWLyMUzYw1nycwS3cuLYJ1xZ2LFzEIauGw7396FfT8aLPy9G4fQu8dYqc/zYTlRdAqOQVLFiejF0z0XboYGrdwGUSdJU60Km2Ec12gmWLdxYaZ6mIX/oXW3MUhrAHeTBcf9X5uap0+TWhaYge7KkcOnj6wnNK86BR03CMKCxxsZzIP6TsR/l97gYylA7/HsPoG3JxpGAktO8wuvvpUFmbWfhX/osYrne9XxuVuIwFq1NR+kC69n8Qn4sSowtsS7s6RrAnsm3LYa5m+Ve9ly/eOlDWRM6cvXyLZT+5gBHdu9ClSyn+ug9h2gEjbgYNe+pWPn3kIcZvLs2TIA2fuq24LyIIT7MXle8bzGcf9sQn/+pvPcSqVcXkXfOgYrUgfDy9CAipQ4vOrQgvB7boBczbmZ0XTOrwf/hjvn65HTUrBFKpbjfenj6a1qb8ntU01sxfzBkF6AJo3a5WQZtm2bWRLRlA9lbWbEy/4InS8Q0biLWB7fBmNsfnpU7nwwPtG1DkfY9mwjfIDw83Tyo06se7QxqT35KrnH3sOiBjXe8UshyWuGUsuzayrbjHTCqbqHVbSB8agumG7F2RduBPvpk6iz/W7SH2RDwJqTYc3H1wzS4UcmRlka24YhDoFFyFID0kWwFlIzUpFTsmdGi4h1TBS7eMOFtuvlJTcwBHsMawc/f5xtoQ3o62IRf05VC//f34TzmQu63tFLt3n8F+byAZMQfOL5CvudKoWW0uDn1KWx5ZGVkoNBydnIoONlQ6MYunM2XG76zfE8vxUwlkGjypEOJFRroCZcWaP95BJXNgfzw2dLjXrkvla11XU6Wwb+9xbIC2/RO6Nv3q0jRmniZJgco6TXySAmcN64Gd7MlSYAijUT3TjQ2i9JXp1LU2Y7Zu4cjff7H77YbUMQDqDMv/3EiWMhDRuQsRhqvPz9WlyxtfHz1gIzkpd6Lf+R4LHZ4+ub1jlrRU0uyAHrBEszPagsKBWk3qF70smnM9Gtcy8v0pC3t3RmOlIg7Xu96vkTVmDweyFdjPsXB4JKuNF3/DTsqx3PP9TPxp7IQXPxykOI5OuTemKpOM4sYJ5VGZx9i6ehWbr2FIgT1tF+uikrA3KnfVPU+mppHUMf7I0mwAG4cPHMZG1RLnPWPPTgriQM2FZh1aXDCZU+ffmg4NHFiyKhtQZO/9j2gL+DnoCW7TnojRW4iygErfzPooC51d1rDujB00HUajHmuOBeuetWxMGob7xrXszduXzvN+OjR1vjg5RdDhXyUEV906ztoBexJnk2TVhzuFBK7iltGcnHC8zLXY4OR8gw5QRcLS1+jcbxq7LwqcLQlxpF/03ZI8YLo4Lxbr+f4LzdnpfI8rCpvVhgI0lUpqoe5mnYcnHhddiTR3T9w1iMvbNi01DYUiPTUDlb+p5oLJ5dojBIPRACisVsuleVZJrHqrM499FkWa0tA5ueHvXwkfQzbnDuwjIVtd+PxGZZCeoQANV5PrtT/aUemkpavc9CUdIzrpcl/OIis7d98qNYVUBejMuJlu9AMmPSHdetHog62sPbiIhbtGUaeuAXV6MQvWZoCxDj16ROQe01eZn6vjgGNewGa3X3rxdjDmfWi1nu91s6SSmqVAM+Lm5lz0njVX3NwMaGSTmZaau+31rvdrpNLTcp/oqHROHdzLqWK/qSMrM7uUj+Dz2Ky5j7Q1I0bj5etIH9CDSb/Vu+xqDEXJ3D2dV96czxGLnvIdJzCx77UNb9HKueKq0yB3gBaZGZmlyLsiLSUNe/4GOjOeHhfdEWjueLrrKNhDagr5Ta2+WjvaVhlH1F4r2E6xYf0Bjjiu4ZAVMNam/wBXZkz7l6ysLazedBbPtdvIVgAa5pYduK+kb/xwdC50w2XFKh2udwwJXMUtY6zTltYBU/k6roiHVDoP2nRsdmMWwM9ez8SX/lcQtOpcq9G2T0+ahXrhlBPPqumT+OPQtbZyJbgMaGbMhQaiMuy2aQAAIABJREFU2hITSLRDQKEY1H42gf9n776jo6jaB45/Z9NIwu6m9wQIJST0XiT03qugdERFFKwgYkNQBFHsvIqgKIiNjvQqHemhhRKaoSTU9La79/dHCqkkoZqfz+ecnPO+srNz587cO888c+/d228fNfT60mhoOOod0ieTKUDd4nJUImC8h/Lq0Bv06IgiNS6OjJxwlrT9n/LajDDiNXeaj5/FjBdb4Jd5cpLW8FyVvvx8I/uxOVLaUQMsxN68hRnIk+wqDs0BRwcN0OE6cAHhX7cuUoZZs3fEQQMsccTEKfK8K879+XspI6Dz707fJhPZsf40y5aEMb5mLa6tXsyORLBr1I8+lazu6XgejHyO2qY0pe00SE4jNiYJhV3eT6l4YmJMKDTsS2cEqff7vN+jrPNv24DJe9fwQtn7H0qr2NiMTLU+R3vOl70f1R/zK9b3Jx35hgGfLOF8mhW+naaz5PshBN1jx2iJvkyUOevJl9KG4ryN0NAb9WTFvZYYrl1PJceZttzg6g1zVi+o6Q23x9xbh9ChXVk+PX4aEybCtyxjoVX6eFbrwFb0G+bEgdnb2JN2i21r56Dffit9GIqmp1mnZpS+t0MX/w886gdi8V9m35xx04cQlPsVqGaNd4eJvNPV5YG82jVf3MverMF8NtQe+yu/THuDF0c8w7OjRtLxYf3MqXUg1arcntRlPrGKVSezB8xJ/L1yA1GZgauVJyFV3NEBDkEht3/WUiWxdcGfXL6nN2FW+Pj7YoXCfCmSyzmeJSxc2fM350wK60pDmPRqtqAVwMoGm9w9iWagcnD698Xt2cHhggYKF5VmpEJFT6ywELNvFyeK+FxhHRhEBRsNTOHsORBTyOOEhq1deoCmkpPvbrUGnRfdBrTDSWciYslC9iVf5M9FO0jEkab9e1Ems57u8ngeGpsgqgbZAGmE/X2A3IskAJB8kD1H0gAbgqoEpYct9/u836Os8592nN17Czv/d8d8JZLLFtDp/fAvzuDwIkg68g0DerzB+mgNn/sUtIKJ04sXZq1Fi2ZDcNWgYmWx7EOqUzFzA5XIthUbuJmtci2X1rAqa4kRDdvgqlTKimttqNG1E2XTXz2QsnsGX+9IRmGFV/OWVK/QklaVrAEzFxd8yW//pHdGmr4F3Vs+2jHT4t9BAlfxCGl4tP+EtWtm8HKvUKpXrEBIg448O3UJG38cROADStVoOh1WWb2fhehTJ7lxN7My7llpWvRqnzVJQqUeZPpTL/Hj9pNEXjjGphnP8cL3tydNWPl3plvt9EqxrtKFLhVuz5q9teYN+o+bz86IKG7cuMaVq3EF/iBA/jTcKlfG3QpMZ45xMlfAoWWuFWYxF3ECiw01unamnDWYzsxlyrwzBazOUFQ21GrfBm8rMJ2Yy2fLo4o2hMO9JR3qlUJTcaz96lvCku70aR0unm7YaGC+cIKIuwq6NJzbD6Crpw7z+cX8PO9nftuRhObcngFdPbLddO/ueB4aXVm69KyHvWbhyqIvmH8u99Vk4uzPX7E4yoJWqjZdO/pn3Ezu93m/N5p7S9pnnf+ZHM43Ar8XFiKPhRNrAetKIbeDufvFygYbK5t7zrSm3Iwi6vpNrl8KZ/PM5xn44Z6sBzPNoRHdO3oXKxiwCupGj6p2Wf3P1YVjGDZ1BWHnIjmzdyFvD3uPTQlZO+Cxrm1z/ByuTY3udC6XXlkq6Ra3khToXGjWug621pVp06oMVoAl5mbGsAoNQ8vutLrPDwaiZJLAVTxiOpxr9ue9H1awbd9+dq37lWkjmuL7AJfL0fnUpY5PZrrSzIV5T1K1Ui0ahzaladNOTN7xsG61GsYO4xjbzOn20jFHfmJUh7qEVG1It3GLOJOS0fnrPOn81os0zLxx2dTkubd745sZgVtusfebEbSrVZGyZQOpOnxBvr9OdCc21RpQx15Dxe9n95HsdaDDs2YtfK3AdHoek6Zv5GxctvBVWW6Pd8vGtu4LvNXdGyvLDdaP7UzfSQvYcyGGVIvCnBzDpdMX8v462R3YNx3Fy02N6MyXWTiyK099tpz9F26SZFJYUuK4cmIHi2ct41iOogfwxNjBBNpA0v6p9Oo5jp+2nCQ6IRWzKYmb/4Sxadn2rOWm7GvUI9hGw3JtKVMnr+FMbBoWUyJXjm5gwaYizjp3aMqgxwOxNl/kl/Ef83eKDt9eg2iX66fI7up4HhodZQe+wZCKtqhbGxnfczhfbTjJ9eQ0kq6dYP1Xw+k1fiMxyobAQW8wKNssrPt93u/tMPx5ckz6Q3DSgan06jWeuX+dICo+FYvFRNKNCxxaP5/5W6/c3QomKpZ9u4+RhhX+9ermWQ/4XtkHP8Wc9TtZ+8O9ZFpNnPxfD4LLlaFc5fp0fe0XjidmBpX2VH3ubfr7FbPgVkEMnzCE8raZy/VdZsPkJ2hSPYSaLYfy5a6bWUv82VcbyZv9fHMGGzbV6d4lMEeWV+fUgo6POQA21OjcgYDsL750Rlp1b5Xn1/zEf5MEruK/x7YBL08ZSIXMGVPKQtLVCI4cOsjBQ8e4mPAQZ59alefp739m7GNu2bLAOWnW3rSe+Ctf98k+IUPDvcun/DqlI/53muFWHIamtG/igGY+z/p14Tkytjb1nufdnv7YqGg2vN+dmv5e+ASUpWzZsviX7cvc/H4yVOdFj89/5YP2flinRbJ+2jBaVfXHzcmIs4c/lZu8y9biZDWtAnlq5veMrGVESzjOgnf607xqGTxdjDi5+1KpXnsGj/uSDbkWPdU3e495H3UmwNZC9PYZvNC5LhW83XB28aRMlSZ0H/4ZW2IyVoks/wQvdvfGinj2ft6Hmn6uOLl4UalRD0ZMWVnE9VRtqT1kCLXtICU5BWxCGDi0CXnmQt/l8Twsmr4pE36aSmd/G5JPL2J8j7qU83DFM7AePccv4nSKDf5dpvHzpBa3l4KD+3/e7+0o0DefyLypnfC3MRO19Sue71KPij5uODm54Fm2KqE9R/Lmr4fvLjMcv4XV2xNRVr60aV/9gYznLeVXHr8HMQBaV5qqQ77hlzfq5b02C6VhbDGJ377sQ4UCV7vQcKw6lJnzx1E3zw5sqN67N8HWtz+rb9aRphkDWG1rd6FDtsWkdW4d6dvWSYYJCEACV/GfpOHR8TM2rP+eNwe1pU4FL4z2Nug0HVa2jhg9AqhcpwXdBr7A64PrF3Mh/7sojWso45fvYt3Xr9KnaTC+Tg7Y2jri4leNlk+O47vNO/ljdJ2cwQEAjlR/dj67tv3CByO681iwLy6Odlhbl8LR2YuyIXVp3uVJnhs/mWF1inBL1dxo16cVRp2JEwt+50D24ELnQ89v1rF02nN0rl8BD0dIjosjMcWMrXMAVeo0o0OfvoTm+uUCTV+Lkb/uZMsPbzGwdQ3KuOnT18y1c8TFtxK1W/Rg2Csv0TXPOqGZX5Dz/+o82zB57U6WffI83RsF4W2ww0pnhZ2jGwFVm9BtaC9q5zlh9lR5ah7bN//AmwNaUs3PCXtrK2wcnPGtVJc2fZpTNmsWiQfdvvyTH1/rTp2yLjhYW2Hj4IJ/jVY83ja4yIGJVeATDG9tQEPDoclQBoTkf3x3dzwPj33IU8zdvpFZr/elabA3Rntb7I3eBDftx7jZm9j+0zBC8ol67vm839+joMrwn9mx+QfeHNiKGmXccLSxwsrGAaN3Req06cuw1mXu4nsV11b+ypqbFqzLdqd3vUc3vS43zdiMFz54nWf6diC0VmUCPAw42Fqhs7bHyTeEJr1G8+myv9n4eQ8C7jraLkXFJ75j645fmfRUB+qUc6e0nQ2lDJ5UqN+FEVMXs3vDZ3QrYAfWIX15sl7G0nuaI6Edm2PI/Efb2nRp75uxPJcVfj3700JmZYkMmlLqXzW0SgjxCCVu4pW6PZl1yYXec/Ywu/uDmSB3J5Z/vqFTrbFsV/V4f89aRgc+4sVAhciPOZzprUN5b79GvUk7WDP6Dj8JLIS4byTjKoS4zaEZo0Y3xlFdY9lHX3Pgvk9mKVxaxEnOmUGz9cLHTUIB8W+kuLp0Kv87kILOuzevDS4vQasQD4kErkKIbHSUGzyBZ0NsSDs6g7EzjnC/f349X6npv1CWdnU3X36ykMtmjVK1m9FAXg+KfyF1Yx0T311CNE60GDeOtjJrSIiHRgJXIURO9vV47ZMRBNsmcXLVWsIf+EQaCxdmd8ff3R2vim2Z+NdNVKkghr7ej+JOdhbiwVPc2L2CrVEKp+ZvM21AgNxIhXiIZIyrECIfyZzcuge7eqGUeSA/X5adibDpnej50V5uaS4E1mvP4DFvMiLUS16/in8pRUzYZk54NKO+l4StQjxMErgKIYQQQogSQR4VhRBCCCFEiSCBqxBCCCGEKBEkcBVCCCGEECWCBK5CCCGEEKJEkMBVCCGEEEKUCBK4CiGEEEKIEkECVyGEEEIIUSJI4CqEEEIIIUoECVyFEEIIIUSJIIGrEEIIIYQoESRwFUIIIYQQJYIErkIIIYQQokSQwFUIIYQQQpQIErgKIYQQQogSQQJXIYQQQghRIkjgKoQQQgghSgQJXIUQQgghRIkggasQQgghhCgRJHAVQgghhBAlggSuQgghhBCiRJDAVQghhBBClAgSuAohhBBCiBJBAlchhBBCCFEiSOAqhBBCCCFKBAlchRBCCCFEiSCBqxBCCCGEKBEkcBVCCCGEECWCBK5CCCGEEKJEkMBVCCGEEEKUCBK4ClFMFovlURdBlFSmRBKS1aMuhciXBWnaQvz7SeAqRDGomM280aIpw2fu46bc5ERRmY/zTe8alPEpx/BlCY+6NPeXusVfnwyjR8tG9Jt5BvOjLs/dSDzJwrHtaDz0NyKlXQvxryaBqxBFpWLY+O4oZh48wpo/93JNbnDFZjn3G8PrBuBXoz8/nEgr5taK6NVjCQ30JbjrdPYlPZAiPhiWeC5GXODm/8dsq4rn+PplbNh7kqiEbGFrymG+6VMVvzINeX5xJHmai+U6e+e8Qf+WNang44aT0YjB4EL9SYcwAYl7PqZLsC+BTV9n7dUHW28q/jirlu/l2NLXeeXnfMoqhPjXkMBViCJK3vMJb8y9gMXxMcZ/OpyK1o+6RCWN4vpfv7L05C1iz67htw2XbwcIpmPMe6k/nZu1YcL2ggLaVPYsmEfYtTgubvuFFSdMD6nc4m6Yz63ll40XiL15nD9+30Fi9n9UMWwe35GOL37N8r1nuJpgwaaUHTY6G8pVKIMVJo7/+QvbL8Zx7dB8Fu5NfaBl1Ty68uHkHnhyg7UT32X59f+HDxhC/D8hgasQRWGJ5Lep33PCZEXQ0xMZWt7qUZeoBNJwbTmAx6t74hHclYHtfG53QObzbFnwJ1sOneNmakFBgy0NnhhGfV93AlsOpluQPDn8m1mV68igDhVx967JwP6hOGT7N3P4TN6eFU6Kzod2E5cTdvEqV6OiuX7tHHN6OaFhTUj3wbQo54Zvg6H0a2D7gEur4d7tbV5t7IiKXspHMw9T3PcBQoiHQ3p+IYrAdOQnvt0cB6Vb88KztSj1qAtUQun8e/H1tl53ubWGW6v3WXf8/ftaJvGA2Abz1Lx9PJXnHyxc3LSe46kKm8aj+WR0MwIyn2Cs7bHP+J/2tUaz8NDoh1ZcdOXo/1JPPtsxl6NzvmXTqK9pW/rh7V4IUTSScRWiUKns/nk+x9M0nNsNopu3NBsh7p6Zy5GXMaNh7e2H57+oOembD6JXWSssV5by0+qbyIABIf59/kVdhihJLJd38tPHb/LCoO60alSDoDLeeLg64+oZQHD99gwa9w0bzibms6WZW6f+4vev3uX5JzsRWqMi/t7uuLh44B9Ui9DOw/j2YPbxbIqEiDV88fLjNKtWDm93d7zLhNCw81NMnL+Pq7mHOaoEwlf8j/dfG87jHUKpG1IePy83XJzd8C5fnaY9n2fK7we4VpzhkWn7WL7yImZNT4uuLTFq2fcXw6HfP+L1Z/rSvnF1Kvh74ebsgrtvINVCe/L8lIWE3cxvnrUiNnwVM99/kQGdQ6lVyR9vdxdcPMsQUr8dry25nGOCSFr0Hn56ezBta1fAx90d77JVCO35Il9uvEBy7q9OOsHyT9/k+f6dCa0VRBlvN5yd3fAuG0KjLsN5b+5urtzxPWgKkZu/YcwTLage6IOHhw+BNVrwxNhv+SsyJd8tVOwR/pg0jA71gvDzcMXV04+KNUPpMng8C0/fPn51eTZd3Q0YXEP56Fg+9WKJ4odubhgMhqw/o/cwlmfsNmXpEDyNBpxDxrItn2OwxBxhweRn6NKgMgFe7ngFVKZBl2f4cOERYvKbcZMUztJPxvP8gK40rxtCOV8PXJ2ccPHwJ7hRN0Z+sooz+U0Cs0SyctIwujatTeUAL9ycnXHzrkCtNoN45+cD92HFCQtXts9i0ivD6N22EdUrBuDt5oyTszt+lR+j19gf2HvdRMzx5Xwxpj9tapfH280FN58K1Gk/nCl/RlDg3DVTNHt+epsh7epQ0c8Dd++yVAntxehPVxGRX5PNZL7O/nnvZm3n5uFHcKNujJiyiGNx+YR45qNMaeKKweBOt++jcgSBqWkmQJG4cADu2c61weBG6y/PYgHSdo+nhrMBg8cAFuZTrmK1CZI4t2kOU14bSvcWdalcxhsPFxc8/IKo3WI4P57KuBZta9Olgz9WKo6/lm8k9gFErskn5zFm7HxO59+UCpV0bgP/G9uf1rUq4ufpjldAEPXaD+HN2du4mP07TQd4r55LVt06h4xlW66hwpbzX9PWLbPunan55t85hkhYYo6yaOpzdH8shAAvN9x9AqkW2oORUxdzLCZv5aRePcK6edN545nHadeoKuX9vHBzccWrTDB1m/fgxV9Ol8xVJ8S/ixL/P6TFq6gL59WlmJSHsrvk5cOUt0Gv9PqC/wweNdWQOcdUYvYNTeFqWqhLwds511eTDqVlfDhVnfnjOVXPy5D/Zw0uKqjn1+pAfDG+X69XeoOTKttmgtoYZS7SsZqOT1OhLnplcOuuvr9iyfWPR9SHj91pfwblXLG7mr77psq5Zara8lqwcspeXwaDMhj0Sm/wV8P/vF1rCQe/Vj0qOSuDXq/0BqNy8XBXLsb0OjE4BaquX4eppGzfbLk0S3Vxu9O5MaqAVm+r9VfyOX5LtNr4VnPlZ8x/W6NfS/XOxuicxxK3Q01o4pVRPoNy8fJTAX5eysVgUHqXUDUt3JS3bC5N1NSjt/+7Sl6pnvY1KL3BSXmVDVJBQbf/Ktd6Va3LuKyTlwxWHga9cgoeo7am5ix64vEf1IAqrunlyHPOXVXVgXPU8cSc2xSprjp+ocKScm6nzGfUF61clV5vUAYnF+Xu7qKMme3B4KEajt+iYrJXUurf6q2aTkqvd1f9fovLW+955L0+cl9XHhWDVaBL/m3D4FRe9Z17TplyfaslZo/6tGt55ZRv2zUor/qj1JILaXmLk3hMze4XrFzu2OZdVPPpJ2/vM6ttuKmus69ku2ZuH5vBo0yOcx0UVEX1+/6CMiulUne9oao76ZXevb9akJCzOMVtE3nbqSGrvRncu6s50bdLl7h6hCpr1CtjpZfUpvvdnaYeVh82cVUGg4sKHjhXnUouzsYpKuKP51T9gvpDvVH5ho5RKyMzz0Cq2j2+xu1ryLmhev9Q9nNrUVfn9VZemefUKUSN2Xr7gBPDvlNPVnHLvz3pDcqj5lD186nsFZSqdrxe5Q7XrKvq8M0/qmi9rhAFk4xrSadusueb4YRWLEPFKlWpXKYctfp8wJrIRz+1QCVFsOjlvry+9kaRX7lppatTK2O6fsLOSTw58mfCEzK21jSsbG2x0jJSniqNS+vfYsh7WyjWypjKzPVd0xk4eAbhRaimxMMHOGkCK/9qVHPVCviUDbXHrOLo2YtciYoi8tQ+1nz3Gq39bTBf2cB7T4xgfr4LRGqUajaBzYfPcPn6LW5djeTY9mWMC00fRatiNvDmoLfYcEXh0fx1fvn7HFFR0VyJ2Mq3g6viYLnK5okv8+3JfPIY1hUY/stBIiKvEBV1kTNhm/jpne5UclDc/PtzBg76imM5jt/ChZ+eY9iX+4jBlQYjZ7LhaCRXoyM5uuFbRjZwgZg9fD7kGX44Z87a5uKvHzIjLAHNsy2TVh4j8tI/nP/nMlf+CWPjvMn0LM5ENs2Nx78PIzw8POvv+P6PaV3Y3Jz47bw/aAzLLqRhV7477y/8m4ioq0RF/M2C97sRaJfG+aWv0n/CFuLz2966EiMWHuPcpSiioy5z7ugW5o5riZeV4ua2yYz/6ULOJZJ0/vT4eBk7j50n6vp1oqOvExWxje+eqo4jSRyb+R5zztyP3JKGfbvPOBp5lZsxsdyMOsW2WU9RzQGSrlzkhltTXpzxJ/vORHHjRhQRu+Yxqp4BzRzNmsmfsSV72lVdZcWYQby3ORqLYzUGfrqCg+ejuHr5BNvmjqOVjxWJx3/k2YHTCcuRDUxiz9ShjF0ZicnKh5Zj5vDXsUiir14hYu8Kvh3TkfIOBbWLOx+bQ6cvOJTtXIeHH+GXof53fBV4T20CG2q+tJQDpyK5eusW1y6eZPfqD+mUrV3bValJsDVYrh3k4IX7nB+0qcqorybQws3CxaUv0vXpeUXMvCritrxD3xE/czyhoN7UQuzBbxnW/2MOJQPYULNjW3wzm5/pJBs2nc+W8Yxj67pdJGZ8nc6zDR3qpjc0dW0lrz4xlj8vpGT03Ro6a1tsrDLrSZEUsZCXh31KWFEXfLDypnp1T3nNK+7do46cxb1IUgemtsgn82lQrrVeVRtvWgr/iruUI+NqLK+GLzivrt68qaIjdqn5Y1pky9gZlEvjySos80E/V0bUpekEteVslLp+7bI6d3i7WrnmoLpuUUqZTqkv2nhkPO0blFPlvurrnZdVslIq+fIO9UXvSllP9gafvuqXq5Z8v9+15RS17/INdfN6pDqy5lP1RNVsGTljGTV44XV151oyqaNTmygXvV65dZ2tcidcC84qpUs7N1f1K29Uer2TCnn1r2zZ58ysk0F5DV2q8k+8mNTJz1oqd4NeOdcco7bkTtSlHlVTQ12VQe+s6k86qDKruMCsplJKKbOKXjlSVXU2KL2xrBqy6MbtMidsUi+HOCm9wVnVfG1TzoyhUspya6N6pYazMuidVOXRG1RCxnFsGxOinPQG5TFwocqV0Myj0IyrsYIavbHgNFf+GVezOvdtJ+Vl0CujXzc1MyJ3xjBVnf62i/I16JXBo72acfZ2zueOdWW5phYMKqOMeoNy6zJLXSpKc0reocZVd1J6g7vqNffa7bq964xrftdHktryWnpmy7XVF+pMrhRW6oH3VD1nvdI711UT9t+ui9RDH6hGLgalN1ZUQxfmvVYTD3ygmrgblN7or/r/fjXr3y3X/1AD/AxKb3BTTSbtz3uOzf+o/7V3vYuM652u/YIyrnfXJgprpzkkr1bP+huU3lj+jtfivYg/+KXqFuhU9MyrKVxNb347+2lwDla9p61Why9cVOcOLFbvti+rjFlvF3xUr58upWc2kzaplys7ZfXFbp2+Vf9kXi8Jq9SIQGNWtrb8c2syzm2y2vtuXeWc0b8b3Gqpp+ceUtdTlbIknlfrJrZTAZn9u7GCGrk284rIlXF166I+D/tHRV+/pi5FHFSbl21UxxPyOTYhikkefkowdW0JUz/fR3yeB3BFasRPfDjv7ENaSNsag7sXbk5OuAc24Ikp8/iwrTHjyVqRdnwZy4/nP6hUM/hQPsADF1cvylRtTIe2NXDRwHxiEb/vS0p/2tdKEfrqJ4xo6IUdYOfViJFTRlLbJuNoE3azZX8Bj/0OLnh5OOPk4kuVti8xe/ZzVMpcS8Nyk3VLNhF3x2OzcOPadSxoWLu641TMxJJ1mX6MfyoEa8xcWrmMYi1HaT7LiqUHSVY2hPQbQuPcM5xtKtGubXmsMHNm335uFCmtrcO93RuMamyHZrnBumV/ZWWrk3csYNlFM5ptfZ4Z1RRDrmPVjM0Y9XRdbDQzl1cuYVcKgBU+/j5YaYqUrXOZHRb/8Ce0WC7w54JdJCodXj1HMyAw92IpNpQfMJoenjpU8h6WririAvOaCy3a1MVWU5hOh3O6KOOi7UKoHmQDykz0lasPqP2Vonaj2pTSwHT2JGdylcsmuCF1jTowR3L+n8yUuonDixYRnqawrjSQ0V09yX0p29d4ludbOaJZYti4ZBOZQxiTd6zmr1iFVuoxhg2vmTXr/5F4IG0iFytX3F11YInl6rXCXsmksffz/nTr2pWuxfh74u21xOsd0FQakUtfpNtzC+74i13m8MUsDMvMfurwevwTZr3ajqr+PpSp2Z13vp9Ia33mm6h4ti5aw1UFlGpI907epCddFal717DxWvq3JO9ew6brGTvVedC+R5P0c5u2h99+P41Jpe/L2Pltpg2ojosNaPYBtB43iUHlMtK4lmvs2HKUfJuG5kxAJT/cXVzxDqxBsy4tqOyQ3weFKB5ZDqsESzuym/0FvTZSKRzasZeEFwLRP9xigc6HLr1DGbPmTxIUYD7DkfAkqFb0kiQdO8SpzN5QJbH5lWCcXingw5Z4LkbeROGV52acm33tXnQp/zUnTqRPDkkKP8oZUy9qFtgSFMmJySg07EqVKvT787ImqFED3HVHuBx9nOPRFkL9ivi8aDrFsVMmQOPsnME0XpR3u9Qb5zGjIDqKaAt4FOWtvM6Lho3KY7XlKInhRzlj6k51azORR45y0wI6v3rUzXflBB2+derio9vFuZvHOHLRQstAHWX7v87gH59k1skNvNmyFgu69mfQgP70bl4Rw8N4NE4LJyw8DYUt1RrUzn+pMvta1K9mw49X0jgeFo6JAApfGVSjtK8vBg2u3ryRa3KXhVtHljDzm19Ys+cEFy5e4WZaKdzLBKK/kQZomE2mBxbE27p74KSDxPgYYnJZ+g85AAAgAElEQVS/zbZyxd1FB9dNxMWnoLBHU7EcO3IeEzpc6tQnOL/rXXOiTr1KWK/YT/Lxw5w296GutZl/Tp4mQYGVXw2qu93NkID76EG1iRzssC+lAYqkxCQUjndo9xauh29j8+Z7WIFApXFp5y7OmntTUNeQeCzsdn+oOfJYh2Y5JonqvFrToY4tazenAIqU44cJTwNP21I07NUV/9kzOGcGlbSTVRtvMLBfafasXEtUxjVt5d2JXk3So0pL1BEOR98eCnRr4WD8Fw4u8PivXLyECQkmxMMj11oJppUqhd0d7iPWpewf2Qm29/LGqJEeuCoL8bHxKPRFDPwUcTFxmIt8J1CYTWYUFP79Og+8vXRwImPL+DjymxCdnbWNNaAwmdLu6uakc3bBqIPLKo7YAsen5SMtnvgUBSjiLp7g+MU7fDY5iQLX7c9bIpxd0jPi5ri49HOEIj42AQXoDE4FBpw6gxNGHWCJJy7eAujQXFozbc1Kqn44kek/b+HAgunsX/gZbwW24Zl3J/N694oPNkuXFkdcsgLNBqPRPv9rQCuN0WiNRgpJ8XFFntms2dphp4Eym7JllSxcWvo8nZ6eT0SyQrNywMXbh7IOGonRxzl108wD71ptbbEBlLKg8px3G2wz3kaYTRmlVvHExae3EL3RUMA4Qx0Gp/TrIi0+jjgLgCIxPjG9bZU2UPoRx60Prk1kZyLNBKBhY2tTSJ9iS/2Xf2PFk8XsGyxRrJ30Ml/+HYMqXZORM8bxmE1BH1bEx8ZjydyBzoCLc64Pa064OOlID7dBxcWS2dXY1u1Nt3Iz+fy0CVQC21ZuJqaHNytWX8poB1b4dulN44xGqmJuFdon5jiUB/iAJkR+JHAtwWxqtKW19zfMisznNqxzpk2nxx7ZQvmWhPisQf+gUcrBoRjZSg0HR3u0zF5YK0WN/uPoU7mgy9WacqGuRRv0rxKJzza2Qitlz53nlejQG/ToiCI1Lo5UwK6IR5G1y7i49OEcOkdKOxbjzm/jgIONBil2dPj2FL/1MxZzzwWWiLiMIFVzLJ1x/Bql9emZJUtswTcuS9yt9MyjzhF9tihG51qXoR8vY9Cbx1g99xu++t+v7IhYw/Qh+zjy2QZ+G1KOQhNfdxsU2ZSmtJ0GyWnExiShsMv7VSqemBgTCg370qXvbYJI4gYmj/mFiBQr/Lt+yJxPh1LPPSN/q24xv29FRqx+8Iv+FKu6tMxrTxEXE1vAEAYLsRn/pjmWzghSNRwzr4uYjKzzo/zRuAfWJrJRcekPZZo1en1hrV3DuVJDmlQqxvdbrrBm7Fi+25MetL7w8yImtXC7wzWpoTfq0WX2h5YYrl1PBbIFr5YbXL1hzgogNX22hwybmjzepzJff3gEE4rYjYtZsdaHPzPvG9bl6dW3fla/pjmWxj7r4tLh8thwXuoQUED5NEqF1C7C2wsh7h8JXEsy++aMmz6ErYO/50RStkhDs8a7w0Te6epy17HAvUnh0LY9t8feWnlRoVzxBjc5BoUQYLWKkyZApXFdBTNgVAdc7vGA1NWdbM/6jXsNm3IVKXPHG7EVPv6+WHEK86VILptBX6wbt4XLh8OINoPOtSKV3IsRMllXoHJ5aziYyqFd+0nq1+L+ZC5VLEfDzmBCw6F8JcpaA1jhWyUYo24f1yP3se+yhbr+uctq4dK+fVyygM4lmBCfvBVh5RxCp9Ff0Gn4SOY804OXl11kw+ffs7//JOoVmFECNFvsbDVQySSnFDN/YxNE1SAb+DuNsL8PkPxkPvWUfJA9R9IAG4KqBHGnohTGdGoXf1+zgE0jRn34NPWyn1PNBhvrR52WzIdmJLiKP9brThO7fw8nTO2onrv3VzEc2HMy/bqoXJUKGdeFX3AQBt0+bkTuYucFM/Uf5c8dP6g2kV3SZSKvK7DyJcD3Pt8iLVdYM7YHg787SpJjUYLWdPYh1alovZywNEAlsm3FBm5274pzxqVmubSGVfsyx+Nq2AZXpVLWRW5NlScGUv/TcexIVqi4dUx63ZEoc8ZnazxJ/5q3W4TOO5jKTjp2R1sARdwNexoNH00DGZ8q/iVkclaJpuHR/hPWrpnBy71CqV6xAiENOvLs1CVs/HEQgfdydy4OFc+xLZsJ++c6cTGR7J8/hpe/j8h6tarzaE6rGsUrjHXVznTKmmRjJvKX4XR+ejqLdxzj/MVIzoUfYtempcyZNoG5YQXPmrFE7mH936e5EhPHtVPr+WTkJDZkLa9lR61WoYUEwxpulSvjbgWmM8c4WZzJVQAJf/PdnD2kocOleRvqFidda1Wetu0qYaNZuLLwC34+W5xfTShYaviPfLcxHqU50LBtk6wx0PaP9aKLjxUqdRczv9qeJ+uqYrfy1aw9pCkdnh260ehO6XyHyjz5VFvcdGC5EsmlwhKQOnc83XWgEok4ebF4k5p0ZenSsx72moUri75g/rnc9WTi7M9fsTjKglaqNl073nm5pUJpWsYDoRlzUQuq6dBlpMxSU1IewatVa2r07EFFaw3TyXl8sSI6TxmSD89kxoZ4lGagebcWWRMR7R/rTnt3HSp1P99O+TNrXOQj8YDaRHamk0c5aVJodpUIyTPR715ZYWNjja5ImdZsWwV1o0fVzDcJFq4uHMOwqSsIOxfJmb0LeXvYe2zK6tcceKxrWzyyj4Et04vBLTOGaqkkLkVeSx8moDkQOrAvFbI/i9g1oEs7z9uTa8O/ol+Xl/lm5R5O/HORyDPHOLBjPQtnfsiURWfkBwXEQyeBa4mnw7lmf977YQXb9u1n17pfmTaiKb4P892NimX7R71pUqUcvv4hNB8xhyPZOtHaz46gWXHTIja1ef7tXvhlrhtoiePI7xMY3L4h1YJDqF4/lLbdBjJ60tf88ffVAgMBU8SvvNC2NpX8fQms05OJ669kjZ218unBqH5lCm0ENtUaUMdeQ8XvZ/eRgmYZp/L316/w4e87iLieRFpKLJH7FjCh3yC+Ck8D+2o8M7odhmJVgjXVho+lm5cOS8xG3uj6JB8s2EXEtUTSLBbSEq4SsXclcxbmt7IEYArnx/Hv8OOm40QlppKacIXDKz5m8OMfsDsBrMsN4KXePreP37E5L73WHGfNxOmZg+nz1u/si4wnNSWOyH2/81afoXx32oRmbMqrL7fEEQDFtS1z+Gbxbs7eSs04D4rk6EP8Nm8T6YmrMvgXdv+3rkDdmk7oMLHv2/eYcyCaJLOZlFvn2L1kOfvz+ZWe23SUHfgGQyraom5tZHzP4Xy14STXk9NIunaC9V8Np9f4jcQoGwIHvXF7RvRdsi5fm5pOOkjbyzdvz2JnZFK2QNtyeyxijiK64emmA9LYv+R3jsY+/OjPpsazjO/pg5X5EgtG9uLFH7Zz7lYKqYlXOLx8Cv37TeNAEtjXeJ7Xu3vcflujb8OYsc1w0pmJ/P1ZOg6Zzp9hF4lLtWBJS+Jm5GkuFmdQ5D25xzZRKAuX9vzNBTNYhzSgTu5VC+6Vzp2WHyxl29YlRQ5aAbAKYviEIZS3TT8rynyZDZOfoEn1EGq2HMqXu25mXIMa9tVG8mY/35zfrXnQZVh3cs+51Ll1ZGhPn1zlKE2rMeNo6ZLxX5WZ63tmM7ZfK+pVCSakZkOate/J0Nem8MWyMO7yB8CEuGsyVEA8OJotAT2m890LIXdxoWl4dPuMX6cm0v+tPzmfXGBoyumTEZjwLtbrX52xHi9/N4WORRl7YGhK+yYOLFt9nvXrwnm3XrV8jkeRcGo5U4YvZ0ruI7EtQ4/pP/BK9eI/TWie3fn0p9NEPzmZredXM3XYaqbm+ox1xZep1q0OdfK8+k3hn41fMmrjl7m/FSvPlkz6cQLNctyYrSg35Bu+P92XwTP2s+PL4bTItanOWIcXfpzF8KzXxcns++U9xv18nbGaFXYODtiSSmJiCmYFmrUP3cY8dYdVGzI50GLkCGot/YB9/yzmpWaLeSlrpx4MWtCG2q0LTvFq+qZM+GkqkX1e58/TixjfYxHjc3zAFv8uH/HzpBZ5lvkqNse2jHmzJeteXc/5Ja/RbunrlCptSB97aU4mNjaZPF2rzo82XWozadcurq97nccqLeGD7St54WG+dtc86PrJj7wZ9QQfbDnEnBc7MOfFHB/AofIAZsx9lZo5qtqKwOGzmRc9kCEf7+DUkgk8uWRCPjt4OK947qlNFEZFsWHtQdKUDdXbtSlkGNFd0rkQGFjcjTSMLSbx25c36fvSH5xOyq8/1HCsOpRv5o+jbj6JgtItRzCk6i98GJY5kcyaigNH0j6fNf6syg5h1vxohgyZyl9XCpp8pUiJOME5M4Q8ynHP4j9HMq7i3un01OjUi6bBvjg72lJK70GFhj14acY6tsx+kvJ3nf11pPoz89i57Vc+eLYLDYO8MZayRmdtj97Vj0q1W9Bj+Fhe71mhwPki1mWa07t9bcp56Cll64CzXzVaDZ7I71v/5J0mzkUbA6y50a5PK4w6EycW/M6BfIcL2FBr+GTG9G1KZW89djalMHhWpHHvV/l2wxa+71/hLicwaBgbjGHJrnXMeK0PTav44Wxvjc7KFkcXP4IbdKB/v8fwyK8lW1ek7ztvMrhVdfyc7LGxK417ubp0HvkJK7f9wfM1HPNuo/Ok1eTV7Fw8lWc61qasmyN2do64la1Nx2c/YsnO1bzf0iNHx1Gm7dP0b1OLcu4OkJxAQqoOvXdlGnV7no+XbWRW36K9mrer/hp/LJnGsBbBeOttsbKyQ+9ZiYZd+tDYs/AMpX3IU8zdvpFZr/elabA3Rntb7I3eBDftx7jZm9j+0zBC7suASGsqPPUzG3+fxNC2tSjrWgpLYixxSamoUq6Uq9aAll360q1u9oyaFRWf/Z65b/amYXl3HEr5EZDPGOEHTTPW57VFO1j9+Wh6NKyAh74Utg7O+FVvzeAJ89m26St6lsknANXcaPrmcnavn8Frjzejip8LjrY6dNal0Lv5E1y/Nb2fGcNzrbwewk3lHtpEISznF/Pr9iSwq0GvHpUe6Ty0vEpR8Ynv2LrjVyY91YE65dwpbWdDKYMnFep3YcTUxeze8BndAgp4gLCuwtCRrbMe3DTHpowYXquAfknDpfHrLNm9me/fGkzb2oF4lLbDysoGB4M7/sH1ad1nBONf7JAniyvEg6YplXcxFSEKk/LnU5Tr/0fGbHkfnl4WxidN/wVzS80n+LhFYyYeTH+lb9vsE8KWPo3PvXauiZt4pW5PZl1yofecPczunjHxzXyUKc2aMjlMR4vPjrBkWN6F3R82dXk23aq/zGZLDd7aupmxkg4RogiS2TW+ER2/OoNDh/+x79cn8XzUjVkIkYc8KwlRFA7NGDW6MY7qGss++poDyY+6QEKI+8l87icm/3gGs3VFhr7aU4JWIf6lJHAVokh0lBs8gWdDbEg7OoOxM47IpAQh/r+wRPL7+KlsidPh3ftdXqz3qFbAFkIURgJXIYrKvh6vfTKCYNskTq5aS3hxl8YSQvwrWSK3sGL/LTSfHkye2IlH/cu2QoiCyaoC4q7YdZ7NpZjZj7oYeVkF8dqW67z2gL6+dOO3+GlRO+zqhVLGFmQRQyFKPl3Ak/y4tSJbLlWkuZfkc4T4N5PJWUIIIYQQokSQR0shhBBCCFEiSOAqhBBCCCFKBAlchRBCCCFEiSCBqxBCCCGEKBEkcBVCCCGEECWCBK5CCCGEEKJEkMBVCCGEEEKUCBK4CiGEEEKIEkECVyGEEEIIUSJI4CqEEEIIIUoECVyFEEIIIUSJIIGrEEIIIYQoESRwFUIIIYQQJYIErkIIIYQQokSQwFUIIYQQQpQIErgKIYQQQogSQQJXIYQQQghRIkjgKoQQQgghSgQJXIUQQgghRIkggasQQgghhCgRJHAVQgghhBAlggSuQgghhBCiRJDAVQghhBBClAgSuAohhBBCiBJBAlchhBBCCFEiSOAqhBBCCCFKBAlchRBCCCFEiSCBqxBCCCGEKBEkcBVCCCGEECWCBK5CCCGEEKJEkMBVCCGEEEKUCBK4CiGEEEKIEkECVyGEEEIIUSJI4CqEEEIIIUoECVyF+E9QWNSjLoMQIj8Wi+VRF0GIEkMCVyEeEhV7hh2rf2fWZ5MYO/IlZh82FXHLRMJ+eIamFX3xC2nPmEVnSSvWnk1EzH6cRl3eZcW55OIXPBsVu43PnupBq8a9+fqk+Z6+S4j/PBXDoR9G0KzZq6y7UQKfLC03ObVtJb999ykTxzzHKz8ep6i9mhB3SwJXIR6S1C0f0LvvcF55ZxrfzF/NsZtFy7JYLs7nrXG/cTAqjtjIHcx8aRKr4ou+X9Pp7xj99lrCdy5jw5lk7un2mHCCjcs2sOdEFAnFuENZzv3G8LoB+NXozw8nihd2l2RJZ1bx8XNdaRQSgKerM66eAYQ06My762/d23kQGRTRq8cSGuhLcNfp7Esq7uZx7PiwA0G+5Wn59iYeeuxoucn+5as5fGgOL7656uHv/14lb+S9nv14+tV3+fjbX1l7XK5r8eBJ4CrEv5xKjCPOlO12kBJHfGoRbw+WS/z21hS2x+sIGPgJE1o4oT2YYt6B4vpfv7L05C1iz67htw2XeXgvRhVXN37E8F5tCB02l4sP8Y2sKeJ7BrZ+gok/b+ZoZAwp2GBljuPiyTMk2jk+gvPw/1EqexbMI+xaHBe3/cKKE5lPU0U876YjLJu/i8txV9k/fxEHHvYzlVVZBn36Fs0NFi7+Np4p2xMfcgGEKHkkcBXiX86qfB9e6F0BBw00nYHqw5+jvXPRwp6k3V/y8dqb4NSe8eNaYHgk0ZKGa8sBPF7dE4/grgxs5/MQOx4Ltw6tYvG63Ry/nPDwskEqhpWT32f9NYVjjaf5fnsEUdeiib52jUvH1zGuvs3DKsn/c7Y0eGIY9X3dCWw5mG5B1hn/vYjn3aY6vYY0o4ybH42G9qHuIzgtVmUG8d6IKlibzzJ3yjzOy3BXIe7IuvCPCCEeKZ0fvb7dSfOxp7hi409QgLFoDVfdYOU38zlrsqbcgBfp4fXocnw6/158va3XI9v/Q5e6l3Wbb2DRedJnwvv0rmaf8Q9WOHr54vhIC/f/iYZbq/dZd/z9u9zekXqvLuHwq/e1UMVkS/WnR9Hm2xGs3DGT2fuHMLGu7aMskBD/apJxFaJEsMO1fFWqFDVoBSxXljJvzS2UTRWeGFCPUg+0fCI7FX+JS7EWsPLE11uCEHFnmmcXBnV0Q2c6ze/ztlPcobpC/JdI4Cr+kyyXd/LTx2/ywqDutGpUg6Ay3nhkTJ4Jrt+eQeO+YcPZO483Szq3gf+N7U/rWhXx83THKyCIeu2H8ObsbVxMKawEcez5ZgSdG4ZQ1tsdD7+K1Gk3hHfm7ed67sn65hN83NQVg8GAwWDArct3XCr0daIieu0ydiYprIM70SnIKv96iDnCgsnP0KVBZQK83PEKqEyDLs/w4cIjxNxpHyqR0ys/YXSvUKqU8cTNw5fyNVvSf9xsdkblHSioLs+mq7sBg2soHx3LZzUClcDplZ8yqkcTQgI8cfPwo1Lddgyd8Athd5jElhixmi9e7Ufz6uXx9XDHu2xlajXrxcipa/gn12ap28cS4mTIqkeDwZXQaeEUaW0EUzR7fnqbIe3qUNHPA3fvslQJ7cXoT1cRkd9lkpqavvJD2iE+aOicbZ8GnMqOZG3qHfaVdILln77J8/07E1oriDLebjg7u+FdNoRGXYbz3tzdXMlvLGbaJXb9Mp03nu5NmwYhlPPxxNXFDZ8KNQjt8wX7s29TzPo2X9jA1xNeZHC35tQNLou3uwvOrl6UCapLu8FvMHPThTsHW8WtPyApYgUfP9eNxiEBeLm64uFTnmqPdeDJl38kLNviGClLh+BpNOAcMpZt+dTLnc97GlvHhOBsMOI9bBn5NdvE0yuZPqonTaqUxdvdA7+KdWg35B1+2ns13xn05vPr+OKdFxnSoxUNqlbA38sNZydn3H0rUbf9MN5feJS4PGMXStOsa0ucdBai1ixn970t/pEvFX+Ar196hxUX72Y1EBNX9/zIW4PaUruiHx6ubvgENaL76J8JL3SSZiqXd/zA28M6Ur9yAF5uHvhVqEWrJ1/jq7VnuGMvm3SODd+OZ1iXxlQJ9MXDxQUP7zIE1WxM6x5DePHdz/njwHWZEPZfo4T4N0iLV1EXzqtLMSkPZXfJy4cpb4Ne6fUF/xk8aqohc46pxDxbp6iIP55T9b0MBWxrVL6hY9TKSFOx96k3uKiQgXPVqezVYApX00Jdsj7j2nmmumgu7AgT1PKn/JVB76RCxm5Xqfl8IvH4D2pAFVdlyLccrqrqwDnqeK6Dt1yapbq43ekYDMqpfDf1+f44ZclvO5cmaurRnPWizBfVilcaZ9SNQRmc3JSHm1NGuQzKo+5LalWUJec2Kk1dWPxCAefAoNw6z1SRZqWUMqmT05srF71eGdz8VIWgIBWU9ReievzvlMpVmjwsMXvUp13LK6d8z51BedUfpZZcSMu/ngyuyqd89n0GqeCGb6i/7nCZF17HRhXQ6m21/or5ztsZDMpgMCiDXq9cmn6sTmQe6F3Ud/KSwcrjTteuwUs1HLVInc3nQrub+ks+/IXqGGDM+G4n5eFXRvl7uSmjQa+cqryudmTbT2bZnILHqK1Z/72o5z1VbXktWDnpDcpr6FKVnKMUaerC4udVfc/827nBqYLq9tleFZPr0ixKXTV5d1ue7SzX56neHgald26g3j+Usz7uXYLaMqaactIblEfdUWp5ZGFXfXZJ6tisvqqyc0H9Xeafk6ry+o6cfY3pklozvrnyNxZUF56qztO/qlPJefeafOoX9XQdr/z7p2z7DH5tS779m/j/SwJX8WhZbqi///eUalI2PYAyOPmomr3fV6v/ebBdUZGCSL1eGZyrqVFrrmcLwiwq9q/XVV3Xwjpxg/JqNkUdTCr+PvUGD9Vs2uHbnfHdBK5pB9XEes5Kb/BQfX6+oXKHfSpumxpfz00Z9AblXnOg+nztcRWdmKwSo4+rNZ8PUDXcDUpvcFW1x/6l4rJtdjsgc1Mh3d9UczYeU5fjU1RK/CUV9udHqm9VV2XQG5Rz9VfUxth8tssTuJrUyf91VL5GvTJ41VfPzNqpLiZalDInqHMbPlLdKzopg96oKj23SsVk2yolbJpq4WVQeoOzqtjpLTV/R4S6lpiikmKi1JkD69SynReVOfP7MwIY1/b/U/8UGvDnYolWy58JVk4GvTJ4N1YjZ21RETcSVXL8JXVoyQeqe5CzMugNyrPZVHUo2833joF6YbvM3Na5lnr5zwgVHZOgEhNj1dWze9XiaQNVHU+D0usNyrvt5+poan7b1VAvLDyuLt1KVmaLSSVePa32HrmUEajdXX1nBmPG8kPU3BOX1c34RJUYf0P9c2iV+npEE+Vn1Cu9wV01fHunSrjn+otRi4b4K4PeqHzbTFBrzsRlncv4yENq3aZjOfZRWOB65/NecOCacvgT1SrjGqvc/QO15NAlFZ+cpG5EbFGzRmYE/k5BatjiqBztK6uuKgxTv525qmITk1RSwk0VeWSN+rx/deVq0CuDa2P1YViu4DTtkHq/gbPSG9xVr7nX8rbZe2S5vkVNaOGrjMUMXpMPfKCauBfW3+UXuCarQ9NaKq9CH9ZdVe0xm3MG8nFb1Ot1cj5UG5w8VED5iirQ1z3bQ5AErv9FEriKRyhJHZjaIp9gzqBca72qNt683133bTmCSGN5NXzBeXX15k0VHbFLzR/TIv1GnFEWl8aTVdY9xhSupjd3y+pQDc7Bqve01erwhYvq3IHF6t32ZZUxq0P2Ub1+uqTM+e3T4Ks6vL9GHTp/Vd268Y/aM+8F1Shb9tBY6QW1PvH2PosduCYuVUO9DUrvFKzGbM3drZvVuW87KS+DXhn9uqmZEbmzO6nq9LddlK9Brwwe7dWMs7d3VlhAlnLsU9XGy6D0Bi/V/YeLWcde4Haxq9RzlYxKb/BV3b47lyv7aVHXlwxT5Y16ZfDpr/7IvB4sV9Xv/f3Tb8DNp6hDSeoO7i1wTT30gWrkYlB6Y0U1dOGVPMFEYuZN3eiv+v9+Nevf70vgmu+2ZhW9cqSq6mxQemNZNWTRjeLt827qWxUUHGZuFqt2vN1IuRv0yuDVRc28cLuS76r+TMfUR01clF7vqjp+G6kKO2UPJHC1XFMLBpVJv8aafpjjAVQppZT5slowuIIy6g3Kuf5EdaDQDHCGhE3q5RAnpde7qMemHM1Z/5Ybal5vN6XXO6t6Ew+q+51zVeouglfLLbV0WLnbfZoxQLV5a4kKu3RL3bwSofYuflU1dsk/cDVf/FH18snWp5Vtr95ZtF+du3hBHV79seod7Hy7H3VroabffiWgzs5ony1r7aQq9f5S7YrKeE2RvFgNcpfA9b9MxriKR0ZdW8LUz/cRn2eAkiI14ic+nHf2Ia33aY3B3Qs3JyfcAxvwxJR5fNjWmDEAXJF2fBnLj6cP5DKHL2ZhWErGmCodXo9/wqxX21HV34cyNbvzzvcTaa3PmL2v4tm6aA1X8xuApZUmOLQ51QPcMDr7Ubf/x3w6LDBr4pUl+i82hN39opIq5hrX0xToXHF3zdXMLRf4c8EuEpUOr56jGRCYe7qXDeUHjKaHpw6VvIelqyKLfB5sKw/m6Zal0VQiu9ZuI7aQwWdJ25ewKsqCZmjL0H5lyDkSV8OlVQcaltJQiQfYc8yUcWwbWbwhBoump+0Lz1Ltgc06M3F40SLC0xTWlQYyuqtnnrVX7Ws8y/OtHNEsMWxcsomYBz7YTod7uzcY1dgOzXKDdcv+IqEYW99NfRdK09Pw5VfpYNShEnexfM2VjOvlLutP54Gfry0aaez/dTY7rz/89aHUrfUsWHsTi6an9QvPUD33Nabzouvo/lSwVphOLWfZ0SLWlUMD2jQxoMNERPgpcgx11lgMcAsAACAASURBVBxxc3NAw8KNq9cLbXMJGyfRq2tXuhbjr9uQaew1G7DTFEknfuSpHuNYf/0OF23KblZtvJFRFg3b2i/z9YRuVPM24uQZSJ22jSiX7/B5C1dWLmBLZueu6Wkz8Xsm9KhFGR9/qrZ7hVkfP45nRtekUg6xeNmp9HHHliusX7WX5KxNW/P2l8/TwEMmOYp0shyWeGTSjuxmf0IBnaZK4dCOvSS8EIj+4RYLdD506R3KmDV/kqAA8xmOhCdBNT2Jx8I4lXmP0hx5rEMzjNnuxjqv1nSoY8vazSmAIuX4YcLTwLPQPteOGk3qU/qrCG4pwHyFiDOJ0MB4V4egUpJIUoBWilKlcoULaeGEhaehsKVag9r5rzZgX4v61Wz48Uoax8PCMRFAkW4bmoEq1QOxXn6IlIiTnDeDU4G9jJnI4yeItQDJm3mnVQMm5zmQeC6lAJbrXIk2ATaYToVxLFmBdRD1aukf3EL+KpZjR85jQodLnfoE53ccmhN16v0fe/cZHkXVNnD8P7ubnt30kIQWQkIg9I5SBEWkgyAWelGxoFgR7BVFFH1RUSzIo4KoVAGlV0HpHUJvARKSkF63nPdDCumkUaL377r2A2Rn55wzszP33nNKPQzLd5N+5AAnrINodb2vqjo/2t1WF/2mQ6SGH+KUpT9NSrXP8rV3aWhubWnf2MCizZmEHzqGhQDsy91+XvR7/ilmbprC7p0f06fFH9zz0AiGDb2fuxt5lbJEFZP3HGvTwq3Ic8wurA3NXTSOJZ7h4JFkaOZeik+2I6BGNXTEYYmPI0mBU54Pd3RyRCOetNS0aww4UpgjD7Bpw4YiB5SVjiLt5FZ2Rtro6lXM4M3I45xMygmhdVS/7XYCi35rARbC9x8id50U+1b06OaXpx013Dr3oL3zzyxIVoCF4weOkEF9nK3nOHnaklt/u7BOtPeV5TrEVRK4iptGc3TEoYTrkcHR6aadoE5+/rhpZAWuykZyYjIKV5ITk7HlXFF1Jjw9CtxGNXc83XVogAJUUiLFxeYF6VxccdbIClxRpKWmoij6pnlNerusG7yyYLEUKIA5iaR0BZodbm5ORX++5oqbmwGNDNKSk0o38j5rQ4ymrFWhbClJ16i7IiUpa3J4lRHD6SMxJbzXRka6GXBCJSVmjcrWmXAzXseHRiqZpGQFaBjdTMVMwaLD5J6VnTcnJ5F0Q5KDOjw8s/ZpTbpWG+dVvvYuXZE88HTXASr7u0KF2s+59SSWrg5h6tsf8v2qIyyf8RLLv3yLmh2HMWnyawxpYrquK4+p5KSsJ0E6E+6mYs4xvQkPow4SbKQkJWPDvRTT9GjYOzpkXR8sZixZzZPLYrYAGgY7u2vUT8O16xssXv5UGZ9KmTk9/xUmzD5EquZJx1em82RY8ZGoSkkiNff80nA1OpdyKiJFUs55AGg6DzzdCtTI4I6HSSOroRWWpKx9OWPBmveCY+9wQ36siKpDAldx09g17UZX/6/4NqKIsEjnwd292t+0uUdtKcn5LtiOzs5oaBjdjOhyolJbAjGxmeTLStmuEH3FevWCbTThWso7bFrkpauPmjUdribXct+cdUYTrjoNLEkkFuyLYeeKq4MG6WYSE9JQOBTej0omIcGCQsPJ1bUM8+bZiItLwAZortequ4azS1bgbAh5ljXb3qJFKa5ImpMLzhpgSyIhSYHPtW7x5aS54OqSdbCTEhKLCRBsJGb/TXNxLfWxrhhFUmJWAKpl/9gpnfK1d+mKlHOeabi4Zi9nW6H20zA2HMTbv9zHhJPr+fnrz/nih7Wc2jSTJ3vsIerP5TzfxOEatS0/zcWIqwbRJZ1j1iTik22AAWfX0n9Xi3+flaSkVBQaxlJ89w2+DWnvW8qdApDJ6V8e48k5h7OC1tcXMO/ZlhhL2JHmYsxzftm4fPEyFuDaSVcNo8mIRlbmWFljiYlT4J9nZ+ZYYq9e8DAYjbhogM6Haj46yL4vWI7t50g61HAuS13Fv5n0cRU3j1NnJk4bSahTgSunZsC/x9u83tfzJq3nnsG+v3Zc7Xur9yO4TtZV0ymsCSE5N3uVyl/L1xKXJy60XVzJn7ty+qZq2DdoRL3SpAtsF1k6f3PW430AfV0a1y9ltqsoztWp6aUDaxQRFwv0v7MLpVGoHWBm//Y9FDllZPpedhw0A3aENgwtfcbDFsm2v09iRcMptAF1SgyM9NQIzVrK1npuO9svlS53ZAgKJdhOA0s4O/YkXOORqoa9Q3aGKz09t99cqWhuNGhYEwM2Enfv4GhR3RhVAnt2HMOChmP9RgTfiFSASuTQ/lNY0HCoW4/AUu+zfO1dKumH2RduBgzUDa2blRGplPbTcK17J49MWci2bT8wLMQOknbyxZcbrjFJfwWOO2AIbkh9x6xzbPvuos8xS/gO9iYrMNSmYf3y/8jMZYviwkUzCj3Va1cvRXBYFpmc/vUx+j25gDMWj1IFrQA6//qEuueECTZiVi9gfak6chuo3yQM+5zPN+9i+YoLeX68KOLWLGdL7gXPQHCjBlndkfR1aNvWL7f+tsu/8drEX9gfnUZmagwntu7hXHmmohX/GhK4iptIw7f7x6xaOYNnB3akSUgwYW17MnbKYtb9bzhBN+r5kErm8KYN7D8fS1JCBLvnvsizs07mTi6u8+3MXU2zCqMP7ce9jXIylDaiF7zI6CnL2X8mglM7F/Da6LdYn/PsVnOmfd9uFN09y0JidCQxV64QeeJv5rw0hEmrEq4OggjrS5+wCkRBhhDC6hnQVCpHj5zJ/6hfF0ifAa1x0mxELpzO3DMFIwoLp+d8zqIoG5pjC/r2rFnqx4NX1k7liy0ZKJ07d/W9A9drbOF0e0+6uOlQmdv4+rPN1xzMBaD53EmP1o5oKolVn89kf4kRjA7Pat7YaWA9d5STJU38X4iBpgPuJcSgYTn2E9OXXy4UwKQf+JoZa5NRmonO/brgfgN+aWWG/49v1iWjNGfadetQpj7g5Wnva7MRsWAmS6JsaHZhdL2zevb5Urnt51CrF4/2D0aPjaSLEdcYCFeR4w6a590MvMsdnUpizYxvOFDw1526zNLpczhmAUNQb/o0roRfLJnHOHTcAjoPQuv7VfLNWYfBYI9eX7pMay6HdvTreTWItF6cy1PD3mXR7jNcvnKFyxdiiumqosOvx0A6uFwdqLr+zVG8On8nJyPOsv+PDxkzYSHR2ZGsZt+Qvr1DsvdjT7uRo2mWk9BQaRye/Qgd6lbD2y+IFv0+YVf5x62Kf4ObPa2BEDdD6edUraa6fHwoz9Q0NhW/7gXVvBTzuPq2f1vtSC37Pk0ejdXTq/LMvVquBQjMat+7bZWH0aT87vtJRRec7Dxxo5rQMmvOVd/mI9Rna46qmLRMlRodrlZ/NkI19zEpo8lTNXt+Xb75FfPOMfrMslMqNiVTWW1mlXLpoFrx+cOqnX/WHKN+XaepgxlFbFdoqqZ0tff9jqqayaiMbjVVp6dmqlX7I1RCukXZLGkq7vxBteHX2WrVqfzT9iRueFE18zQpo8ld1e3+kvrfxqMqKjlDWcyp6sq5fWrdkr9yp0CyHP9UdfEyKaPJX3V5dYU6mZCprOYUdengGvXbulMlL0Bgi1KLx9RX7kajcgvooJ6a9Zc6HZeuMlIuqf2/v68GNPDMasOO76s9eaZMqpTpsEzeKqzfy2r2usMqMiVDZSRfUvuXTVUPNsqaf9ej6QtqQ1IR25W4z/K1d84UTyaPuqrrs1+pP/dFqMT0TJV6OVyt/fLh7IUg3FTwqIXqcr6VJ8rTfqlq59zpat6moyo6LedEz1RXjixWz93mo0xGN1X3ydW5C4MUN/1U6Y578fO4pu/7UHX2y/oeNBjwvvr9wCWVkpGm4k5tVrPGdVABbkZldAtRI+dHFjmPa5HTYSmLOvJhh6xpugp8j81731atPYzKVG2QmhNzPaYCNKuLJ06r5DJ+tOXM92pAbbdyzOOapva83ynrXCvxGuuhGo9frfLPfpiujv4wXDXyvvaiBzId1n+PBK7iP6l0q1h5qYYj5qgThVY5SlPH5o5RzX2Lu6ialN9t49Xis5ll3qfJt6ka8X2B1brKFbgqlbnjVdXcw6hMNYar+UXMiZt66Fs1OKz4lbPChnynDpV55Sw3VbPzJLXyoqXo7YoKqjJPq98ea1X8Dc7kq+7/Oa7AHKCp6uC3g1XDYm5sJp/71JwrOfO+RqnFY0KLXLnJq9vn6sw12tIWv01N7R1U7MpP1Vo/oRacyX+sKyVwLeFHkXtwf/X53uTy7bMc7X3N1aCMbqrGnW+pTbGFz7Myt1/mdvVqM/es4+jmpaoFBCh/Hw9lyt7erXZv9cWhjEJlKxQoluq4l7RyVqY6M/9x1arYlbPqqj4fbVPxxaycVbbANef/Tcq333el+n7fODYVu/l91auuxzVXsSq0cpb5vFr2QnaQX+S55qOajPxfoRX6slhV3IEFaur4h1T39i1V47BGqkWHvurhiaNU+zxzxzYquE/xryeDs4TQGWnaoxtup/7hwLlo0nTu1GjYnt4jnuGZB5vjWaizmSMhD33D5jYD+fbz2Sxet5OjF+OxOHhSo34bug4cw7iRd1KrQBdVu5ajmfyyN//sP8Kxk2eIuBhNXHIaFr0rvrUb0KpLP4aNHcU9wS75+8updNLydNLT7Byu9h0rgV2z+xgQ8gUfhq/ml+XRDBjim+9zncLG8OOW1iz44jP+9/sm9p2JJdPei8Cmd9Bv5FM8MaAx7gWeV2ru7Rk94XH8tu/hQPgpzl+OIzkDnNx8qdWwHd0GPcLjQ24noKS5swqW3S6Q+77cSPN+3/LF94tZvyuc8zGp2Bxc8fKrQ1jLTvSpX/AgONFwzE9sabeIr774gd837OZEZBIWexO+NerSsG1nAnPHffjS77Nl/K/223zy2yaORCRgtnfDL6Q5d3RrcM3+u5pbG15YuJWOcz5jxtw/2HIognirE77BLblrwBjGj+1JsMt16CNgCOGBl+/HcctS1u46TlSaHveA+rTtMZinnh3JbdXKefkuV3tn0VXrxQvjqnNw0Sr+Cb9IsuZKteBWdHvgcZ57+C5qFjGassztp/nScehITvy5iV3hEcQkp4C9C75BobToci9jnnqYbnVKMTlbBY872FF74BdsaNKLmdO/ZeHa3Zy4nIbevQYN2/dkyJNPM6SNb+WMcDYf4NffDmHWXLnzvp7431Kd+DQ8O0xkyfaeLP5uFvNXbmb3sYvEJGeidzTiWa06NQPrEtqwGZ0GhuZvD0MNek1dzbbeP/DFd/NZ9c9hImIz0Lv7E9KiC/1GPMmjveoVM6hRh3ujAbzw6QBeyPO/1uOf0PXr+bnv8fH3lT6P/zU3O3IW4mbIv3JWqHqupMXjb4p0FX3+gopPSVBnV7yg2njmZH3cVOATq1QRS3sXwarOfNVTVTOZlFeHD9TB67EUTylZz32punsZldHzTvV/J8uWgfyvqUi29nopOYsoKsam4pY9ooLdjMqt3hNqReK1t/jXs8WrjV+9rT77Za3afeKCik1MUanJserc7gXqtXvyrE7o3lBN2HKrXbvF9SYZVyFuReb9/F+fbvzfyQLDZ3VudLqzZekWA0BH7SEv8NBnW/nuwEzeXziCH+6v7EEfpWM+eYwzVtAc/Qjwrtzx0kJUaZkH+OqDxVxWTrR+Yjxdb/iKK7cg814WT/uYby9NLeFNGs4txjCyjayo9V8jGXYhbkEq+TjhFwpOV6TDs9NEJvYpwzRhrnfw4is98CaG5W++wR9Frj97nWSmk6HAHL2Nzz5ewCWrhmOLO2h7rakGhPjPMHP065f4bH8GhpDRvPVwvUqeBqtqsp7dzZ6YkqZr03AMHMDHM58sekU28a8mgasQtyCVAO4hAZgc9BgcTQQ0uIPBr85l7S+P06BMCQYdAfd/wFvdvCF6K8u2Fp6S6Pqwce67/tT08cEvpBtvb4xDOYYy6qUHqSFXHSGymI+x+o8jpNoFM3rqRG53udkFujXoPDrx6Etjue+u1jQMqoG30QG93g4XzxqEte/PY+/9zOYtsxgSLNnW/yL5rSL+kxx6f8fFhO9udjGKpQsczDdbBlfOh+lrMeSLX6lxsS53NPW4QYs62IhPU5gMNuLtfKnfujsjXnyFxzpe36U6hahS7BoybvFfNP87iRZ3lHN5538hzbslD01oyUM3uyDilqQppW7gs0MhhBBCCCHKRx7aCSGEEEKIKkECVyGEEEIIUSVI4CqEEEIIIaoECVyFEEIIIUSVIIGrEEIIIYSoEiRwFUIIIYQQVYIErkIIIYQQokqQwFUIIYQQQlQJErgKIYQQQogqQQJXIYQQQghRJUjgKoQQQgghqgQJXIUQQgghRJUggasQQgghhKgSJHAVQgghhBBVggSuQgghhBCiSpDAVQghhBBCVAkSuAohhBBCiCpBAlchhBBCCFElSOAqhBBCCCGqBAlchRBCCCFElSCBqxBCCCGEqBIkcBVCCCGEEFWCBK5CCCGEEKJKkMBVCCGEEEJUCRK4CiGEEEKIKkECVyGEEEIIUSVI4CqEEEIIIaoECVyFEEIIIUSVIIGrEEIIIYSoEiRwFUIIIYQQVYIErkIIIYQQokqQwFUIIYQQQlQJErgKIYQQQogqQQJXIYQQQghRJUjgKoQQQgghqgQJXIUQN4fNhu1ml0HcBDZscuCFEOUkgasQ/zpmog9t4Pe5M5n6+nOMfW0hEbdaoGCLZNHY9tz17DyOpKjSbEDEsjcZ3vcO2o2dT1xpNhG3ntRjLJhwD7eP+uXWOyfLSCWdYfuaBcz+/H0mPf08sw9abnaRhPhPMNzsAgghKpktigUv3MeELZkA2DUL4LlbKtCzcWn+C7zw2yFiff/k0Iv308BFu+Y2sXv/ZNmGI+jvTpNMbSGKyyteYuATc4hp9Dw//fIcLZ1udpkKU8lH+HPpTg5fOs5zc9ozb1iNKps9ydz4Dv2H/EayAnQBPHLf+ze7SEL8J1TVa4YQ4kZSKZzfvY5FP87gg1fG8+SXOzGX96MSVvPuG8uJxoc+701hYMCNvwzZzi7h9ZH96dL+GZan3fDdXweZ7Jj/E/tjkrjw188sP3prZv803768P/leqnGFVW+/wdLYW+oXFaRfYv+GpcydOZU3nnucqesTucVKKMR/nmRchRDXZt7G1PsHMPuyDdAwPnAP08r1QRbCv32f3y7acGr7DG8M8ONaudbrwRq5jSVL1nHari/p/4rIxJ62D42mzZafiW44gn6ht+qlXcOn32s8f/ufvLRlCR9+PZ6ek5pgd7OLlc0S/g0PD/iIcAuAA12bvXOziySEKEAyrkKIGyftL775bh/pmi/9xw+nrv5mF+jfQsP7rndZfeQke+ePo+kt2E0gl64OQ54ZgL+WyaHZM1mffLMLJISoSiRwFULcMElrfmThRSv6mvcy7C63m5JtFTefsfNwBgbqsUUu4YcVcfI4XghRahK4ClGFZURs5KsXHqBzkyACfLzwqRFGxwdeY9k56zW2VKScXMn0Z+/njsZ18Pfxwb92GO16j+HtubuILrGLpCLplwfxMZkwZb/cg59mXea1SpvMpt/XEW/T439PH9o4FvWeTC5u/poJD3WhSVAAPt5+1G7Ukfue+T9WnkorMcAxX97BD6+NoFuLYAJ8fPAPbEjHAeP5bN050ovbKP13RvldrYfJZMLn3u+5nG9HNuIPzmfyI71pG1oDX28/ajVoR5+xU/j9WHLhMpkv8s/P05j0yH3c3TaMOgHV8PL0JiC4KR0HTWe3GVDx7Pn5AyY8+gA9OzYntLY/Pp7ueHgHENK6D+M+38hFcyqn137NK6N60qZedbw9vfCv05Q7h77OLweTCu03Y8lIqrmZ8AibwF95OyCnhbPk45d5cmhfOrcKo051X7zc3fH0rUmD2/rxxMd/cqqEfr5latfS1B3AvgV9etREr5LYuHQdiZUeuVqIWPoqz365l5Ryf0YGa8YF4Zbn3PAd/FvRn6fi+HNCZxrV8cfb04eA4BZ0Hfoys7dHU/w3MZ2Izd8waejdNA8OwMe7GjVDW3HPsEl8s/kCGeUutxD/ckoIUXHmZBV17qy6mJBxg3ZoUwnbp6oegW7KaDSW+PLsOFWFW/Jum6lO/fa4au1nKnobk6cKHfCF2pOcZ5OMteqpusXvy63uU2rttaqeuUVNaOiujKYaatTvKUVUKUFtn9pTBboVU67sl/eAH1SMLf+mKXu/UPfW81Amo1EZTW7K09dHeWZ/jsk9SPX9Yr9Ky1uUfyapJu5GZTT5qlr1QlVo6NVXo1G/5Pn8DHV8zijVxCf7s0weysfXS7mZsutdvbN6e0uCylsc28VvVR/vvO1pUiaTSZmMRuXZ6SN11KKUshxU77f3LL6eJk8V1CBE+ZiKae/q3dQnB9LztUH64hHK12RU7g1eVJszSyhPoZebqtVzutqfpgopa7uWqu7ZUlc8pgLdjMqt3jNqfSV/baznvlF9/U3K6FZH9f2/PSr52psopZQy73lLtfYovq18Hvo197PSl45W/sUcn5yXyauRGjP/vLIWKuAltWpSZ1XTrZjt3ALV3e9uUrG2ghsKISTjKkRFqDh2fPUwHUNqE9KwEfVr16H5oPdYGVHeMfel3G3iBt56eDJbYss+MVTK3+8w+Ik5hOfMn6pp6O3t0WvZD+6VmYtrXmXkW5uKzVZpmh69Pu9Ld83H/rbI/eyPtIJdKM0aFky3KuJXv8LI9/4iVjkQ1O8tftl6jEvR0Vw8+jeLPn2CO6rbF7kPlbCWV4a/ytpIhW/nl/h5+xmioi4TeXIzM0c0wtkWzYa3n2XmsSJyXw53M21POOHhV18HZt2PV/aO0nd9yMhnF3A6041Wj33LppORXI6K4tyOOTzd1h0Sd/Pp0x+xs6j0mCGIEbO3c/TcZeLirxB5ag+rZgwu0K/Xnrav/8XZqDgSEuO5fHoH8567DXfNTHTEZZxbjuajhX9z7GIsV6LPsmfRq9zpq8OWuI1pHy4r23y2hno8tuAwZy5GcTnqEmcObeLHiXfip1fE/TWZl384l2+asQq1aynq7tCwGQ0MYIvZy95rPiEoG13NYUyb2p+a+ljWvz6AwdPLk3nV0PSFz/OyUJlnmf/SmyyLz3ugMjn02QhGfrGL+JwG1/TY2RvI/QraYvln6hheWBIt3SiEKEACVyHKLZ29UwfS76Vf2RebiQKUNYmTKz9kSN9JrI+/XrccGxfnT2fuGUvWTU3T43/36yzceZKIs+HsXDmd++sUM6rceoJZb8zkcLoCNPTVe/LByqNExsQQeXQF793jjx5AWTg9ZwZLY4qqg4br/XOIjIsjLvsVe/RTutiXXGrr2VOctYJmV4tA/wKXHts55n36KxFWcO34NvNnPUuPRn64ODjg6t+Qu0a/y7tD6lJ4LJeVE7MnM+eMBX3QI8ya+wq9Qt0xAHZeTXho2rc829QeUncz99eDlGmSKBXJgilfcSBNw2/AdH6Zcj9Nve0BPaZ6fXj7+zfp4grmE/OYs7WIyFUzUrN+CP5uDug0PU7edWnZ0L9AHTScPavh7qRHQ4ejVyg9X53GE43sAB2eHYYxumtD/FztMDh4UPeuF/i/59rhoNlI/GvD1UfvpaE54V3dH09XJxydXPCs2Yx+k77j/b4e6FQq/yxbTVTu4a5gu5ai7jqfQGo5a2A9z+nzlRu4ggN1h3zN79MrErzac9f/HedKnvP80o8DcSnqrToven20kf0nznJq/5+8190vt6626BUs3pia+1YVuYB3P95GkgLQ4dlxIosPXiQmJorTmz/n/qDsH2i2KJZ+MY/TMmmxEPncqnOmCHHLUzGLmfJ/u7ImIM//FzJP/sD7Pz3BHeOCKv/XoYpn44q/Sc1JmLrcxasznqdrtax0jaltV1oF6Pj1dOFNrUcX8uuu7L6imiMdn/+Yx9r5ZZXR7zae+OAJFq97jR1mUCnb2LQ7kwe7OVRKsa1Xoomzgc7TG68CVx4Vs4GVO9NROnd6PDqE4NLOj2Q9zfIle0lXdjR5cCS3uxb4u1097ulWlw/2hnNq126uqKb4lnJEmIpdw6JNSSh9dfqN6olPge10Ad24p6kda7fEsnvnaaxd6hcRWJeDIYTb2nij2x/JhROnSKMlxqt7pXqbNtTUb+VE0nnOximoVoEhbponXe5uhf3iVZhPhHPCAv52XNd2zaX3wsdLB/GJRMeYgRJ++ViPMvvJiSy8WNYANxNno4Z2JYb1rw9giOMfzH+0/nW48TkQUL8hgb72QHsef2UYP66ZmjWtlkrjWPhZrP3C0KOIXD6PtQnZ0ahdIx778CXurJl15ng2GcYHLy5l2RMrSVWKzP2b+SdhHEEeMoxRiBwSuApRTuaD29hd3HKlKoN9W3eSMi4oT9BRSaxnOHYqM/cRoiG0A7d5l+7GlnZ4H8dz0mMqjQ3PNcD9uWLebEvmQkQcisqZa9Wclo5VgebohGOBD7ScCueEWYGhHs0bF5nTKprlOIePWwCN07NHcPvCwj8TMq+cxYqCy1FctoFvKaNLy8nDHM9QYItjyfiObCoUTNtIPJ/VmNFRl7FRSYErerx9fdBzCWtiHIk2MOapls7LBy8dnLAlkZRsg2oV2auGa/XqmDSIjrtCTjx1Pdv1KgecHDVAkZaahsKl+PPMlsjJbRvYcLICmVlbLNu2hpN5XQLX/AyBIdQxkD0frI2EuARsgB4z4fsPk5nz5TXvZ/JtHkwu5nOU5RLnL9nAQ+aNEyKHBK5ClJPm6IhDCRGdwdHp+nzBVArJeQJmzdUVl1KldRVJCUlYS92DQWG1WMnqVFBxBkNWHz5lNmMpUAaVmpKVQdZcMbqWYW/mZJIzFKBIunCUIxdKeG962tWAoRRUSnJWNl2lEHniCJHFvlNHelpGpfZFtHfIjpKttsKfa2efPWG/FWslZxrJTAAAIABJREFUPGHX7B1w0EBZLVcf+V/Hdr3KgtkCoGFnb1fyOWaoz5hvl9IttWw7UvH/8Olzk1kbZcMheAhfvtsb5/IUtawcHcnbi9tqzf21SGJCGVbjUhaspf/CCvGfIIGrEOVk17QbXf2/4tuIIqIHnQd392pPkTM+VZTmgqvL1du8LeoiUVbwv+a3WcPZxSlrAIgCNEeaDpnIoPrFbWigTkev7K4OWu7AEQBlK3vHO73JiJMGGcmJ2f378pTMxRUXDaJtCcQl2MCnlBkmO2ec7TTIcKDHzOP88qBbKUtz7eBYc3LBWQPs2zJ550rGBd4qQwK06z//bbnbtQxUdsZYM2A0XqM7imYksGUHAsvy8fF/8/6g6azLDlq//n06/Wtc40ui5R9kqFRlB40azi7OaGR31zHUY8CE4bQoLprW+9OhlmRbhchLAlchysupMxOnjWTziFkcTctzg9MM+Pd4m9f7el6fAEMfRFg9B7RjWYOzLCeWsXDPBJq1vnaY7BIaRi39nxyzAMpMrGrA0Kd64HmtgmrOuDjnvEmRGXWRGBtUL0Mspw+oRQ09XEm6yMVEBXm6NxiCGxLqoHEmLZyt22IZH+xburYzBFO/rgH2ZrLvn92kPdiF0iwapTk4YK8BKp20dAXOhfdmCAol2E7jbMYRtu1M4MlAj//OggnlbNcySbtERKwCfXVqVa/cW1FW0Ho/H25LxL60QSugObvkORWsRF6IxIpPJd4oDdQLC8FALJkAtmjSagxg3NAaMlJaiFKS74oQ5abh2/1jVq2cwbMDO9IkJJiwtj0ZO2Ux6/43nKDrtQC75kaXfl0w5dxgLUeZMWY0n6w4QERsHFeiLnElrehMkaFRb3oF5dyGrUT8/DC9H5nGoq2HOXshgjPh+/hn/RJmT32TH/fnGSuur0FgzauZH/O2WXz8ezgxyUnEXjjGjrU7iLhGElYf2IB6ThpYjnHoWP5x6JrnXfTr6IqmUlj36cdsTihlpktfl2731MNOsxG5YDpzTpdu3gCddzV8dID1FMdOFf28XfO5k+6tHdFUEqs+/5oDxa5i8C9UznYtC8uxQxyzKDSHeoQFVXIORWfAzk5f+kxrNn1AbWra536xCJ/7CT/vjyIpOY5LJ/ey/u+TlLBWQ2kKRo3ufWie08nbFseK53szZPI8Nu4/RcSFcxzbv52Ny+fw6Wsz2VqxnQnxrySBqxAVosOj2RDe+n45f+3azT+r5zH1sU5Uv8bUUBWj4XPvJJ5plTOYRZF5Zhlv3N+esDq1CQy9iw+KmyfJrgVPvjaQGvqcG2cSB399kxHd29G4QRhN2nSkW79hPP3OF/y2Pc8ckjo/OnVuSM49XWUc5tvhbQgKqE6dBq2464HXWHqtyNWpJW2b2KNZL7Fzx7n8Kwppftz3ylM0c4bMozMZ3HscM9ccISrVgrJlkhpzjlORqUX0DTTQ+OEJ9PPTYUtYx6S+g3lv/j+cjEnFbLNhTonm5M4/mL0g/+wPumotaFFTD5ZT/PTedP6KSMFiyyQpYi9/LNrKJRugq8ngF7N+gKTtmcLAgS/z48ajRCVnYrNZSLtyjn1r5jJ3cyT/vhmLyteupWfj4o7tnLOCIawtLQvOWlBBmqk1L/y6ga1/lD5oBcCpHXfd5pybWbeem8+THUKoHlCb0OadGDh+DkcrGMPrg0by2uh6V79LaadY/sGj9OnQjLAGjWjVoSt9Hnqc12f8wKZiflQJ8V8mgasQVZF9Y575cRaPNXdDV6bn1xq+/T5l3pTe1C44tD8fCyeOncwzP6ee0EfeYWxD56Ifl1uOcvDoNSYV1fnT9Z4m2GkWDqxemxUc5uHY7AXmfPcoTU2QuO9HXhzQlhA/T9zcvfELasaIH84WuXymVq0/n/zwCp18dGSeXcGU0d1oHuSHl7s7Xv51aX7ngzw3+XeO5t3YrgUPP9UFD52NmLVv0jPMH093b6qHdeKhJz5jU2LWkDRj57f5aUovatpZidr8OU/2aU1IgDfu7p5UC2xExwFP8Mq8A1zf5SZujnK1a2mpKNau2otZ2RF2z93Uvg7dODXXQOr6lTGTqwvg/jdepJ1b0bdG69lDhJcvUs9TMCOd3prHjCENcCnxK3iGYydk4VchCpLAVYgqSh/Qgymrt7Pi8wkMvbs5dXxNONnpsXcy4l0jhKa3d+O+0c/x1oTe1Mj3TXehyaM/8fdf83hvbB/ahfrj5mhAZ3DC6FWDei26cO/DE3hpQHC+6Z00t068+8cqvnr2XtoG++Jqr0Ond8QtoD7t+w+mU8C18o566vS7j9aOkLHtFxYUyiYZqNFrKqv/+Z2Px93L7aH+uDsb0OnscHarRmCj2+n+0BNMHNWO/BMPaLi1fZHF/6xmxguD6NSwBh5OBnR6e1w8a9CgbQ+GPNge33xtoCdw1GyWfTmO7k1r4OaoR2/vgk9QS7o/1IXA3Ko40fDhOWzd8D2vDLuLprW9cbHTo7dzxs0/hJZ3P8DorrXLcNSqkvK0a+nYzi5i3pY0cGjKwHvrVdI0YpXDqelzLFr7Ay8/2JEGASYc9Bp6e1d8g9vQa9jd1K2MnTjU5f4ZG9m+5GOeGtiBsBoeOBl06B1c8PCvS9OOfRj+3BsMa34rtYwQtwZNVf6wSSGEKJqKZcGIloxZnECtx5ay7cMOlT/oR9zi0vnn5dvo+fkpnHt8ya55gyu0hoIQ4r9FMq5CiBtH86LP848QZmfj7I+TmX1C+vD911jP/MDk/53Caghh1PMDJGgVQpSJBK5CiBvKvsmTvDm4BrqUrUyZ+BNnJXb977BF8OvLU9iUpMP/vjcYX4op3IQQIi8JXIUQN5bmzt2vf8gDNXUk7lvGeolc/zNsEZtYvjseLeBeJr/di1KuVCyEELmkj6sQ4iZQJO3fyGHfDrQt68hvUaVZo3ew6WIInZu6/3cWdBBCVBoJXIUQQgghRJUgXQWEEEIIIUSVIIGrEEIIIYSoEiRwFUIIIYQQVYIErkIIIYQQokqQwFUIIYQQQlQJErgKIYQQQogqQQJXIYQQQghRJUjgKoQQQgghqgQJXIUQQgghRJUggasQQgghhKgSJHAVQgghhBBVggSuQgghhBCiSpDAVQghhBBCVAkSuAohhBBCiCpBAlchhBBCCFElSOAqhBBCCCGqBAlchRBCCCFElSCBqxBCCCGEqBIkcBVCCCGEEFWCBK5CCCGEEKJKkMBVCCGEEEJUCRK4CiGEEEKIKkECVyGEEEIIUSVI4CqEEEIIIaoECVyFEEIIIUSVIIGrEEIIIYSoEiRwFUIIIYQQVYIErkIIIYQQokqQwFUI8a9ks9ludhGEuHUphbrZZRCiHCRwFULcclTyWbavWsD309/jpSfH8vl2c9m2T9jApC6dePjrXcRdr/g1cw9fj72Pbu178sFuy3Xaibjl/AuOe2bEKt67tx0DZoSTebMLU5SME6z6+kNee2Y0g7p34oEZR7He7DKJW4YErkKIW455xzSG3D+K8a9O4cuflrLnchmiT5XAujee4uu9B1m5bCcx1ytwtZxi06JV/HP4Aonmq7kr25lfeLhVLWo0HcL3R8sWcN8QGQf4alAjatRux5OLIpC8dBmV87innfqTjx7vy21htajm6Y6byYSb3xDmJwG2CBY83pbaNRpz/9eHrnMwqcg4vY7Ff4Wz7p1xfHHk1jtHVeIWvnzlXf5v1nxWbj1IRKJZssMilwSuQoh/lfQdHzPpx3PYXNrz8icPE2K4kXtXxG6cx5Jj8SSeXskvay/dwMBQEb3uQx4eeDcdR//IhWJ2bD2zip/XnSMx7gi//bqV1BtWvn+zko+75eQshnV9iLfnbOBQRAIZmj0O9nr0AXUJdAKSNvPrgiPEJZ5l7c+rOXdd04saxo6v8vHoOuhTd/Dxyz9yXn69iCpEAlchxL+HLYJfpsziqEVP6CNvM6qu/gYXQMPrzqHc36Qavg36MuyegBt4kbURv+9PFq3expFLKcVmqPR1ejK8Rwg+/s0YNqQjzjesfP9mJRx3lcAfk99lTYzCpekjzNpykqiYy1yOieXSlpdpbgCMnRgypBl+PvXoNbwHta/7aetKxxdfpZenRuKGaXy6KeV671CISnNDcxFCCHE9WQ7+wMwNSeDalXFjm+N4E8qgqzmQL/4aeBP2XEr2DRjz0y7G3Oxy/MsUe9wzd7J6wxVsumoMevNd7mvslLMFDk7ZZ6iuOn0/2UTfT25YcdF8+vDM8BCWf3KMX75cwkt3DMZXu3H7F6K8JOMqhPiXyGTbnLkcMWt43DOcfv5yeRM3n0q+yMVEG+irUd3f/mYXJw8Hmg15iKb2kLT+JxZKfwFRRciVXYiqyHqWFR8+y8j+XWjTsC41/Lzx8PDGP6gxHfs/xuRf9xUeTZ95lvXfTWHi4w/R647WNAquib+PJx5efgQ2voMHJ85iW1QK5zd+wysj7qFVSADent74123OXUNf5cc9V4rvr2mNZe+vk3msf3vCAv3x8QkgqHFHBj41lUWHE4rfzpbAwfnv8XCvttSvVQ0vL3/qtuzJ2Jm7SC7raAzzLpb+cQGrZqRL3ztxK5A9Ulc28+nYAdzZOoxAfx88PbzwC2zMHQ9M4OstkRQ3PlwlHWHhB4/Su219avl541u9Hq17jOaNH3cSW0TF1KXv6OtjwuTVkQ8PF9FZMT2CjTNf5IHOjQn098YnIIimXR7ipW//JqqEQeqpJ1cw/fkH6dykLtV9ffAPrE/zOwbyxJSVhfooZm6ZQJi7CZMp5+VFx6nhWSOzrYf4oIMXJpMP/WZFZXUpSF3OI7XdMbn50m/WpSK7GWSsf4Z67ibcAobwW3yed5SzPvmkhbPk45d5Ykgf7mgVRp0AXzzd3fHyD6JZtzF88Mcp0tIvsPXHdxjbvz1hNX3w9KxGrbCODHrxO7aXMALPlnCQ+ZMfpU/b+tTy88GvVn3a9nmU9xccJKGEWK3SjntmJmYA8z7ea+eR55iYcA98glWZgIrlx4E+mEyetH13XxHnoo34g/OZ/Ehv2obWwNfbj1oN2tFn7BR+P5Zc+HiZL/LPz9OY9Mh93N02jDoB1fDy9CYguCkdB01nd/Z4LH3d3vRuaEBl7GTpiouV3x9bxbLxg/F8sPlKJQ+uyiR8wVuMG9qbTi2z6+fhiW/1YJp1GcT4acs4lu8Cooifez8+JlO+9i/8csN/9O9kkMbap+vhnvP/Xu354FCB73L6Gp4Kcc/drtq933NJRpDdGEoIUXHmZBV17qy6mJBxg/a3T73bzkMZjcaiXyZv1eTRReqC9eomtsuzVX/vYt5vNCqj0aQ8/PyUr6nov5t8W6sX18YqW4Gi2K78rT7sE6w8itvOs4F64Ku9KqnghuazasGjzZVPMdtdrYu/Gr00/ZpNYjkyVXX0NCqTd381K7LgzpRScXPV/T4mZTSZlJunt/LxclcmU04ZG6qxSyIL1c18doEa28JHmUoqn3sTNemfzKvtcfFb1cfbqIyeHdSUQ5b8bRW7Sb3TtZZyy25vNy9f5eNhyvp8k6cKG/6zOm0udLDVuUXjVBs/U5HHzLv31yrCqpRSFnVsWmflaTQqk3cNFRwaqkJzX2Hq3i+PK4tSSlkOqvfbeyqj0Vv1/S67zrYYNWeQnzIZTar6iIUqsVDjmdXet1srD6NJefeamb2/8tansNw2K6aNTe61VP1Qv+z9FG4D39teU38lFf7c1CPfq6ENvYo+fiYv1WjYbHUktfB2lXncc//f5KUC6uY9JqGqQbtJamNGVvv/MMBbGY0eqs07e1X+JstQx+eMUk18so6/yeShfHy9lFv2uetWvbN6e0tCvnO3UHuaTMpkyjounp0+Ukdzi5eptr/aTLkbTcp/6HyVcO1DVQY2FbtolApyMyq3gM7qjU2Frx3FbpnvWuWhbn//QKE2Wf9MSDHnQ9Y54Xf7JLXuSs4ebSpuziDlXdLxzNlu1BKVrpRKWfGYCnK7eq50+/yMynM5VeYdr6pm7jl/91G9Z57P93dx/UjGVYiKUHHs+OphOobUJqRhI+rXrkPzQe+xMuI6TzFjqENoXXtykoqapqHlzTCqDE7/MpEP1pdlzLjCkpJCWjFZA5V2lG8nfs7evFWznmb2mAd5b0MUluK2M0fw58QHeHpxVJ6si5WTs57k6XknSK+kLEXqgT0cs4C+ZmMaexXRWc90J68t2cyBU5HExkZzOSaas9vn8uxtHmjmc/z65hfsyls3yzG+euRJfj6ejubZhsdmrGLf2Shios6wb81sXh/UCFNZrqC2S8x/ZjQfbYvHULs37yzZx4XLUVy+GM7Kj+6ljp2F80sm8NIv+UekZx74lBGP/8CRVD1+ncYzc+VeTkfFcDniBPs2LWDWK70o2CvCrtUrrD8cTnh4zusQCx8LptgxP5oHnbq2xF5TJG9Zz/b0An+3nmXD+pNYMNCo65346cpfnxIZ6jNu6UkiY+NJTIjh/L4lvHW3HzprHBcuQf1B7zB302EiouOIuXCIFVP7UcsAaYdmMnnuufz7Sd7Cu8Nf5PdzZhzq9ufdBds5GRVN1MntzH+3H0EOZs4ueZ4hb24iOe92lX3cc+vWgPG/H8pzTMI5/PdkOl2j90D6rg8Z+ewCTme60eqxb9l0MpLLUVGc2zGHp9u6Q+JuPn36I3ZmFLXPIEbM3s7Rc5eJi79C5Kk9rJoxmKtjFu2o36wRjpoibf9uwiv1sqXh2eddpo+sj0PyLj59cCBvVVrm1UDd0LpXB+loGlr+CyApB7/ipc/2ZmW70UDTodfrC73ybaY5EFi3JnrAuX1v7vLIPtDKzJ6Vq4nMPcGsnNywMXf2B82+BT1v6EDM/7ibHTkLUXWlqT1Tuij/QhlDk/Jq/rxaF1fa/EJ5WNXFHSvUuj0n1IXYJJVusSlLSoTa/u1I1dgzJzPnrhpN3KpyckIFsxgtXlytzsfGqctH/1SvdPa7ml1yq6V6T16lDl6IUZcOzFdPt/G++rd82SSbSlj+qAp2u1pv/w7PqJ/+PqEuRISrDTNHqxY+V7OEHs1eVv/kJE7T/lIvNnK/mlHzu109PWenOh8Xr6LP7lMr3rrnaruWKuNqUYemdFCeRqPy7vudKirhWuyWRz9Wd3galdGzs5p2/GqmLHXdeFXf3aiM7o3VM2vjC2eLUuarIT6lz7xlbH9VtfAwKpN3J/XB/oL1SVGbJzRV7kaT8u7+pTqbk7qxRatfh9RUbkaT8u38gdqXVnIb5GRcvbp/qc4Xl/4pKuOqlLKenK7u8jIpo3tD9eJf+Z8cWM99pXp4m5TR43b1/gFL+etTjJKy1NaIb1QfX5MyugWqx1cWaABbjPplcHVlMppUtQfnqfirW6kzM3spP5NRudXop74+WTDtm6lOzOyjqpuMyuTbXc04fbWAlX3cS6pb3noUmXG1XVI/DaquTEY3FTJqkbpcoDDW89+p/v4mZXQLUePXXT0GpdpnTktsf0U1dTcqU7XB6rcistYVZrmglo1vrXxNpc+8XjvjqpTlzBa1bOM+dTryikrOsCqbOVGd2TBNDQh2y72u5M8uF5Spjn87QAXmXr/cVN1Bs9Tx3FM/US0ZXTs3q2uqNkD9L+fCYj2nvuyec100Ka+7pquTkm69YeQHghDlpGIWM+X/iuqLqcg8+QPv/3T6Os7hqcO/1T10aVaXAE9XHPQaeufqtB71JmNb2WW/x0rUuQvFTmbu6OmHn6c7PvW6M/HZHphyMg8qHWNwOxoGeOHXaACvPtkRx5y/Wc5w4mxOD7xk1v32BzlrA2gOrZgw6yOGtKtLQPVQ7nj0C2Y8EpybFbGcWcLC7JSm5eAKVkfk9BkzUHfMJ3w4uCU13N3wrtWELh1DcSnTCGcbV2JisaFh8PLBvQzb6gMbEWbUgS2ayNyFDszsXbmGSCvYNRrG2DvcqNiAazN7lyzllEXD/vbhDG/kUODvzrTpfgfeOkXmgR3sy86eqYR1LFqbgE0z0m3cWBpfx2kSdLV70LuJHZr1ImtW7s/Tz1IRtfpPdmUqDKE96VlfX+76lKtc1drSLkgPtiROnbic/zuledC6XX3sUJgjznIx55SynWPZ/H9IVTr8BjzN0KCCE+jYUXfo09xbTYdK38GSP3MWYqjs414xKnYNizYlofQB9BvVE58ChdEFdOOepnZgi2X3ztPlWl1K7+WLtw6UJZboKyVfsWyXFjHh3r707VuG172PMfO4HW4GDVvSLj598D6m7Kj47MH62rfTq1MTAqt54GKvQzMYqX3HU7w69Oo1x3rxHBeKaZTkbZMZ9cqa7P7KGk6NxzH7m5EE52bAjXR9sDe+OUnXtK0sWxODAlTMelbvyczKHmv2tBzQh0CJpm4YmQ5LiHIyH9zG7pTino9nsG/rTlLGBWG8LntXJB//g++++onlWw9z9mIUMUlW7N19cM3IE3Kkp5OhuGYQ6BgYTA09JFgAZSUpPgkbRnRouAcF46VbQ4Q1q15JSZmAA1hOsv/Q1flCDfXvoVtQ3ofRjrTofid+M45nbWuN5NChaGy3B5B68vjVCfI1V1q3b0LB0Kes7ZGemo5Cw8HRsehgQ6VwcuUsZvywjL8Pn+VCZAxpBk9qBnmRmqJAWbDk9HdQCRw/FoUVHe5NmlGnovNqqkSOHrmAFdD2TKNfu68LlzHtMvEKVPplouIVOGlYju/ncLoCQyitmxuvbxClr0Pvfk14d9dOzqz4k0Ovt6KpAVDRrP1jG+nKQFifvoQZyl+f8pXLG18fPWAlIT5roN/VGEGHp48XOsCcnESyDdAD5nD2h5tR2NO4bYuip0Vzak6bxnb8L9LMkf3hWKiFfWUf9wqynDzM8QwFtjiWjO/IJruC77CReD7r+x4ddRkb9YvvDlIcB8esH6YqjdTi+gllU2nn2bVpAzsq0KXAlnyQrfvisbV2rtCjdVvcfhbO/Jp5q7Zz9PwlomJTwMkLL8ek3ABepacV2RVJRf/BhIf/j/2pWX/U+Xbnwx/foEOBEZ3OHR+kf805fHXWCiqVzYtXEj14CIb1f/J3dltpDm0Y2LeWdBO4gSRwFaKcNEdHHEq4Fxscna7TF0wRs/ol+gyfyaECgbM5JoKUAu8tTZ+ygnUxW66mKTQnx6sZVxRWixUFaCqJpDzpZp2HJx4Frt6auyfuGkRkb5uclIxCkZKUisrZVHPB6FLxCMFgZwAUFksRy0OqeDa81ofBn+0jWWnoHN3w86uNjyGDuONHiclQ+edYUamkpCpAw9XoWvGbkkohOUVllS/+POHxJb05nfSMrH2rpESSFKAz4Wa83rdGPUH9B9H6vV1sObGUJQcn0bSZAXV5JYu2pIJdUwYMCMs6p8tZn/KxxyE7YLPZCmcE7e2y/2ixXM04mpNISleg2eHm5lT0njVX3NwMaGSQlpwd7FT2ca8glZKc9URHpRB54giRxb5TR3paRvn6j1otWf1ANTvs7Eo+Rnr/AXzye/MSZ2MoStqhWbzw6kLOmPVU7/UhU4dWrD+o9fx8Hu31OPPPFKhzUhQXkvL8u6gGsZ7lp3FPMfesJes6Zh/M6K9mMDyo0K8CcGzL4EEhfPtROBYUqX8t5M/Inrgu/4usS6+G0+0D6R1ws8+U/xYJXIUoJ7um3ejq/xXfRhTxLErnwd292l+fCfAz/mbqc9/kBq0613p0GzKQ9nW9cMyMYsOsT1h+qrTzEBWnFLdAzYTJ9eqNzhobQ6wN/PPEoLYrMVx9+qhhNLqioeFidM4aFKEAFc+lqFTArQLl1WE0GdERRWZSEtk54Vzm3Z/wwoz9JGs+dH75W2aM70KNnIOTtpLHGz7AnCt56+aCq4sG2EiMi8cKFHFbKz3NGRdnDdDhNWw+4V90LVWGWXNywVkDbEkkJCkKPSsu+P6KlBHQ1ezPAx3eZuuaE/y+eD8vN2tOzIpFbE0Fh9seZFA9fYXqc30UUWs7V1wdNEg3k5iQhsKh8LtUMgkJFhQaTq7ZQWplH/cKyj3+9m2ZvHMl467D82iVmJidqTbm+z4XyakGTdrXKNPnpx38iqEfL+asWU/1XtNYPGskoRW6MCbyx1svsiA7aNV0HjTpP5Q+rWrhbkjj1J9fMnP9pWK6TZg5NvNJJq2MzuoaornS+qXvea+rVzHfHTuaDB9Fmy8msjVNoVL/Yt7s7/FYl5jdTcDInQ/1LTQ4Ulxf0txClJdTZyZOG0lowUegmgH/Hm/zel/P6/Jo13phJztzO/PZ0WLCPH6eOonxjz3K2KeeoOeNWubUEETjhi65dbQe/ZM/j+UNmNPY/sdaonICV301whr6oAOcQ8OuLmup0tg8fxmXKtQhWE9AzeroUVgvRnAp313LRuSO7ZyxKAz1RvLO83mCVgC9HXYFr4SaifoNsj4vacdWDhTXUbi0NDeCQ6qhx0bCrn84WsrfFYagUILtNLCEs2NPwjV+TmjYO2QFaCo9vXyzNej86Df0Htx1Fk4uXsCu9AssW7iVVFzoNGQgtXPaqZz1uWHsQmkUageY2b99DwUnSQAgfS87DpoBO0IbhmYFqJV93Cso9/ibj7Bt57WOf/lYIyO4ZAOdsQY1y9I5vBTSDn7F0HsnseayRkBZglZNy3PtVCTEJ12tu/ko23fFZ/dJ1nDo+h6Lv3+PCePG8uhjTzGmc/HZ3IyDn/HkO5tJtAHo8LzrXb5+tilOxbwfQFf7AR7p4ZH1mSqDv6d9wKqk7KSBTy+G9vS+qf2g/4skcBWi3DR8u3/MqpUzeHZgR5qEBBPWtidjpyxm3f+GU9STp0rZq06HPvdKaePy8WNcKc+ojApzpcvA7vjkDF7I3Mu0Mc/wvy3HiDh3mPUzHmfcrKsDRvQ1e9OvRVajGBr2oU+wIfuCbyN+5SSGTJzL3yejuHIlhsjopGIXBCiahnf9+vjowXLqMMcKBBy5U+XYrKUcwGJH0769qWMAy6kf+eCnU1RspiDs/pQeAAAf+ElEQVQ7mne/G389WI7+yKdLo0rXhcPnTnq0dkRTSaz6fCb700p6tw7Pat7YaWA9d5ST5Qq6NDy6D6VvNR3Ws4uY89McftmahubRnaF9ffPcoMtXnxtGF0ifAa1x0mxELpzO3DMFzyYLp+d8zqIoG5pjC/r2rJl9M6zs414xms+ddM89/l9zoMgIvCJsRBwOJ9EGhnphhFT2M1i9HXZ6uzJnWjVnV1xzL3JWLiydyZz9V7K7NOjR63JHkmK5eJQTSaU4+zIO8tnTH7I950mVdw8mTx9JoXF7hQrjSa9HHyRQn7U/W0YGmQpAT40Bw7jz+gxiECWQwFWICtHh0WwIb32/nL927eaf1fOY+lgnql/HlR11Aa1oGZCTrrRy7qfBNKrXnNs7dqJTp15M3nqjbrUabj0mMuEO9+wLiSLl4A881aMVYY3a0W/iQk5lZN9QdNXo/ep42uXcuOya8fhr91E95+Zki2fnV49xT/MQAgODaPTw/CJXJyqJXeO2tHTSUMm72XYwbxvoqNasOdX1YDnxE+9MW8fppDzhq7JhK+K+Z99qHK/290dvu8KaCb154J357DiXQKZNYU1P4OKJc4VXJyuBU6eneLaTGzrrJRY80Zcxny5l97k40iwKW0YSkUe3sujb3zmcr+i1eGjCCILsIG33FAYOmMgPm45xOSUTqyWNuPP7Wf/7FiKyy+HUtDUN7DRsMUuYMnklpxLN2CypRB5ay/z1pRx17tyJ4fcHYbBe4OeXP2J7ho7qA4dzT4GBK+Wqzw2jI3DYJEaG2KPi1/HygIf5fO0xYtPNpMUcZc3nDzPw5XUkKDuChk9ieJ5RWJV93CtWjZoMfjHrR3DanikMHPgyP248SlRyJjabhbQr59i3Zi5zN0eWbwYTlciubYcxo6dm61aV/sjbqcEYZq/5m1Xfl7F7gEN9GuWJoq3nF/J0x/o89FMsyhBC65buucGL5eB0uofWp1X7TnTq1JmHZhwu4kevlVPfv8S0Xam5P7BU7AqebOyFh4dHvle17jM4W6AxHds9zhPtXfJlVjX7Rgwb0e76dAcTJZLAVYiqxr4tz34wjOCcEVPKRlr0SQ7u28vefYe5kHID1xzX1+WRWXOY0N47TxY4P83gT9e35/HF/7d33/E13v0fx1/XGdk52XsnZoIoYrRI0Npqt7dqjZuWqla1pYq7WrpotTWaolWj2qL2FlRprRJFjdgrRiJEBlnnnOv3R0KjCYJEnP4+z8cjfznnXJ/rOse53uc7uxbuwlPwaPcFcz9pTcCdZrjdC0NjWja0QzGdZv26hFtuXvqoVxjVKQC9msyGDzpQM8Ab38BggoODCQh+lu+L2zJU403HCXP5sKU/urxE1n/6X5pVC8Dd2QkXzwCqNBzFb/fSqqkNpc+07xjwmBPKtUMseLc7MdWC8HJ1wtnDj0pRLek5bBIbEm+txTH6feaMa0uglZnkLbEMbFuHCj7uuLh6ERTRkA59v2RzWv7tWBvWjUEdfNCSya4JXanp74azqzeVGnSk/yerSCzRR8OKWr16UcsacrJzQB/OC70bFu1Ovc/zeVgUx8a8N3ssbQP0ZB9bxPCOdQjxdMMrNIpOwxdxLEdPQLtP+WFMk7+XgoPSf98f7CxwjBnNnLFtCNCbSPptMq+0i6KirzvOzq54BVejUacBjJj71/21DGduZs2W66haP55qWaNMxvPa+Ifhf68DoLVVeOH19vjrCr0xGm8qVjCg4EjLd8bQxu9Gj42K6doFjvy1hz179nIkKauY1n8j+//YTeG5rKpqwmQq5s9sLvp8TRDPDX4Gv5u/bxQcmrxEj3CZJlQe5KoLYXEUPFt/yYb10Uyb9hNrtu7j2LnLZGSbUPS2ODi74RMQRuXwCCJb1OVu8y0euBq3Rgxfvp3mc7/m67mr2LrvNJeuKzh4hlKzcRueG9CfzjVci1mmx54a/X5ke8xqZk6fy6pNOzl0JoX0HAVrR2c8fPwJDqtE1Rr1ebp2CW6pijstujbDKW4ZhxfM58+3qhN1o+Vb40unKevwrDeB2Pnr2HnoLJczMjDa2OHoEkhEVX8CwmrRKODWKhXHxxgwdxvRS6YSO2c5m/ec4GJqJkadHU7ufgRXiqBmnRievl1/4z/X3fR6io/ittFy9ld8u2A9Ow6cIjnTiM7WBa+QKjz2xNPUKvKG2RLRZw5b6i9mylezWfbrbo5dzMBoZcDTP4yIejEE31yhwZP2k1YwK2g0X/y8mUOJaeRZOeFd8TGim1ctcTDRhnaj75OfsnNlOnYNe/P8bW7Q93c+D49teB++3xLFwq8mMWvZZvaeukyulRvBkdG07/UqAzpVx7mY5psHft9L9yyI6PsDW+svZsrX37Ni816OnU8lG2sc3P2oUK0OTZ8Muo/XVUlZNZe1qWZ0oR3oElV+0+uK0uDTeQrrPOrxZew8NsQfJjGzEuEFrbDakO7M/LUic6d8w4L1O9h/4iKp13Iwa6yxc3TG3TeIClXCqV67HRGllMY1equ/A5PWl879OuEjg1vLhaKq6iM1NEkIIe7b9Y28UacT3553pcvMnUzvUDYT5O7EfHYKbR4byhY1ig92xvFaaDkvBipEcUwJfP5kI97frRA1ZitrX7vDlsD/D5mTD7EnzYUwX3uyji1jVO9BzD2Wi4qCTe1RbF73BlWk6a9cyFABIcS/h100r772OPZqCsvGfcWfpT6Z5e7yjh/hlAkUK2983SUKiEeRyqWlY/n6zxw0Pl14q2eYhNZbmElcOJjmtSsR4ONHpUYv89Ox/J2yFF0IPd97UUJrOZLgKoT4F9EQ0vM9+oXryTsQy9DY/TzAbqMll5u/Q1nepR1MGr+QCyYFm1rR1HN4GAcX4t6oV9YxetQSknGmybBhNHeSPu9bZbFn5/6i44Y1BuoMmcaoaFlKoDxJcBVC/LvYRvHW+P5UtcriyOo4Esp8Io2ZM9M7EODhgXfF5ozelIpqU5neb/8Hf/mGFY8clSs7VvJbkopzzP/49HnZrrQIcyZWAfWoEeiKnV6L3t6dkKj2vPFtHEuH1UV+j5YvGeMqhPgXyubIbzuxjmpEUJmvV2Nk3+dt6DRuF1cVV0KjWtJzyAj6N/KW7lfxiFJJ2/crhz2jqestsVVYFgmuQgghhBDCIshPLSGEEEIIYREkuAohhBBCCIsgwVUIIYQQQlgECa5CCCGEEMIiSHAVQgghhBAWQYKrEEIIIYSwCBJchRBCCCGERZDgKoQQQgghLIIEVyGEEEIIYREkuAohhBBCCIsgwVUIIYQQQlgECa5CCCGEEMIiSHAVQgghhBAWQYKrEEIIIYSwCBJchRBCCCGERZDgKoQQQgghLIIEVyGEEEIIYREkuAohhBBCCIsgwVUIIYQQQlgECa5CCCGEEMIiSHAVQgghhBAWQYKrEEIIIYSwCBJchRBCCCGERZDgKoQQQgghLIIEVyGEEEIIYREkuAohhBBCCIsgwVUIIYQQQlgECa5CCCGEEMIiSHAVQgghhBAWQYKrEGVOxayWdw3i0WTGbC7vGoQQwnJIcBWiTBk5Pv0ZGrQbxcpT2eVdjHiUXD/CwqEteLz3PBIlvAohRIlIcBWiDBmPfcNr/4sjYdsyNpzIRhpeHyE5fzGlazX8g+rzyuJEHnZ2VDMPsXr5Lg4ufZs3fnj4xxdCCEskwVWIW5hJO76NuIUzmPjRMF4dOocE0/2+1HnmjfyELZkaAl8Yz3tNnFFKtdZHxXX++Lo/z7RqROeJBzCWdzklrMd0Ko6ffjlDeuohfp6/lesPtUZQPJ/m44864sUV4kaPYvll+VkjhBB3I8FViFtkEfe/9nTpPYiRn8QyZ/UBrt5nU1jWjkl8FpcKzi0ZPqwJhn9nagU1i8PrF7JmywES08s/tpa0Hm1Ia3q0qoiHT01e6N4Iu4dYYj4Fj/b/483H7VGTlzJu2l/kPfQahBDCskhwFaIsqFdYNeVHThp1hDw/iI7e/9bUasGsqtJnTjzHD29ifFuf8vky1ITQ/fVO+Ci5HJg5lY2Z5VGEEEJYDgmuQpQB88WlzFl7FVUfQbfno7Ap74LEI8sxpgedg7WYLy5l9ppUGQcthBB3IMFV3BfzhW3M/mwEA3t0oFmDSCoH+eDp5oKbVyBV67akx7ApbDhZzKjB3F94rYIzBoMBg8EJvxdXkXPzH3NY+3IQTgYDBoMB5+ABxOXe+DeVK3sWMnHUIHp3akGjWuGE+Hnj4eqCq2cAlaNa0HPkTHYk36GrOusMG6eN5L9t6hEe7IO7mwe+YZHEPDOIsUsSyCrmKabTX9HczVBQrwGDa11G77lbd7hKctwytmWp6Kq2oU1l7a2veWYDX703iJ7tY6hTNRgfD1dc3LwJqlyHFj3fYdrGM8XUYuLoF01wMxhwbzWlmFnoN66dM6GvbiC38DNPr2Piu4Po1bEZ9apVIMDbHRdnFzz8KlGn5X/5YOEBMu6Qlq4fX8PEN/9DTI0w/Dw98AmuwmPRnRkwdi1nb6nDyKFxjXA1FLpeLhEM3VLQAZ6zmpf8nTA4V2TQxtwixzGdmEgzNwMG9xbEni78wiaOzB/K860bElnRHy83F1w9/Khctw0vfryYhMzbFX+XekwH+KShGwaDB+2/SyomMOaQ+OsUhnRrQo1QXzw9fQmNbEK3oVPZlJhT5NFg5uKW6XzwZh+6NH+cyEqB+Li74Ozijk9YTZp2H8GsXSkUGTJtVYt2rQLQqhlsWv4L6WWQXLOPzGHI0B85VlzZQghhQXTlXYAoJcZrJF+4jMnJGx+DVZkfLi/+W4aN+ZkimSHvKucStnIuYStLZ0yl07gfie1ZFdsHPqKRw3NHMSr2TNEbvzGNC4e3sfjwdlYsWs+EFTN5PvTWj3bO8fm83m0QPyZcuyWg5F46ye41pznv24HXO1R54CrzZbHrt3iyVC3+TzSm0q25FeOf3zP6i0Vk3XLtjKReOMK2xUfYtmQmM3rG8tP4jgTrH7wa454f+HDCP48HpoyLHNm6gHHbVrP2rwWsHPXEP8bhGjm7ZDBdXp7NoWuFnpx9nuNXLpBoaMmIIYUfr6B3cMfDUKhojRfO1g96BioZ+9ez6vdjmDQ69NZ6lJxMLiT8xryPt7B640lWLXuDGkWatR+gHvUSG999hh6T4kkrlKGzT8azcko8q3+az6DZc3mviUehCXcmji4Zz/hvEv/xGTVx7dIJdi2fRHzcKnbNWsPE1l6FnqcnMuYJnL8+Rer23/kzrzMxpflfOG8/X/Z5nWn7VFZeNLPsm+ep8MDviRBClA9pcbV0aio7p/SlUcUgKkZUo0pQCI91/ZC1ieU/zUPNOs6iwc/ydtyVh9T9qZKXuIJ33pnPxUIHVK/+wvCuA4qE1psUBxo0rk1x93JF0aDVam/509xtuKrxKH/uy0RVrIiIrHrbX4caz87E7jrCmQtJJF04zcHf5/NJ90iclGscmNWPbmO2l+pMd41XV77de4JzSckkXzzDoW0L+ODpEKy4xr7JQ4ndf2tLcu5fX9Lz5dkcuq7Fu/Egpq7dw8mkFJITj7F380K+G9EGn1u+QbRUGLCI/QkJJNz4O/gLw+s8aPrWUbX3N6zZeZjES5dJSUom5cIh1n3ehVArlfQd4/lwUXIx7+391mPmzOyX+e+keNJwo96AaWw4kMil5EQObJjKgHqukLaTCb1eYsap4pacULB98jPijyVyMSmZpMSj7FrxBd0j7CHnOHOGfMrmfzSpW0fUpKoOzCl72HPmfpexuA19NV6d/B5N3M2cWzqIp1+cIy2vQgiLJcHVomWz59POtH97Pnsv56ICqimD42vH0f3pd9h49SGNltN48uyM/Zw4c4bje9YxtX8dnAo+WarxND+8P5X9pT3Z3PpJPvvzKKfPnuLAhol0CdEVtGCZSf91AXGXbpx7HnsnD2fm8fzrg6LBrcEAYlfu4OCRoxzcvYkl0yfzaoxj8acW+DKrk1NJTS34u7SNkZF36ajIO83JRBNo3AgOdLjtEliKlQfBId4429tia++Cf42WDIhdxfzXqmFDNge/+Ygfzpbe6p6K3g1ff3ccbW2wsXPGL6I5r02bQA9/LWpuAitWHfm7pVBNYenYiey+Bra13mbBgjF0axCKm60VNgZPQmo+Sbv6vg/tC8QupDZ1K/vgqM+/moqtL/X6TuDDjm5o1Ey2b4qn1LLY9c18OW4Dl1UdYS/OYOHH/yEqwIC1jYGAqG58vGAGfUJ1qKm/8ukXm4r9caFx9ibQ04CdrQ22Bi8qNe7DxGmvUU0HpvOrWLHr1h+WGo9gAu0UMJ3l5NlSDq6AfeRAflg0RsKrEMLiyVABC6amLGHshPii3fWo5B6fzcdzBhA9MPQhhAsdBg9v3J2twLke3T6Zg+lUPQauScOMSt6hZSw/NITq1Uvx46Y44unvhYs1uET14L3+c1n29lZyATX3MPuPGsFTD3nxzJt/mLyCa6T17Ubs3I9p5XIjTnrhX+Gx0qsLUNNSuJyngsYND7d7vPqKI/UHv0mrmX1YnLad5Wsv0qdvGQZEu3o81dDAdz9d5XjCUXIJxxZQ035h8YY0zIojzQf2o/ojObvMnvAaoejmpXA9OYl0FWxKYfGG7K0LWHbOhGL1OC+92rjIMmaKUzSvvliHWcO3c2HVEraPa0rTEnS966s0IyZwHH+duMThIymojXz+/lGjLfisXE3nUkoecKexAnnsmtCLMRsy7rkn47qjHcqlDBKXDqK9zoa133bBX5ovhBAWRIKrBcvbv4Pd125z61Jz2Lt1F9cGhlJ8W2IZ0vjSrksjhqxdwTUVMJ1gf0IWVC+rSjR4VwjFQbOVK2bAfJUrBYuvmpP2sve86ebjPFo8QzOXsl2aSs3Jyh9Pqthgcx9JSnGqxxPVdSz+LZeEA0cw4nvHGPNg9Pj6e6EhFePVVDJUsFXAeHQfB7NV0FUm6jHHct84wZi8i3lTpvLzhj0cTTxHcpqKg1cwAVbnMQI6Yx5GFR68UBOJ+w+QagaNfxR1fIpLdRr8atfBV7OdU6kH2X/OTNPQEqQ/rQ8BPlo4YeZqahpmfPh7+LM1tjYKoJJ1PQsV+zucipnLCb/z668PsAKBmsf5bds5aZLgKoSwLBJcLZhiY4P1HW7UOhvbcnuDbb19cFLID66qmcz0TFSKCUBqKQ1nsLYttOSUEWPB0AQ1LbXQLG0NHt4eaIs8uZRp9egBVCNG432cn8YFV2cNoBZct6JKbxCIgpWNNQqgFgp/akZ6/koDGgNOjuWbbPKOzaJH28GsOm9EVfQ4eHjjH2yLOTORQyfTS3mrVJXM9Pyx0BqDM4bbnLrG4Jw/HMacSUammRKNulKssbZWADMmo/Ef76GRPCOAgt5Kf5f8bUXdwfNY+VzevX0OzEnEjRnMpD/SUB1qMiB2GE+UwuQ/IYR4mCS4WjB9ZHOe9JnCt4nFjInTuPBUmyfKbf1Q87VMrt+8qyrY2Nnl34wVHVaFbpbG7OyiqwSUIsXBEbubKUDlSkoqZrhDeFXQFM4gqnrPIVHjaMBBo4Axg/TbLtV0B+qN5ynYO9xoeVPQ6/PH8arZWWSX4vDl4kKSYmuff93MGaRlqOBxpyillKyhU9Gh1yugZpFV0hNQk1kwcgSrzpuwrvw8E2Z8xDPVnAvePxMnJrag7sg/7q+e4ovEwTH/mpvTr952mTBzxtX81QY09jg63MPRbvdQNSM/ACs6HB3vNu5AwaVSfRpWKvlhMV9k7dChfLMzP7QO/GERY5q4yyQHIYTFke8tS2Ybw7DPe1HZ9p+D8HT4tBrNu0+7llMXbw57f9/599hbrTcVQgo21FRccHO58bFTyTuWwLEy3CVU41WZSjdmimHi4rrlbL/jVH0tdnZWN6+b+coFLmTf40Ht/Ahw04ApicTz93Fy2QfZm5AH6AirHFbw61LBycUZjQKmc6dILOOdVXWhlamgV8CYwM4/0+4c3hWrgpZEleysnNs/VnHGxUkBNZuzpy+VrKU07wDbd2WiKnY8NfQTut0MrQAKOn0xv71LWk+xtPhFVMVJA+bEeOIvFFelmfPx8Zw3g8a5KuG+pdCGn3WBxMsqaP0I9Cvl9gTzRdYO7UjPbw6QZX8vodVIyr41/PT9fDYeuffxtEIIURYkuFo0Bc+W44lbG8vgzo2oUbEC4fVa02/sEn6Z1YPQh9UNqGZycPOv7Dt7mYy0RHb/OITB3x3nRrbSeMbQLLKgGF0o1ar8PX7PeHgWH3z9O6cup5N+JYlLGaXc/mpTjzZPedz8oJtOTeel7qOZu3k/J89d4NzpBHZtmM/s9acKWn61+IcE3gxH6rV1fP3FL5xMzST90lkObtvI3uS7RC5dRcIr6VDU6xw+dOoeW5TNJC6cytIkM4o+nCeb+hXUruBYJZwALZgvbWT1H8Vtl1B6FI+mtIqyQVEziJs8lX13PJwV7p5OaDCTdPTY7RfQ14URUdkGhTz2rF7L+RL28SsKgIrZXNLoVMJ6bsP2ic6089Wi5m5n2uQtRVpd1fTfmPztTvJUDV6t2tOgFLo1jEcOcMSoolhXIjy0tDvCtOj1OjT31NJq5swPL9Ag+ln6vdKXDk804vU1D2tZOyGEuD0JrhZPg0vN7rw/YyW/x+9m+7q5fNq/MX5lvwfB39R0tozrQsOIEPwCwonpP5P9NyaNKXbU6tef6Js7ENgR3bUt3jeT5EXWjGhNjRB//IOrMWBZeinfHB156q23aHRzfa48zm34jJfaPk5k1cpUrV6Xph1f5K0pv5OmAuioFBNNwM3kmsmOzzoQGeSLf1gE9Vt2Y+ymu2wor7hTp24YWowc3RFP6u26my8u4v23p7Jm3zkycvLIunSYX6b0o/OQNVwxa/BsP5iehXbd0lXvQPsKehTTaWYMfIlJ6xNIvpaL0ZhL1tUkktNLMfRrAuk2tCehesjaPZbOnYYxe/MRkq/lYjJmkXp2HxuXbSnYwUtPtaia2CoqWRu/5P1Fh0jNNWPKSuHo5p9Zc7BglyzFhWadmuCkUbm2aTS9hs9n55mrZOUZycvJJOXCZYo0buvDqVXDFkXNYsPnI/hpTzI5hdfoNReXfktYz+3Yx/D6WzG4KEaOTetJ15HziU/MJDcng8T4+Yzs2ptvjhlRnBrz5uCm2N/3Rb7BzPmdf3DGBLrwetR2eOAXvJXGg6YfLuX335aUfHiAmsS6eetJMuVfbDXnJD/P31J6S44JIcR9kuAqyo5iRWDHz/lmYHihwdQKhhbv8ulzYaWydFFJ6Cq8yPTZg6nvpr3N0AmVvKMHOVrQRGxdbxBjng3GqrgHq7kc3n+UO/fU66ja4imCdSrXt8exKa345Koak9nx7RCeaVgVPw83vMKi6DB0HoeuKThFvcF3n3W4dWipVU1e+7QfEfaQc3IpIzrVpYKPO66u7ngFVuOV5aUb+h2j32fOuLYEWplJ3hLLwLZ1qODjjourF0ERDenQ90s2p+WPxfVo/yo9KlpDTgIze9cjyN0ZF69Qarftx8ifDxRcLwXPzmMY3dwLrZrKH7F9aVYtEC83V9w8fKnY6gv++ue+GYoXXUcOpo6jQvah2fSLroivTwBBwcEEBwUQNXIHRWNoSeu5HS0hvabw3YBaOKopbJ3Ulybhvrh7+BHepC+TtqWAU20GzvqWvmGlMExATWJD3B7yVD3hLZ4iqCxmD2pcCQ11LfkXvuKAm5tNof8vGlw83Mp+YqMQQtyFBFfx4DSORLbpTOOqfrjYW2Hj6EmF+h15PXYdm6c/R9g/W381Pjw9+RfiprxJlyeq4Otkg1ajQW9jj7NXEFVrx9Du+YGM/KAnd1vrv4QF4tlkFKv+WM+Ut7vRLDIId3srNBodNgZvwmo9ybNdG+Bx43+Dxpunv1rPivH9aV0rGDc7HRpFh62LP9WbdKFjXbe7jh3W1+xCp4o61PR1zFt5qdhAqfFqw9AxL9G6VjCudlZY2bsSENmcPh8tZOvKd2nk+s+jKDhHf8jqtdN4o1M9KnjYo9coaHQ2OLr7U6lWDO17DOTNTpVLadalLRF95rDl1xmMeL4p1f2dsdVp0du54FepDk91jSH4xok5NOaDJfMY9Z/H8+vS6rBx8iO8cUfa1TT8/ZK6MHp9v5FFH/amWQ1/nG20KIoWK3tnvEOq06DFM/R7sw8N3f4+d9vHhrBk/QyGP9eUGv4u6PMySc/MIk9xwKtCDRo82YHn2lTHsfDlKmk9t6PxotlHa9i2eCwvta5FsLs91tb2uAfXonW/cSzZtoYPmnqWyheo+fRi5m7JAutIOnes9IiEQ0favDuRfo0CMdi7UrnFECa/UR9ZhEAIUd4UVS2t9YjE/yc5K/oQ0v3n/AlYGl9eXLaP8Y0f5viER52Z01PbUW/o7xhrDGfTxreJKEiTOUt7EdhjEbl+/Vm+dxwNJQ38P5bN9uENaD35BHatviZ+7nN4lfeiuUII8QiTFlchyoSGoO5v0S1AQ+5fU/l40cVSXm9U/BuYTs3mo1knMOkq0vvNThJahRDiLiS4ClFWHKIZMqIV7qSw8r1RrLoknRuiEHMi84ePZXOGBp8uoxgU9UjuqyuEEI8UCa5ClBkNvs98wvvN3eHSVlZsTZblhMRN5sTNrNx9FcW3Ix+NboO7tLYKIcRdyc5Z4r5Yt53O+bTp5V3Go08bSPev5uN/PozoSJdy2hBCPIo0gc8x67eKbD5fkRhvaUMQQoiSkMlZQgghhBDCIsjPfCGEEEIIYREkuAohhBBCCIsgwVUIIYQQQlgECa5CCCGEEMIiSHAVQgghhBAWQYKrEEIIIYSwCBJchRBCCCGERZDgKoQQQgghLIIEVyGEEEIIYREkuAohhBBCCIsgwVUIIYQQQlgECa5CCCGEEMIiSHAVQgghhBAWQYKrEEIIIYSwCBJchRBCCCGERZDgKoQQQgghLML/AXuj4ajmggsvAAAAAElFTkSuQmCC)\n",
        "\n",
        "In this structure, \"jumps\" is the central action (root) of the sentence. The subject \"fox\" is described by the adjectives \"quick\" and \"brown,\" and is determined by \"The.\" The action \"jumps\" is further connected to the prepositional phrase \"over the lazy dog,\" where \"over\" is the preposition linking to \"dog,\" which is described by \"the\" and \"lazy.\""
      ],
      "metadata": {
        "id": "pBp8b48q7MWo"
      }
    },
    {
      "cell_type": "markdown",
      "source": [
        "#9. Bag-of-Words (BoW)\n",
        "\n",
        "**Explanation:**\n",
        "BoW is a method for representing text as a collection of word frequencies, disregarding grammar and word order but preserving count.\n",
        "\n",
        "**Example (using scikit-learn):**"
      ],
      "metadata": {
        "id": "_CmSUwPkKtR_"
      }
    },
    {
      "cell_type": "code",
      "source": [
        "from sklearn.feature_extraction.text import CountVectorizer\n",
        "\n",
        "texts = [\n",
        "    \"I love natural language processing.\",\n",
        "    \"Language processing is fascinating.\",\n",
        "    \"I love coding in Python.\"\n",
        "]\n",
        "\n",
        "vectorizer = CountVectorizer()\n",
        "bow = vectorizer.fit_transform(texts)\n",
        "print('Vocabulary:', vectorizer.get_feature_names_out())\n",
        "print(\"Bag-of-words array:\\n\", bow.toarray())"
      ],
      "metadata": {
        "colab": {
          "base_uri": "https://localhost:8080/"
        },
        "id": "VobWXSiT47_d",
        "outputId": "72a1f4bf-09b1-46d8-9dc5-c3ccdfc5b505"
      },
      "execution_count": 21,
      "outputs": [
        {
          "output_type": "stream",
          "name": "stdout",
          "text": [
            "Vocabulary: ['coding' 'fascinating' 'in' 'is' 'language' 'love' 'natural' 'processing'\n",
            " 'python']\n",
            "Bag-of-words array:\n",
            " [[0 0 0 0 1 1 1 1 0]\n",
            " [0 1 0 1 1 0 0 1 0]\n",
            " [1 0 1 0 0 1 0 0 1]]\n"
          ]
        }
      ]
    },
    {
      "cell_type": "markdown",
      "source": [
        "#10. N-grams\n",
        "\n",
        "**Explanation:**\n",
        "\n",
        "N-grams are contiguous sequences of n tokens from text. They help capture context and can be used for various NLP tasks.\n",
        "\n",
        "**Example (creating bigrams and trigrams using NLTK):**"
      ],
      "metadata": {
        "id": "tEIsYDSJkWWD"
      }
    },
    {
      "cell_type": "code",
      "source": [
        "from nltk import ngrams\n",
        "\n",
        "text = \"I love natural language processing\"\n",
        "tokens = nltk.word_tokenize(text)\n",
        "\n",
        "bigrams= list(ngrams(tokens , 2))\n",
        "trigrams= list(ngrams(tokens , 3))\n",
        "\n",
        "print(\"Bigrams:\", bigrams)\n",
        "print(\"Trigrams:\", trigrams)"
      ],
      "metadata": {
        "colab": {
          "base_uri": "https://localhost:8080/"
        },
        "id": "Dbz9jTIT9ciq",
        "outputId": "ef63f107-2f9b-467a-baca-5d7d58ef71d1"
      },
      "execution_count": 22,
      "outputs": [
        {
          "output_type": "stream",
          "name": "stdout",
          "text": [
            "Bigrams: [('I', 'love'), ('love', 'natural'), ('natural', 'language'), ('language', 'processing')]\n",
            "Trigrams: [('I', 'love', 'natural'), ('love', 'natural', 'language'), ('natural', 'language', 'processing')]\n"
          ]
        }
      ]
    },
    {
      "cell_type": "markdown",
      "source": [
        "#11. TF-IDF (Term Frequency-Inverse Document Frequency)\n",
        "\n",
        "**Explanation:**\n",
        "\n",
        "TF-IDF is a weighting method that reflects how important a word is to a document relative to a corpus. It helps down-weight common words while highlighting rare ones.\n",
        "\n",
        "**Example (using scikit-learn’s TfidfVectorizer):**"
      ],
      "metadata": {
        "id": "bGu5v4Jqkgtt"
      }
    },
    {
      "cell_type": "code",
      "source": [
        "from sklearn.feature_extraction.text import TfidfVectorizer\n",
        "\n",
        "documents = [\n",
        "    \"I love reading about natural language processing.\",\n",
        "    \"Language processing is a fascinating field.\",\n",
        "    \"Studying natural language processing can be very rewarding.\"\n",
        "]\n",
        "\n",
        "tfidf_vectorizer = TfidfVectorizer()\n",
        "tfidf_matrix = tfidf_vectorizer.fit_transform(documents)\n",
        "print(\"TF-IDF Feature Names:\", tfidf_vectorizer.get_feature_names_out())\n",
        "print(\"TF-IDF Matrix:\\n\", tfidf_matrix.toarray())\n"
      ],
      "metadata": {
        "colab": {
          "base_uri": "https://localhost:8080/"
        },
        "id": "ACV4B45f_B4G",
        "outputId": "3272130f-d243-43c8-fdbb-9e0cfc1bc7a9"
      },
      "execution_count": 24,
      "outputs": [
        {
          "output_type": "stream",
          "name": "stdout",
          "text": [
            "TF-IDF Feature Names: ['about' 'be' 'can' 'fascinating' 'field' 'is' 'language' 'love' 'natural'\n",
            " 'processing' 'reading' 'rewarding' 'studying' 'very']\n",
            "TF-IDF Matrix:\n",
            " [[0.48359121 0.         0.         0.         0.         0.\n",
            "  0.28561676 0.48359121 0.36778358 0.28561676 0.48359121 0.\n",
            "  0.         0.        ]\n",
            " [0.         0.         0.         0.52004008 0.52004008 0.52004008\n",
            "  0.30714405 0.         0.         0.30714405 0.         0.\n",
            "  0.         0.        ]\n",
            " [0.         0.39916886 0.39916886 0.         0.         0.\n",
            "  0.23575556 0.         0.30357821 0.23575556 0.         0.39916886\n",
            "  0.39916886 0.39916886]]\n"
          ]
        }
      ]
    },
    {
      "cell_type": "markdown",
      "source": [
        "#12. Similarity Score\n",
        "\n",
        "**Explanation:**\n",
        "\n",
        "Similarity scoring measures how similar two pieces of text are. Cosine similarity is a common method that compares the orientation (but not magnitude) of two vectors."
      ],
      "metadata": {
        "id": "O8oaqhZZk15o"
      }
    },
    {
      "cell_type": "code",
      "source": [
        "from sklearn.feature_extraction.text import TfidfVectorizer\n",
        "from sklearn.metrics.pairwise import cosine_similarity\n",
        "\n",
        "# Sample documents\n",
        "documents = [\n",
        "    \"I enjoy reading about NLP.\",\n",
        "    \"NLP is a fascinating field.\",\n",
        "    \"I love studying natural language processing.\"\n",
        "]\n",
        "\n",
        "# Initialize the TF-IDF Vectorizer without removing stop words\n",
        "tfidf_vectorizer = TfidfVectorizer(stop_words=None)\n",
        "\n",
        "# Fit and transform the documents into a TF-IDF matrix\n",
        "tfidf_matrix = tfidf_vectorizer.fit_transform(documents)\n",
        "\n",
        "# Calculate cosine similarity between Document 1 and Document 2\n",
        "sim_score_doc1_doc2 = cosine_similarity(tfidf_matrix[0:1], tfidf_matrix[1:2])\n",
        "\n",
        "# Calculate cosine similarity between Document 1 and Document 3\n",
        "sim_score_doc1_doc3 = cosine_similarity(tfidf_matrix[0:1], tfidf_matrix[2:3])\n",
        "\n",
        "# Print the cosine similarity scores\n",
        "print(\"Cosine Similarity between Document 1 and Document 2:\", sim_score_doc1_doc2[0][0])\n",
        "print(\"Cosine Similarity between Document 1 and Document 3:\", sim_score_doc1_doc3[0][0])\n"
      ],
      "metadata": {
        "colab": {
          "base_uri": "https://localhost:8080/"
        },
        "id": "XMeNsPJdBFBJ",
        "outputId": "de944d32-57c1-48bc-a9cb-c46993c1bcaf"
      },
      "execution_count": 30,
      "outputs": [
        {
          "output_type": "stream",
          "name": "stdout",
          "text": [
            "Cosine Similarity between Document 1 and Document 2: 0.16163635792525347\n",
            "Cosine Similarity between Document 1 and Document 3: 0.0\n"
          ]
        }
      ]
    },
    {
      "cell_type": "markdown",
      "source": [
        "#hardcoded"
      ],
      "metadata": {
        "id": "LdIGbviLk-Zu"
      }
    },
    {
      "cell_type": "code",
      "source": [
        "import math\n",
        "a=[1,2,3]\n",
        "b=[2,3,4]\n",
        "\n",
        "dot_product = sum(i*j for i,j in zip(a,b))\n",
        "\n",
        "magnitute_a= math.sqrt(sum(i**2 for i in a))\n",
        "magnitute_b= math.sqrt(sum(j**2 for j in b))\n",
        "\n",
        "\n",
        "similar_score = dot_product/(magnitude_a*magnitude_b)\n",
        "print(similar_score)"
      ],
      "metadata": {
        "colab": {
          "base_uri": "https://localhost:8080/"
        },
        "id": "F_ty9q_kE7Qr",
        "outputId": "7ac36c74-e863-4bf1-b0a6-67bab75229c9"
      },
      "execution_count": 41,
      "outputs": [
        {
          "output_type": "stream",
          "name": "stdout",
          "text": [
            "0.9925833339709303\n"
          ]
        }
      ]
    }
  ]
}
